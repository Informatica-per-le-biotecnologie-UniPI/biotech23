{
  "cells": [
    {
      "cell_type": "markdown",
      "id": "58507bc0-9e8b-45ee-a699-956a6408b801",
      "metadata": {
        "id": "58507bc0-9e8b-45ee-a699-956a6408b801"
      },
      "source": [
        "# Dunders\n",
        "\n",
        "I tipi primitivi, e.g., `int` hanno a disposizione diversi operatori, e.g., `+` o `==`, ma lo stesso non vale per le classi che definiamo noi. Python offre un insieme di metodi *dunder* che noi possiamo implementare per rendere i nostri tipi utilizzabili con gli operatori classici, e.g.,\n",
        "\n",
        "- `+`, `-`, `*`, `/`\n",
        "- `==`, `!=`\n",
        "- `>=, <=, >, <`\n",
        "- `~`\n",
        "- `[key]`\n",
        "\n",
        "Esempio: per creare un `set` di `Bacteria`, ogni batterio deve essere diverso dagli altri: come verificarlo? Abbiamo bisogno di sapere se, per due batteri `a`, `b`, `a == b`. Ma essendo di un tipo che abbiamo definito noi, Python non sa come come implemenetare `==`.\n",
        "\n",
        "*[Reference online](https://docs.python.org/3/reference/datamodel.html)*"
      ]
    },
    {
      "cell_type": "markdown",
      "id": "a2c1cdb4-1fd4-4254-b99f-78d2c5edd089",
      "metadata": {
        "id": "a2c1cdb4-1fd4-4254-b99f-78d2c5edd089"
      },
      "source": [
        "## `==`"
      ]
    },
    {
      "cell_type": "code",
      "execution_count": null,
      "id": "2d248e1c-212b-4db5-96b3-051f8c0aa62e",
      "metadata": {
        "id": "2d248e1c-212b-4db5-96b3-051f8c0aa62e",
        "outputId": "bb88bd85-6e7e-47c4-f52e-e67b26f7028f"
      },
      "outputs": [
        {
          "data": {
            "text/plain": [
              "(True, False)"
            ]
          },
          "execution_count": 3,
          "metadata": {},
          "output_type": "execute_result"
        }
      ],
      "source": [
        "class Bacteria:\n",
        "    def __init__(self, genome: str):\n",
        "        self.genome = genome\n",
        "\n",
        "    def __eq__(self, other):\n",
        "        return isinstance(other, Bacteria) and self.genome == other.genome\n",
        "\n",
        "genome = \"ACGTGGTCA\"\n",
        "other_genome = \"CGTCA\"\n",
        "a, b, c = Bacteria(genome), Bacteria(genome), Bacteria(other_genome)\n",
        "\n",
        "a == b, a == c"
      ]
    },
    {
      "cell_type": "markdown",
      "id": "33df7969-4461-4424-855c-bb670b9ac57a",
      "metadata": {
        "id": "33df7969-4461-4424-855c-bb670b9ac57a"
      },
      "source": [
        "## `+, -, *, /`\n",
        "*[Reference online](https://docs.python.org/3/reference/datamodel.html#object.__add__)*"
      ]
    },
    {
      "cell_type": "code",
      "execution_count": null,
      "id": "0bd071d5-7c86-4bf3-8f36-d6aab81826f3",
      "metadata": {
        "id": "0bd071d5-7c86-4bf3-8f36-d6aab81826f3",
        "outputId": "c6fa16a2-53f8-43b0-b08e-6cbd5b02d922"
      },
      "outputs": [
        {
          "data": {
            "text/plain": [
              "'ACGTGGTCACGTCA'"
            ]
          },
          "execution_count": 7,
          "metadata": {},
          "output_type": "execute_result"
        }
      ],
      "source": [
        "class Genome:\n",
        "    def __init__(self, genome: str):\n",
        "        self.genome = genome\n",
        "\n",
        "    def __add__(self, other):\n",
        "        \"\"\"Concatena questo e l'altro genoma.\"\"\"\n",
        "        return Genome(self.genome + other.genome)\n",
        "\n",
        "genome = \"ACGTGGTCA\"\n",
        "other_genome = \"CGTCA\"\n",
        "genome_obj, other_genome_obj = Genome(genome), Genome(other_genome)\n",
        "\n",
        "joined_genome = genome_obj + other_genome_obj\n",
        "joined_genome.genome"
      ]
    },
    {
      "cell_type": "markdown",
      "id": "1b69cc59-1e34-4da8-83c6-81c5ae3bb6f2",
      "metadata": {
        "id": "1b69cc59-1e34-4da8-83c6-81c5ae3bb6f2"
      },
      "source": [
        "## `~`\n",
        "*[Reference online](https://docs.python.org/3/reference/datamodel.html#object.__invert__)*"
      ]
    },
    {
      "cell_type": "code",
      "execution_count": null,
      "id": "4b402727-8e9d-44e8-85d1-563547e5fb12",
      "metadata": {
        "id": "4b402727-8e9d-44e8-85d1-563547e5fb12",
        "outputId": "67468f41-bd23-4aa8-a6b6-1904c188c09c"
      },
      "outputs": [
        {
          "data": {
            "text/plain": [
              "['T', 'G', 'C', 'A', 'C', 'C', 'A', 'G', 'T']"
            ]
          },
          "execution_count": 14,
          "metadata": {},
          "output_type": "execute_result"
        }
      ],
      "source": [
        "class Genome:\n",
        "    def __init__(self, genome: str):\n",
        "        self.genome = genome\n",
        "\n",
        "    def complement(self, base: str) -> str:\n",
        "        return \"T\" if base == \"A\" else\\\n",
        "            \"A\" if base == \"T\" else\\\n",
        "            \"C\" if base == \"G\" else\\\n",
        "            \"G\"\n",
        "\n",
        "\n",
        "    def __invert__(self):\n",
        "        \"\"\"Complemento del genoma.\"\"\"\n",
        "        return Genome([self.complement(base) for base in self.genome])\n",
        "\n",
        "\n",
        "genome = \"ACGTGGTCA\"\n",
        "genome_obj = Genome(genome)\n",
        "(~genome_obj).genome"
      ]
    },
    {
      "cell_type": "markdown",
      "id": "766e1600-76e0-4d14-acb4-b1691c9c03b8",
      "metadata": {
        "id": "766e1600-76e0-4d14-acb4-b1691c9c03b8"
      },
      "source": [
        "## `[]`\n",
        "*[Reference online](https://docs.python.org/3/reference/datamodel.html#object.__getitem__)*"
      ]
    },
    {
      "cell_type": "code",
      "execution_count": null,
      "id": "083259d8-0b36-4a3e-9635-195aaaaf0c42",
      "metadata": {
        "id": "083259d8-0b36-4a3e-9635-195aaaaf0c42",
        "outputId": "42f4fbf8-3daf-49ba-e07f-e9be04d24eb9"
      },
      "outputs": [
        {
          "data": {
            "text/plain": [
              "'T'"
            ]
          },
          "execution_count": 17,
          "metadata": {},
          "output_type": "execute_result"
        }
      ],
      "source": [
        "class Genome:\n",
        "    def __init__(self, genome: str):\n",
        "        self.genome = genome\n",
        "\n",
        "    def __getitem__(self, key):\n",
        "        return self.genome[key]\n",
        "\n",
        "\n",
        "genome = \"ACGTGGTCA\"\n",
        "genome_obj = Genome(genome)\n",
        "genome_obj[3]"
      ]
    },
    {
      "cell_type": "markdown",
      "id": "39de5238-ade2-4073-b72f-697210ca863c",
      "metadata": {
        "id": "39de5238-ade2-4073-b72f-697210ca863c"
      },
      "source": [
        "## `in`"
      ]
    },
    {
      "cell_type": "code",
      "execution_count": null,
      "id": "0e2108de-2739-415a-8d8a-0d2c28a3261f",
      "metadata": {
        "id": "0e2108de-2739-415a-8d8a-0d2c28a3261f",
        "outputId": "f97629eb-925a-4a91-9de5-6c67d991fab2"
      },
      "outputs": [
        {
          "data": {
            "text/plain": [
              "True"
            ]
          },
          "execution_count": 22,
          "metadata": {},
          "output_type": "execute_result"
        }
      ],
      "source": [
        "class Genome:\n",
        "    def __init__(self, genome: str):\n",
        "        self.genome = genome\n",
        "\n",
        "    def __contains__(self, key):\n",
        "        return key in self.genome\n",
        "\n",
        "\n",
        "genome = \"ACGTGGTCA\"\n",
        "genome_obj = Genome(genome)\n",
        "\"ACG\" in genome_obj"
      ]
    },
    {
      "cell_type": "markdown",
      "id": "5edff1e4-a8ce-4834-a600-82c98419b13e",
      "metadata": {
        "id": "5edff1e4-a8ce-4834-a600-82c98419b13e"
      },
      "source": [
        "---"
      ]
    },
    {
      "cell_type": "markdown",
      "id": "bdb18f5a-aa52-4aa1-b2a5-70e4eddb1c47",
      "metadata": {
        "id": "bdb18f5a-aa52-4aa1-b2a5-70e4eddb1c47"
      },
      "source": [
        "# Inheritance\n",
        "\n",
        "Come per gli organismi, le classi possono avere dei rapporti di ereditarietà, e.g., un `Dinosauro` è un `Arcosauro`, che a sua volta è un `Vertebrato`. Questi rapporti sono anche detti \"di estensione\". Una classe `B` (e quindi tutti gli oggetti di tipo `B`) che estende una classe `A`, eredita:\n",
        "- tipo: se per un oggetto `b` di tipo `B` usiamo `isinstance(b, A)` avremo `True`\n",
        "- metodi e campi: se `A` definisce un metodo `synthesize_hormone()`, allora anche in oggetti di tipo `B` potremo invocare `b.synthesize_hormone`\n",
        "\n",
        "In fase di definizione classe, indichiamo:\n",
        "```python\n",
        "class Ereditante(Padre):\n",
        "```"
      ]
    },
    {
      "cell_type": "code",
      "execution_count": null,
      "id": "6d400a4d-2258-4219-bce7-9217f90c2432",
      "metadata": {
        "id": "6d400a4d-2258-4219-bce7-9217f90c2432",
        "outputId": "869cc48c-852f-40d4-e022-58db1d185e07"
      },
      "outputs": [
        {
          "name": "stdout",
          "output_type": "stream",
          "text": [
            "Hello! I am A\n",
            "Hello! I am B\n"
          ]
        }
      ],
      "source": [
        "class A:\n",
        "    def greet(self):\n",
        "        return \"Hello!\"\n",
        "\n",
        "    def who(self):\n",
        "        return f\"{self.greet()} I am A\"\n",
        "\n",
        "class B(A):\n",
        "    def who(self):\n",
        "        # self.greet() viene ereditato da A!\n",
        "        return f\"{self.greet()} I am B\"\n",
        "\n",
        "\n",
        "a = A()\n",
        "b = B()\n",
        "print(a.who())\n",
        "print(b.who())"
      ]
    },
    {
      "cell_type": "markdown",
      "id": "a370faf7-e517-48a3-a60b-651462a96d77",
      "metadata": {
        "id": "a370faf7-e517-48a3-a60b-651462a96d77"
      },
      "source": [
        "## Inheritance e overload\n",
        "\n",
        "Non dobbiamo necessariamente lasciarci definire dai nostri padri! Una classe che estende può sovrascrivere metodi e campi: questo fenomeno vien detto \"overloading\" in quanto stiamo dando diverse definizioni a uno stesso nome (il metodo/campo che stiamo sovrascrivendo)."
      ]
    },
    {
      "cell_type": "code",
      "execution_count": null,
      "id": "0176fc02-aae7-4ca9-8b97-c4d23aad1fd9",
      "metadata": {
        "id": "0176fc02-aae7-4ca9-8b97-c4d23aad1fd9",
        "outputId": "93d78fb5-a894-4aed-9ede-6cd0c6f93804"
      },
      "outputs": [
        {
          "name": "stdout",
          "output_type": "stream",
          "text": [
            "I salute thee, fellow chap! I am C\n",
            "Hi, buddy! I am D\n"
          ]
        }
      ],
      "source": [
        "class C:\n",
        "    def greet(self):\n",
        "        return \"I salute thee, fellow chap!\"\n",
        "\n",
        "    def who(self):\n",
        "        return f\"{self.greet()} I am C\"\n",
        "\n",
        "class D(A):\n",
        "    def greet(self):\n",
        "        return \"Hi, buddy!\"\n",
        "\n",
        "    def who(self):\n",
        "        # self.greet() viene ereditato da C, ma sovrascritto (overloaded)!\n",
        "        return f\"{self.greet()} I am D\"\n",
        "\n",
        "\n",
        "c = C()\n",
        "d = D()\n",
        "print(c.who())\n",
        "print(d.who())"
      ]
    },
    {
      "cell_type": "markdown",
      "id": "db6ce8cd-6625-466a-be8b-f207421aff65",
      "metadata": {
        "id": "db6ce8cd-6625-466a-be8b-f207421aff65"
      },
      "source": [
        "## Overloading... ma non troppo\n",
        "\n",
        "Anche se facciamo overload, possiamo comunque accedere alle definizioni dei padri con `super`. `super` ci permette, e.g.,\n",
        "- di invocare il costruttore del padre: `super()`\n",
        "- di accedere a campi e metodi ereditati: `super.synthetisazion_start_codon`, `super.synthesize_atp()`\n",
        "\n",
        "In un caso invocare metodi del padre è obbligatorio: nel costruttore. Quando definiamo il costruttore di una classe che eredita, dobbiamo invocare come prima istruzione il costruttore del padre: `super().__init__()`"
      ]
    },
    {
      "cell_type": "code",
      "execution_count": null,
      "id": "69836bcf-63b2-48cc-9dc7-aa01730eda41",
      "metadata": {
        "id": "69836bcf-63b2-48cc-9dc7-aa01730eda41",
        "outputId": "80e90cbb-317c-47ad-f5c0-01f3406f586a"
      },
      "outputs": [
        {
          "name": "stdout",
          "output_type": "stream",
          "text": [
            "Does the hagfish have vertebrae? False\n",
            "Does the lamprey have vertebrae? True\n"
          ]
        }
      ],
      "source": [
        "class Vertebrate:\n",
        "    def __init__(self, has_vertebrae: bool = True):\n",
        "        self.has_vertebrae = has_vertebrae\n",
        "\n",
        "class Myxini(Vertebrate):\n",
        "    def __init__(self):\n",
        "        super().__init__(has_vertebrae = False)\n",
        "        self.habitat = \"deep sea\"\n",
        "\n",
        "class Lamprey(Vertebrate):\n",
        "    def __init__(self):\n",
        "        super().__init__(has_vertebrae = True)\n",
        "        self.habitat = \"deep sea\"\n",
        "\n",
        "hagfish = Myxini()\n",
        "lamprey = Lamprey()\n",
        "\n",
        "print(f\"Does the hagfish have vertebrae? {hagfish.has_vertebrae}\")\n",
        "print(f\"Does the lamprey have vertebrae? {lamprey.has_vertebrae}\")"
      ]
    },
    {
      "cell_type": "markdown",
      "id": "f3f704ee-d75c-4b05-b65b-95bd8fdc6798",
      "metadata": {
        "id": "f3f704ee-d75c-4b05-b65b-95bd8fdc6798"
      },
      "source": [
        "**Nota!** Non accediamo direttamente a *campi* del padre, ma possiamo accedere ai metodi della classe da cui stiamo ereditando:\n",
        "- `super()`: usando `super().metodo(...)`, che funziona solo a un livello. Accediamo al padre, ma non agli antenati precedenti\n",
        "- `Name.metodo(self, ...)`: usando `Name.metodo(self, ...)`, che funziona ad ogni livello.\n",
        "\n",
        "La prima è preferibile per leggibilità del codice. In generale, se stiamo facendo overload a cascata che richiedono invocazioni all'indietro, fermiamoci a pensare se possiamo migliorare direttamente le classi."
      ]
    },
    {
      "cell_type": "code",
      "execution_count": null,
      "id": "93eba772-4b58-4e41-920a-cda23cbfc8d2",
      "metadata": {
        "id": "93eba772-4b58-4e41-920a-cda23cbfc8d2",
        "outputId": "3ea04a65-897f-476a-a99a-d52846addc07"
      },
      "outputs": [
        {
          "name": "stdout",
          "output_type": "stream",
          "text": [
            "RiverLamprey, child of Lamprey, grandchild of Vertebrate\n",
            "RiverLamprey, child of Lamprey\n"
          ]
        }
      ],
      "source": [
        "class Vertebrate:\n",
        "    def __init__(self, has_vertebrae: bool = True):\n",
        "        self.has_vertebrae = has_vertebrae\n",
        "\n",
        "    def greet(self):\n",
        "        return \"Vertebrate\"\n",
        "\n",
        "class Myxini(Vertebrate):\n",
        "    def __init__(self):\n",
        "        super().__init__(has_vertebrae = False)\n",
        "        self.habitat = \"deep sea\"\n",
        "\n",
        "    def greet(self):\n",
        "        return \"Myxini\"\n",
        "\n",
        "class Lamprey(Vertebrate):\n",
        "    def __init__(self):\n",
        "        super().__init__(has_vertebrae = True)\n",
        "        self.habitat = \"deep sea\"\n",
        "\n",
        "    def greet(self):\n",
        "        return \"Lamprey\"\n",
        "\n",
        "class RiverLamprey(Lamprey):\n",
        "    def __init__(self):\n",
        "        super().__init__()\n",
        "        self.habitat = \"rivers\"\n",
        "\n",
        "    def greet(self):\n",
        "        return f\"RiverLamprey, child of {Lamprey.greet(self)}, grandchild of {Vertebrate.greet(self)}\"\n",
        "\n",
        "    def greet_with_super(self):\n",
        "        return f\"RiverLamprey, child of {super().greet()}\"\n",
        "\n",
        "river_lamprey = RiverLamprey()\n",
        "print(river_lamprey.greet())\n",
        "print(river_lamprey.greet_with_super())"
      ]
    },
    {
      "cell_type": "markdown",
      "id": "851640c0-b312-45a3-8840-15c688deaa32",
      "metadata": {
        "id": "851640c0-b312-45a3-8840-15c688deaa32"
      },
      "source": [
        "---"
      ]
    },
    {
      "cell_type": "markdown",
      "id": "c23a838f-f722-4173-9950-047c7743ed03",
      "metadata": {
        "id": "c23a838f-f722-4173-9950-047c7743ed03"
      },
      "source": [
        "# Up to you!"
      ]
    },
    {
      "cell_type": "markdown",
      "id": "adc3707c-9411-4591-98d8-21906903ec80",
      "metadata": {
        "id": "adc3707c-9411-4591-98d8-21906903ec80"
      },
      "source": [
        "`str()` e' una funzione di casting che trasforma il dato oggetto in una stringa, se possibile. Il cast puo' avvenire se l'oggetto implementa un dunder specifico: quale? Cerca nella [documentazione](https://docs.python.org/3/reference/datamodel.html), e implementalo per la classe `Genome`."
      ]
    },
    {
      "cell_type": "code",
      "execution_count": null,
      "id": "1b0f274b-707b-4fcd-aa64-ba2d3d8e8b93",
      "metadata": {
        "id": "1b0f274b-707b-4fcd-aa64-ba2d3d8e8b93",
        "outputId": "4076fbca-a550-4ef5-f12a-1039dbbba015"
      },
      "outputs": [
        {
          "data": {
            "text/plain": [
              "2"
            ]
          },
          "execution_count": 19,
          "metadata": {},
          "output_type": "execute_result"
        }
      ],
      "source": []
    },
    {
      "cell_type": "code",
      "execution_count": null,
      "id": "21967c7e-b657-4bde-9272-9e4a8dac2947",
      "metadata": {
        "id": "21967c7e-b657-4bde-9272-9e4a8dac2947"
      },
      "outputs": [],
      "source": [
        "genome = \"ACGTGGTCA\"\n",
        "genome_obj = Genome(genome)\n",
        "str(genome_obj)"
      ]
    },
    {
      "cell_type": "markdown",
      "id": "610a0735-6354-4d7e-8074-28ae106d03bc",
      "metadata": {
        "id": "610a0735-6354-4d7e-8074-28ae106d03bc"
      },
      "source": [
        "`in` e' un operatore che ci permette di dire se un oggetto e' in una collezione. Implementa una classe `GenomeBank` che definisce una collezione di genomi, e che in cui possiamo cercare un genoma specifico con `in`."
      ]
    },
    {
      "cell_type": "code",
      "execution_count": null,
      "id": "bb3a6587-e496-4499-8fe6-d6d7d47b33c2",
      "metadata": {
        "id": "bb3a6587-e496-4499-8fe6-d6d7d47b33c2"
      },
      "outputs": [],
      "source": [
        "import random\n",
        "\n",
        "\n",
        "def random_genome() -> str:\n",
        "    return random.choices(\"ACGT\", k=25)\n",
        "\n",
        "\n",
        "genomes = [random_genome()\n",
        "           for _ in range(100)]\n",
        "genome_objs = [Genome(genome)\n",
        "               for genome in genomes]\n",
        "bank = GenomeBank(genome_objs)\n",
        "\n",
        "print(\"ACGTZZA\" in bank)\n",
        "print(all([obj in bank for obj in genome_objs]))"
      ]
    }
  ],
  "metadata": {
    "kernelspec": {
      "display_name": "Python 3 (ipykernel)",
      "language": "python",
      "name": "python3"
    },
    "language_info": {
      "codemirror_mode": {
        "name": "ipython",
        "version": 3
      },
      "file_extension": ".py",
      "mimetype": "text/x-python",
      "name": "python",
      "nbconvert_exporter": "python",
      "pygments_lexer": "ipython3",
      "version": "3.10.12"
    },
    "colab": {
      "provenance": []
    }
  },
  "nbformat": 4,
  "nbformat_minor": 5
}