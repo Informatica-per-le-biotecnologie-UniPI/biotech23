{
 "cells": [
  {
   "cell_type": "markdown",
   "id": "c59dc3d5-c808-4f0c-89c5-273f1377a28c",
   "metadata": {},
   "source": [
    "# Interfaces\n",
    "Una *interfaccia* definisce un tipo di dato \"astratto\" che delinea classi... che non possono esistere perche' astratte: vanno *implementate*.\n",
    "\n",
    "[Reference](https://docs.python.org/3/library/abc.html)"
   ]
  },
  {
   "cell_type": "code",
   "execution_count": 1,
   "id": "76c118d9-5b2e-4781-a680-9831d27d969c",
   "metadata": {},
   "outputs": [],
   "source": [
    "from abc import ABC, abstractmethod\n",
    "\n",
    "class Protein:\n",
    "    def __init__(polypeptidic_chain: str):\n",
    "        self.chain = polypeptidic_chain\n",
    "\n",
    "class Enzyme(ABC):\n",
    "    @abstractmethod\n",
    "    def catalyze(arguments: dict):\n",
    "        pass"
   ]
  },
  {
   "cell_type": "markdown",
   "id": "17c06794-da30-495f-9e2a-8408ad489415",
   "metadata": {},
   "source": [
    "Un enzima e' una classe **astratta**: non puo' esistere un oggetto unicamente di tipo `Enzyme`, ma possiamo creare classi che implementano tutti i suoi metodi astratti (annotati con `abstractmethod`).\n",
    "Nota: una classe che implementa una classe astratta **deve** implementare tutti i metodi astratti."
   ]
  },
  {
   "cell_type": "code",
   "execution_count": null,
   "id": "28b224b3-2229-47b9-920c-4e80973bd3a2",
   "metadata": {},
   "outputs": [],
   "source": [
    "class Helicase(Enzyme):\n",
    "    def complement(dna: str) -> str:\n",
    "        ...\n",
    "    \n",
    "    def catalyze(arguments: dict):\n",
    "        dna = arguments[\"dna\"]\n",
    "        strand_5_to_3 = dna\n",
    "        strand_3_to_5 = self.complement(dna)\n",
    "\n",
    "        return strand_3_to_5, strand_5_to_3"
   ]
  },
  {
   "cell_type": "markdown",
   "id": "448193de-48e8-432b-8727-b7ec95295a1a",
   "metadata": {},
   "source": [
    "Abbiamo gia' usato le interfacce senza saperlo!\n",
    "\n",
    "Quando invochiamo il `for` su una collezione, dobbiamo prendere ogni volta l'elemento successivo.\n",
    "Da che tipi di oggetti possiamo prendere il prossimo elemento da un tipo arbitrario?\n",
    "Da tutti gli oggetti che permettono di farlo.\n",
    "Quali oggetti lo permettono?\n",
    "Quelli che implementano una interfaccia `Iterable`!\n",
    "\n",
    "Le interfacce definiscono classi per **comportamento**, le classi per **estensione**."
   ]
  },
  {
   "cell_type": "code",
   "execution_count": 10,
   "id": "8b1abe33-6773-4177-9fd4-552a010eca8b",
   "metadata": {},
   "outputs": [
    {
     "data": {
      "text/plain": [
       "(30, True, 6)"
      ]
     },
     "execution_count": 10,
     "metadata": {},
     "output_type": "execute_result"
    }
   ],
   "source": [
    "from abc import abstractmethod\n",
    "from collections.abc import Sequence\n",
    "\n",
    "\n",
    "class Colony(Sequence):\n",
    "    def __init__(self, elements):\n",
    "        self.elements = elements\n",
    "    \n",
    "    def __getitem__(self, key):\n",
    "        return self.elements[key]\n",
    "\n",
    "    def __len__(self):\n",
    "        return len(self.elements)\n",
    "\n",
    "    def __index__(self, element):\n",
    "        return self.elements.index(element)\n",
    "\n",
    "    def __contains__(self, element):\n",
    "        return element in self.elements\n",
    "\n",
    "\n",
    "g = Colony([30, 4, 6, 34, 12, 78])\n",
    "g[0], 6 in g, len(g)"
   ]
  },
  {
   "cell_type": "markdown",
   "id": "4f57be1b-039a-40d2-9a02-1271eaf3e4e0",
   "metadata": {},
   "source": [
    "## Duck typing\n",
    "\n",
    "> Se cammina come una papera, fa `QUACK` come una papera, allora e' una papera.\n",
    "\n",
    "Duck typing estremizza il concetto di astrazione rimuovendo completamente le classi astratte: se un oggetto implementa dei metodi dati, e ha dei campi dati, allora implementa un interfaccia.\n",
    "Questo pero' non viene riconosciuto da Python!"
   ]
  },
  {
   "cell_type": "code",
   "execution_count": 12,
   "id": "789d66bc-5793-4b09-9b3a-4a7e60038ad1",
   "metadata": {},
   "outputs": [],
   "source": [
    "class Seagull:\n",
    "    def __init__(self):\n",
    "        self.position = \"ground\"\n",
    "    \n",
    "    def fly(self):\n",
    "        self.position = \"fly\"\n",
    "\n",
    "    def land(self):\n",
    "        self.position = \"ground\"\n",
    "    \n",
    "\n",
    "class Pidgeon:\n",
    "    def __init__(self):\n",
    "        self.position = \"ground\"\n",
    "    \n",
    "    def fly(self):\n",
    "        self.position = \"fly\"\n",
    "\n",
    "    def land(self):\n",
    "        self.position = \"ground\"\n",
    "\n",
    "\n",
    "class Penguin:\n",
    "    def __init__(self):\n",
    "        self.position = \"ground\"\n",
    "    \n",
    "    def fly(self):\n",
    "        self.position = \"ground\"\n",
    "\n",
    "    def land(self):\n",
    "        self.position = \"ground\"\n",
    "\n",
    "\n",
    "class Bird(ABC):\n",
    "    @abstractmethod\n",
    "    def fly(self):\n",
    "        pass\n",
    "\n",
    "    @abstractmethod\n",
    "    def land(self):\n",
    "        pass"
   ]
  },
  {
   "cell_type": "code",
   "execution_count": 14,
   "id": "d806501e-f20a-4f2d-b44d-537bbf829053",
   "metadata": {},
   "outputs": [
    {
     "data": {
      "text/plain": [
       "'ground'"
      ]
     },
     "execution_count": 14,
     "metadata": {},
     "output_type": "execute_result"
    }
   ],
   "source": [
    "happy_feet = Penguin()\n",
    "happy_feet.fly()\n",
    "happy_feet.position"
   ]
  },
  {
   "cell_type": "code",
   "execution_count": 15,
   "id": "3f95cb85-52b6-4f55-84bf-841b8459340a",
   "metadata": {},
   "outputs": [
    {
     "data": {
      "text/plain": [
       "True"
      ]
     },
     "execution_count": 15,
     "metadata": {},
     "output_type": "execute_result"
    }
   ],
   "source": [
    "isinstance(happy_feet, Penguin)"
   ]
  },
  {
   "cell_type": "code",
   "execution_count": 16,
   "id": "a0981888-0f77-4bcf-8188-b159a6c0f6a2",
   "metadata": {},
   "outputs": [
    {
     "data": {
      "text/plain": [
       "False"
      ]
     },
     "execution_count": 16,
     "metadata": {},
     "output_type": "execute_result"
    }
   ],
   "source": [
    "isinstance(happy_feet, Bird)"
   ]
  },
  {
   "cell_type": "markdown",
   "id": "ee3b184f-5e3e-4a77-b7e6-f867e8b73460",
   "metadata": {},
   "source": [
    "---"
   ]
  },
  {
   "cell_type": "markdown",
   "id": "1dbed9b3-8d71-480b-a942-77276df5dc67",
   "metadata": {},
   "source": [
    "# Eccezioni\n",
    "\n",
    "Per inclusivita', abbiamo fornito un metodo `fly()` al `Penguin`.\n",
    "Tuttavia, un pinguino non vola, dovessimo cercare di farlo volare, vorremmo un modo per far fallire il tentativo."
   ]
  },
  {
   "cell_type": "code",
   "execution_count": 17,
   "id": "0d8fc223-b06a-46d6-a5b6-18f78b1170cb",
   "metadata": {},
   "outputs": [],
   "source": [
    "class Bird(ABC):\n",
    "    @abstractmethod\n",
    "    def fly(self):\n",
    "        pass\n",
    "\n",
    "    @abstractmethod\n",
    "    def land(self):\n",
    "        pass\n",
    "\n",
    "class Seagull(Bird):\n",
    "    def __init__(self):\n",
    "        self.position = \"ground\"\n",
    "    \n",
    "    def fly(self):\n",
    "        self.position = \"fly\"\n",
    "\n",
    "    def land(self):\n",
    "        self.position = \"ground\"\n",
    "    \n",
    "\n",
    "class Pidgeon(Bird):\n",
    "    def __init__(self):\n",
    "        self.position = \"ground\"\n",
    "    \n",
    "    def fly(self):\n",
    "        self.position = \"fly\"\n",
    "\n",
    "    def land(self):\n",
    "        self.position = \"ground\"\n",
    "\n",
    "\n",
    "class Penguin(Bird):\n",
    "    def __init__(self):\n",
    "        self.position = \"ground\"\n",
    "    \n",
    "    def fly(self):\n",
    "        raise ValueError(f\"Tentativo di volo, ma sono un pinguino :(\")\n",
    "\n",
    "    def land(self):\n",
    "        self.position = \"ground\""
   ]
  },
  {
   "cell_type": "code",
   "execution_count": 19,
   "id": "08a6f8af-1334-4d26-8ef3-0d1baeb8d1ee",
   "metadata": {},
   "outputs": [
    {
     "ename": "ValueError",
     "evalue": "Tentativo di volo, ma sono un pinguino :(",
     "output_type": "error",
     "traceback": [
      "\u001b[0;31m---------------------------------------------------------------------------\u001b[0m",
      "\u001b[0;31mValueError\u001b[0m                                Traceback (most recent call last)",
      "Cell \u001b[0;32mIn[19], line 6\u001b[0m\n\u001b[1;32m      4\u001b[0m carlo\u001b[38;5;241m.\u001b[39mfly()\n\u001b[1;32m      5\u001b[0m carlo\u001b[38;5;241m.\u001b[39mland()\n\u001b[0;32m----> 6\u001b[0m \u001b[43mhappy_feet\u001b[49m\u001b[38;5;241;43m.\u001b[39;49m\u001b[43mfly\u001b[49m\u001b[43m(\u001b[49m\u001b[43m)\u001b[49m\n\u001b[1;32m      7\u001b[0m happy_feet\u001b[38;5;241m.\u001b[39mland()\n",
      "Cell \u001b[0;32mIn[17], line 37\u001b[0m, in \u001b[0;36mPenguin.fly\u001b[0;34m(self)\u001b[0m\n\u001b[1;32m     36\u001b[0m \u001b[38;5;28;01mdef\u001b[39;00m \u001b[38;5;21mfly\u001b[39m(\u001b[38;5;28mself\u001b[39m):\n\u001b[0;32m---> 37\u001b[0m     \u001b[38;5;28;01mraise\u001b[39;00m \u001b[38;5;167;01mValueError\u001b[39;00m(\u001b[38;5;124mf\u001b[39m\u001b[38;5;124m\"\u001b[39m\u001b[38;5;124mTentativo di volo, ma sono un pinguino :(\u001b[39m\u001b[38;5;124m\"\u001b[39m)\n",
      "\u001b[0;31mValueError\u001b[0m: Tentativo di volo, ma sono un pinguino :("
     ]
    }
   ],
   "source": [
    "happy_feet = Penguin()\n",
    "carlo = Pidgeon()\n",
    "\n",
    "carlo.fly()\n",
    "carlo.land()\n",
    "happy_feet.fly()\n",
    "happy_feet.land()"
   ]
  },
  {
   "cell_type": "code",
   "execution_count": null,
   "id": "fed83af7-aa0b-4e31-bc10-ce34ddd13d92",
   "metadata": {},
   "outputs": [],
   "source": [
    "class Penguin(Bird):\n",
    "    def __init__(self):\n",
    "        self.position = \"ground\"\n",
    "    \n",
    "    def fly(self):\n",
    "        raise NotImplementedError(f\"Tentativo di volo, ma sono un pinguino :(\")\n",
    "\n",
    "    def land(self):\n",
    "        self.position = \"ground\""
   ]
  },
  {
   "cell_type": "markdown",
   "id": "8612037d-349c-44f3-9bc7-bf1a61cc2b93",
   "metadata": {},
   "source": [
    "---"
   ]
  },
  {
   "cell_type": "markdown",
   "id": "5b5a9a9e-e090-4d9c-8ced-441a6b151c94",
   "metadata": {},
   "source": [
    "# Modules\n",
    "\n",
    "I moduli incapsulano il codice, e lo rendono facilmente fruibile a terzi. Per installare un modulo, possiamo usare\n",
    "\n",
    "```shell\n",
    "pip install {module}\n",
    "```\n",
    ", e.g.,\n",
    "```shell\n",
    "pip install numpy\n",
    "```\n",
    "o\n",
    "```shell\n",
    "pip install faker-biology\n",
    "```\n",
    "Questo comando installa il modulo, e ora possiamo \"importarlo\" direttamente nel nostro codice.\n",
    "```python\n",
    "import numpy\n",
    "```\n",
    "\n",
    "Volendo, possimo anche importare direttamente solo alcune classi e/o funzioni.\n",
    "```python\n",
    "# importa solo la funzione default_rng, che crea un generatore randomico\n",
    "from numpy.random import default_rng\n",
    "\n",
    "\n",
    "default_rng()\n",
    "samples = rng.normal(size=2500)  # prendi 2500 valori randomici da una distribuzione normale\n",
    "samples\n",
    "```\n",
    "\n",
    "\n",
    "Una lista di moduli e' disponibile su [pypi](https://pypi.org), da cui potete cercare."
   ]
  },
  {
   "cell_type": "markdown",
   "id": "44876af1-2450-4f03-ac1c-7f108bdc6c00",
   "metadata": {},
   "source": [
    "---"
   ]
  },
  {
   "cell_type": "markdown",
   "id": "f2650054-5366-4d7c-9bfc-c786516bfbd9",
   "metadata": {},
   "source": [
    "# Moduli python\n",
    "\n",
    "[Reference online](https://docs.python.org/3/py-modindex.html).\n",
    "\n",
    "Alcuni moduli sono nativi a `Python`, e non dobbiamo installarli con `pip`, e.g.,:\n",
    "- `re` (regular expressions) Ricerca e match di stringhe\n",
    "- `os` (operating system) Gestione e accesso a file e cartelle\n",
    "- `itertools` Permutazioni e iterazioni"
   ]
  }
 ],
 "metadata": {
  "kernelspec": {
   "display_name": "Python 3 (ipykernel)",
   "language": "python",
   "name": "python3"
  },
  "language_info": {
   "codemirror_mode": {
    "name": "ipython",
    "version": 3
   },
   "file_extension": ".py",
   "mimetype": "text/x-python",
   "name": "python",
   "nbconvert_exporter": "python",
   "pygments_lexer": "ipython3",
   "version": "3.12.0"
  }
 },
 "nbformat": 4,
 "nbformat_minor": 5
}
