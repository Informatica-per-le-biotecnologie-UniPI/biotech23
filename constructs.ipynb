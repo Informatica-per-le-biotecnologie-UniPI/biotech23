{
 "cells": [
  {
   "cell_type": "markdown",
   "id": "f7ec5a30-f9c8-4521-8971-a0b1d186a11a",
   "metadata": {},
   "source": [
    "# Costrutti\n",
    "\n",
    "Una volta che abbiamo le variabili, possiamo lavorarci. Abbiamo a disposizione due tipi di costrutti:\n",
    "- scelta: ci permette di eseguire del codice piuttosto che dell'altro;\n",
    "- iterazione: ci permette di eseguire del codice piu' volte, sulla base di una condizione."
   ]
  },
  {
   "cell_type": "markdown",
   "id": "a1d3490c-cd5e-448a-90f3-4820d0633780",
   "metadata": {},
   "source": [
    "#### Stampa\n",
    "Piccola anticipazione delle funzioni: `print(...)` stampa quello che forniamo."
   ]
  },
  {
   "cell_type": "code",
   "execution_count": 1,
   "id": "dd825458-7e42-407d-b992-2f9c77abfe1e",
   "metadata": {},
   "outputs": [
    {
     "data": {
      "text/plain": [
       "10"
      ]
     },
     "execution_count": 1,
     "metadata": {},
     "output_type": "execute_result"
    }
   ],
   "source": [
    "10"
   ]
  },
  {
   "cell_type": "code",
   "execution_count": 2,
   "id": "ede132d1-a31d-4018-93e7-53f2fda389ed",
   "metadata": {},
   "outputs": [
    {
     "name": "stdout",
     "output_type": "stream",
     "text": [
      "10\n"
     ]
    }
   ],
   "source": [
    "print(10)"
   ]
  },
  {
   "cell_type": "code",
   "execution_count": 3,
   "id": "2673dbac-7845-4f56-89b2-72198b32190b",
   "metadata": {},
   "outputs": [
    {
     "name": "stdout",
     "output_type": "stream",
     "text": [
      "1 2 3\n"
     ]
    }
   ],
   "source": [
    "print(1, 2, 3)"
   ]
  },
  {
   "cell_type": "code",
   "execution_count": 5,
   "id": "76228d5e-3926-4da5-8ead-abfd67c4c1d9",
   "metadata": {},
   "outputs": [
    {
     "name": "stdout",
     "output_type": "stream",
     "text": [
      "12\n"
     ]
    }
   ],
   "source": [
    "print([0, 12, 2][1])"
   ]
  },
  {
   "cell_type": "code",
   "execution_count": 6,
   "id": "0c1c2828-3405-4a1c-955e-69af34371bad",
   "metadata": {},
   "outputs": [
    {
     "name": "stdout",
     "output_type": "stream",
     "text": [
      "ciao\n"
     ]
    }
   ],
   "source": [
    "print(\"ciao\")"
   ]
  },
  {
   "cell_type": "code",
   "execution_count": 7,
   "id": "2feb1c55-0ff2-4b2f-a94c-1f8125e0d04f",
   "metadata": {},
   "outputs": [
    {
     "ename": "SyntaxError",
     "evalue": "invalid syntax (2333221364.py, line 1)",
     "output_type": "error",
     "traceback": [
      "\u001b[0;36m  File \u001b[0;32m\"/tmp/ipykernel_3937/2333221364.py\"\u001b[0;36m, line \u001b[0;32m1\u001b[0m\n\u001b[0;31m    print(10 > )\u001b[0m\n\u001b[0m               ^\u001b[0m\n\u001b[0;31mSyntaxError\u001b[0m\u001b[0;31m:\u001b[0m invalid syntax\n"
     ]
    }
   ],
   "source": [
    "print(10 > )"
   ]
  },
  {
   "cell_type": "code",
   "execution_count": 10,
   "id": "866c3d92-26b4-434e-96ab-89f08185dad5",
   "metadata": {},
   "outputs": [
    {
     "name": "stdout",
     "output_type": "stream",
     "text": [
      "10\n"
     ]
    }
   ],
   "source": [
    "print(\n",
    "    10\n",
    ")"
   ]
  },
  {
   "cell_type": "code",
   "execution_count": 8,
   "id": "36ff73de-9506-405b-9f81-bc467395a065",
   "metadata": {},
   "outputs": [
    {
     "ename": "SyntaxError",
     "evalue": "invalid syntax (1949719885.py, line 1)",
     "output_type": "error",
     "traceback": [
      "\u001b[0;36m  File \u001b[0;32m\"/tmp/ipykernel_3937/1949719885.py\"\u001b[0;36m, line \u001b[0;32m1\u001b[0m\n\u001b[0;31m    10 >\u001b[0m\n\u001b[0m        ^\u001b[0m\n\u001b[0;31mSyntaxError\u001b[0m\u001b[0;31m:\u001b[0m invalid syntax\n"
     ]
    }
   ],
   "source": [
    "10 >"
   ]
  },
  {
   "cell_type": "markdown",
   "id": "2a9b4106-f1a6-42b4-9b8d-270becd9e6ca",
   "metadata": {},
   "source": [
    "## Scelta: `if`\n",
    "*[Documentazione online](https://docs.python.org/3/tutorial/controlflow.html#if-statements)*\n",
    "\n",
    "Il costrutto `if` ci permette di eseguire del codice *se e solo se* la condizione data e' vera:\n",
    "- *se* la cellula ha una data concentrazione di una sostanza, *allora*...\n",
    "- *se* la cellula sta sintetizzando queste proteine, *allora*...\n",
    "- *se* il genoma di questo organismo e' simile a questo, *allora*...\n",
    "\n",
    "Sintassi:\n",
    "```python\n",
    "if condizione:\n",
    "    body_if\n",
    "else:\n",
    "    body_else\n",
    "```\n",
    "\n",
    "`else` ci permette di eseguire dell'altro codice in caso in cui la condizione non sia vera. Opzionale.\n",
    "\n",
    "**Importante!** Il codice dell'`if` e dell'`else` deve essere *indentato*: usate un `Tab` per farlo."
   ]
  },
  {
   "cell_type": "code",
   "execution_count": 13,
   "id": "24e372a3-21d7-4c05-bf6a-899c4ea0c2e8",
   "metadata": {},
   "outputs": [
    {
     "name": "stdout",
     "output_type": "stream",
     "text": [
      "1 0\n"
     ]
    }
   ],
   "source": [
    "cell_type = \"cancer\"\n",
    "cancer_cell_counter = 0\n",
    "noncancer_cell_counter = 0\n",
    "\n",
    "if cell_type == \"cancer\":\n",
    "    # cancer_cell_counter = cancer_cell_counter + 1\n",
    "    cancer_cell_counter += 1\n",
    "else:\n",
    "    noncancer_cell_counter += 1\n",
    "\n",
    "print(cancer_cell_counter, noncancer_cell_counter)"
   ]
  },
  {
   "cell_type": "code",
   "execution_count": 15,
   "id": "bf935a71-9faf-48df-bd30-6ac3db9f6f3d",
   "metadata": {},
   "outputs": [
    {
     "data": {
      "text/plain": [
       "tuple"
      ]
     },
     "execution_count": 15,
     "metadata": {},
     "output_type": "execute_result"
    }
   ],
   "source": [
    "type((cancer_cell_counter, noncancer_cell_counter))"
   ]
  },
  {
   "cell_type": "markdown",
   "id": "89e708af-206c-4d46-8d69-a840825ce9dd",
   "metadata": {},
   "source": [
    "Con diversi `if else if else ...` di fila, **tutti che fanno riferimento a una stessa catena**, possiamo usare `elif`, che sta per `else if`. E.g.,"
   ]
  },
  {
   "cell_type": "code",
   "execution_count": null,
   "id": "3b992234-07d8-4baa-9307-ac337911ecd4",
   "metadata": {},
   "outputs": [],
   "source": [
    "base = \"C\"\n",
    "\n",
    "if base == \"A\":\n",
    "    is_adenosine = True\n",
    "elif base == \"C\":\n",
    "    is_cytosine = True\n",
    "elif base == \"G\":\n",
    "    is_guanine = True\n",
    "else:\n",
    "    is_thymine = True"
   ]
  },
  {
   "cell_type": "markdown",
   "id": "e83ea78e-7ee8-40d8-9d77-a52ae6c84e10",
   "metadata": {},
   "source": [
    "Equivalente a "
   ]
  },
  {
   "cell_type": "code",
   "execution_count": null,
   "id": "b5eb79ba-bfbc-4314-818f-a5626b2a0fdd",
   "metadata": {},
   "outputs": [],
   "source": [
    "base = \"C\"\n",
    "\n",
    "if base == \"A\":\n",
    "    is_adenosine = True\n",
    "else:\n",
    "    if base == \"C\":\n",
    "        is_cytosine = True\n",
    "    else:\n",
    "        if base == \"G\":\n",
    "            is_guanine = True\n",
    "        else:\n",
    "            is_thymine = True"
   ]
  },
  {
   "cell_type": "markdown",
   "id": "d0280af3-d7a5-41e5-8f73-2978f2870990",
   "metadata": {},
   "source": [
    "# Iterazione: `for`\n",
    "*[Documentazione online](https://docs.python.org/3/tutorial/controlflow.html#for-statements)*\n",
    "\n",
    "`for` ci permette di ripetere del codice, e.g.,\n",
    "- *ripeto* un'analisi del genoma su ogni individuo della popolazione\n",
    "- *ripeto* un'analisi della cellula su tutte le cellule del campione\n",
    "- *ripeto* la ricerca di genomi simili su una banca dati di genomi di riferimento\n",
    "\n",
    "Sintassi:\n",
    "```python\n",
    "for element in collection:\n",
    "    body_for\n",
    "```\n",
    "\n",
    "**Importante!** Il codice del `for` deve essere *indentato*: usate un `Tab` per farlo.\n",
    "\n",
    "**Importante #2!** `element` e' una variabile! Non usate un nome che avete gia' usato prima!!\n",
    "\n",
    "Ripete `body_for` per ogni elemento `element` in `collection`, e.g.,\n",
    "\n",
    "```python\n",
    "for individual in population:\n",
    "    analyze_genome\n",
    "```\n",
    "\n",
    "```python\n",
    "for cell in sample:\n",
    "    analyze_cell\n",
    "```\n",
    "\n",
    "```python\n",
    "for genome in database:\n",
    "    similarity_with_reference_genome\n",
    "```"
   ]
  },
  {
   "cell_type": "code",
   "execution_count": 17,
   "id": "f63c36ad-40f3-4707-9fd6-8e2fb2433ee4",
   "metadata": {},
   "outputs": [],
   "source": [
    "genome = \"CAAGCATGGCGAGTAAGTGATCCAACGCTTCGGATACGACTATATACTTAGGTTTGATCTCGCCCCGAGAACTGTAAACCTCAACATTTATAGATTATGAGGTTAGCCGAAAATGCACGTGGTGGCGCCCGCCGACTGCTCCCAGAGTGTGGCTCTTTGTTCTGTCAAGGCCCGACCTTCATCGCGGCCGATTCCTTCTGCGGACCATGTCGTCCTGATACTTTGGTCATGTTTCCGTTGTAGGAGTGAACCCACTTGGCTTTGCGCCATAATTCCAATGAAAAACCTATGCACTTTGTTTAGGGTACCATCAGGAATCTGAACCCTCAGATAGTGGGGATCCCGGGTATAGACCTTTATCTGCGGTCCAACTTAGGCATAAACCTGCATGCTACCTTGTCAGACCCACTCTGCACGAAGTAAATATGGGATGCGTCCGACCTGGCTCCTGGCGTTCCACGCCGCCACGTGTTCGTTAACTGTTGATTGGTGGCACATAAGTAATACCATGGTCCCTGAAATTCGGCTCAGTTACTTCGAGCGTAATGTCTCAAATGGCGTAGAACGGCAATGACTGTTTGACACTAGGTGGTGTTCAGTTCGGTAACGGAGAGTCTGTGCGGCATTCTTATTAATACATTTGAAACGCGCCCAACTGACGCTAGGCAAGTCAGTGCAGGCTCCCGTGTTAGGATAAGGGTAAACATACAAGTCGATAGAAGATGGGTAGGGGCCTTCAATTCATCCAGCACTCTACGGTTCCTCCGAGAGCAAGTAGGGCACCCTGTAGTTCGAAGGGGAACTATTTCGTGGGGCGAGCCCACACCGTCTCTTCTGCGGAAGACTTAACACGTTAGGGAGGTGGAATAGTTTCGAACGATGGTTATTAATCGTAATAACGGAACGCTGTCTGGAGGATGAGTCTGACGGTGTGTAACTCGATCAGTCACTCGCTATTCGAACTGCGCGAAAGATCCCAGCGCTCATGCACTTGATTCCG\"\n",
    "thymine_counter = 0\n",
    "adenosine_counter = 0\n",
    "guanine_counter = 0\n",
    "cytosine_counter = 0\n",
    "error_counter = 0\n",
    "\n",
    "for base in genome:\n",
    "    if base == \"A\":\n",
    "        adenosine_counter += 1\n",
    "    elif base == \"C\":\n",
    "        cytosine_counter += 1\n",
    "    elif base == \"G\":\n",
    "        guanine_counter += 1\n",
    "    elif base == \"T\":\n",
    "        thymine_counter += 1\n",
    "    else:\n",
    "        error_counter += 1"
   ]
  },
  {
   "cell_type": "code",
   "execution_count": 20,
   "id": "e860c8bf-2ba2-4bc8-ba06-876914c5714b",
   "metadata": {},
   "outputs": [
    {
     "ename": "TypeError",
     "evalue": "'int' object is not iterable",
     "output_type": "error",
     "traceback": [
      "\u001b[0;31m---------------------------------------------------------------------------\u001b[0m",
      "\u001b[0;31mTypeError\u001b[0m                                 Traceback (most recent call last)",
      "\u001b[0;32m/tmp/ipykernel_3937/3203721916.py\u001b[0m in \u001b[0;36m<module>\u001b[0;34m\u001b[0m\n\u001b[1;32m      2\u001b[0m \u001b[0mcounter\u001b[0m \u001b[0;34m=\u001b[0m \u001b[0;36m0\u001b[0m\u001b[0;34m\u001b[0m\u001b[0;34m\u001b[0m\u001b[0m\n\u001b[1;32m      3\u001b[0m \u001b[0;34m\u001b[0m\u001b[0m\n\u001b[0;32m----> 4\u001b[0;31m \u001b[0;32mfor\u001b[0m \u001b[0mi\u001b[0m \u001b[0;32min\u001b[0m \u001b[0;36m213543523454\u001b[0m\u001b[0;34m:\u001b[0m\u001b[0;34m\u001b[0m\u001b[0;34m\u001b[0m\u001b[0m\n\u001b[0m\u001b[1;32m      5\u001b[0m     \u001b[0;32mif\u001b[0m \u001b[0mi\u001b[0m \u001b[0;34m==\u001b[0m \u001b[0;36m3\u001b[0m\u001b[0;34m:\u001b[0m\u001b[0;34m\u001b[0m\u001b[0;34m\u001b[0m\u001b[0m\n\u001b[1;32m      6\u001b[0m         \u001b[0mcounter\u001b[0m \u001b[0;34m+=\u001b[0m \u001b[0;36m1\u001b[0m\u001b[0;34m\u001b[0m\u001b[0;34m\u001b[0m\u001b[0m\n",
      "\u001b[0;31mTypeError\u001b[0m: 'int' object is not iterable"
     ]
    }
   ],
   "source": [
    "# Importante! Non tutti i tipi sono iterabili!\n",
    "counter = 0\n",
    "\n",
    "for i in 213543523454:\n",
    "    if i == 3:\n",
    "        counter += 1"
   ]
  },
  {
   "cell_type": "code",
   "execution_count": 19,
   "id": "795f9ddf-6ddd-4267-9f7a-305a249ce893",
   "metadata": {},
   "outputs": [
    {
     "data": {
      "text/plain": [
       "(260, 257, 240)"
      ]
     },
     "execution_count": 19,
     "metadata": {},
     "output_type": "execute_result"
    }
   ],
   "source": [
    "thymine_counter, guanine_counter, adenosine_counter"
   ]
  },
  {
   "cell_type": "code",
   "execution_count": 24,
   "id": "e3539938-9796-4f3b-a391-982674c25942",
   "metadata": {},
   "outputs": [
    {
     "data": {
      "text/plain": [
       "(55, 100)"
      ]
     },
     "execution_count": 24,
     "metadata": {},
     "output_type": "execute_result"
    }
   ],
   "source": [
    "cell_types = [\"not_cancer\", \"cancer\", \"cancer\", \"cancer\", \"not_cancer\", \"cancer\", \"cancer\", \"cancer\", \"cancer\", \"not_cancer\", \"cancer\", \"not_cancer\", \"cancer\", \"cancer\", \"not_cancer\", \"not_cancer\", \"cancer\", \"not_cancer\", \"cancer\", \"cancer\", \"cancer\", \"cancer\", \"not_cancer\", \"not_cancer\", \"not_cancer\", \"not_cancer\", \"not_cancer\", \"cancer\", \"not_cancer\", \"cancer\", \"cancer\", \"cancer\", \"cancer\", \"not_cancer\", \"not_cancer\", \"cancer\", \"cancer\", \"cancer\", \"cancer\", \"cancer\", \"cancer\", \"cancer\", \"not_cancer\", \"not_cancer\", \"cancer\", \"not_cancer\", \"cancer\", \"cancer\", \"not_cancer\", \"not_cancer\", \"cancer\", \"not_cancer\", \"not_cancer\", \"not_cancer\", \"not_cancer\", \"not_cancer\", \"not_cancer\", \"not_cancer\", \"cancer\", \"cancer\", \"cancer\", \"not_cancer\", \"cancer\", \"not_cancer\", \"cancer\", \"not_cancer\", \"not_cancer\", \"cancer\", \"cancer\", \"cancer\", \"not_cancer\", \"not_cancer\", \"cancer\", \"cancer\", \"cancer\", \"not_cancer\", \"cancer\", \"not_cancer\", \"cancer\", \"cancer\", \"not_cancer\", \"cancer\", \"not_cancer\", \"not_cancer\", \"cancer\", \"cancer\", \"cancer\", \"cancer\", \"not_cancer\", \"cancer\", \"cancer\", \"cancer\", \"not_cancer\", \"not_cancer\", \"not_cancer\", \"cancer\", \"not_cancer\", \"not_cancer\", \"cancer\", \"not_cancer\"]\n",
    "cancer_cell_counter = 0\n",
    "noncancerous_cell_counter = 0\n",
    "\n",
    "for cell_type in cell_types:\n",
    "    if cell_type == \"cancer\":\n",
    "        cancer_cell_counter += 1\n",
    "    \n",
    "    noncancerous_cell_counter += 1\n",
    "\n",
    "cancer_cell_counter, noncancerous_cell_counter"
   ]
  },
  {
   "cell_type": "markdown",
   "id": "88ddf726-d131-4285-83db-7a05c7e2afd9",
   "metadata": {},
   "source": [
    "# Iterazione: `while`\n",
    "\n",
    "Diversamente dal `for`, `while` fornisce una iterazione su condizione: il suo corpo viene eseguito fintanto che la condizione rimane vera.\n",
    "\n",
    "```python\n",
    "while condition:\n",
    "    body_while\n",
    "```"
   ]
  },
  {
   "cell_type": "code",
   "execution_count": 6,
   "id": "e34e6e52-fd48-46b6-8216-70f292a8ff48",
   "metadata": {},
   "outputs": [
    {
     "name": "stdout",
     "output_type": "stream",
     "text": [
      "1\n",
      "2\n",
      "3\n",
      "5\n",
      "8\n",
      "13\n",
      "21\n",
      "34\n",
      "55\n",
      "89\n",
      "144\n"
     ]
    }
   ],
   "source": [
    "fibonacci_a, fibonacci_b = 0, 1\n",
    "current_fibonacci = fibonacci_a + fibonacci_b\n",
    "\n",
    "while current_fibonacci <= 100:\n",
    "    current_fibonacci = fibonacci_a + fibonacci_b\n",
    "    fibonacci_a = fibonacci_b\n",
    "    fibonacci_b = current_fibonacci\n",
    "    print(current_fibonacci)"
   ]
  },
  {
   "cell_type": "markdown",
   "id": "71912203-4d3a-41d5-84e6-1849264cd751",
   "metadata": {},
   "source": [
    "## `break`\n",
    "*[Documentazione online](https://docs.python.org/3/tutorial/controlflow.html#break-and-continue-statements-and-else-clauses-on-loops)*\n",
    "\n",
    "Puo' capitare di dover terminare di iterare *prima* di aver consumato tutti gli elementi. In questo caso, `break` ci permette di uscire dall'iterazione in cui siamo.\n",
    "`continue` fa l'opposto: salta direttamente all'iterazione successiva."
   ]
  },
  {
   "cell_type": "markdown",
   "id": "2bc4bcee-574c-42ab-a20e-33e7ae3c3de6",
   "metadata": {},
   "source": [
    "Un paziente e' malato di cancro, se ha almeno 10 cellule cancerogene."
   ]
  },
  {
   "cell_type": "code",
   "execution_count": 26,
   "id": "bf417953-0e17-46b9-b161-f97374993420",
   "metadata": {},
   "outputs": [
    {
     "data": {
      "text/plain": [
       "14"
      ]
     },
     "execution_count": 26,
     "metadata": {},
     "output_type": "execute_result"
    }
   ],
   "source": [
    "cell_types = [\"not_cancer\", \"cancer\", \"cancer\", \"cancer\", \"not_cancer\", \"cancer\", \"cancer\", \"cancer\", \"cancer\", \"not_cancer\", \"cancer\", \"not_cancer\", \"cancer\", \"cancer\", \"not_cancer\", \"not_cancer\", \"cancer\", \"not_cancer\", \"cancer\", \"cancer\", \"cancer\", \"cancer\", \"not_cancer\", \"not_cancer\", \"not_cancer\", \"not_cancer\", \"not_cancer\", \"cancer\", \"not_cancer\", \"cancer\", \"cancer\", \"cancer\", \"cancer\", \"not_cancer\", \"not_cancer\", \"cancer\", \"cancer\", \"cancer\", \"cancer\", \"cancer\", \"cancer\", \"cancer\", \"not_cancer\", \"not_cancer\", \"cancer\", \"not_cancer\", \"cancer\", \"cancer\", \"not_cancer\", \"not_cancer\", \"cancer\", \"not_cancer\", \"not_cancer\", \"not_cancer\", \"not_cancer\", \"not_cancer\", \"not_cancer\", \"not_cancer\", \"cancer\", \"cancer\", \"cancer\", \"not_cancer\", \"cancer\", \"not_cancer\", \"cancer\", \"not_cancer\", \"not_cancer\", \"cancer\", \"cancer\", \"cancer\", \"not_cancer\", \"not_cancer\", \"cancer\", \"cancer\", \"cancer\", \"not_cancer\", \"cancer\", \"not_cancer\", \"cancer\", \"cancer\", \"not_cancer\", \"cancer\", \"not_cancer\", \"not_cancer\", \"cancer\", \"cancer\", \"cancer\", \"cancer\", \"not_cancer\", \"cancer\", \"cancer\", \"cancer\", \"not_cancer\", \"not_cancer\", \"not_cancer\", \"cancer\", \"not_cancer\", \"not_cancer\", \"cancer\", \"not_cancer\"]\n",
    "cancer_cell_counter = 0\n",
    "counter = 0\n",
    "\n",
    "for cell_type in cell_types:\n",
    "    counter += 1\n",
    "    \n",
    "    if cell_type == \"cancer\":\n",
    "        cancer_cell_counter += 1\n",
    "\n",
    "    # se ho trovato 10 cellule cancerogene non ho bisogno di guardare tutte le rimanenti!\n",
    "    if cancer_cell_counter >= 10:\n",
    "        break\n",
    "\n",
    "if cancer_cell_counter >= 10:\n",
    "    patient_status = \"cancerous\"\n",
    "else:\n",
    "    patient_status = \"not cancerous\"\n",
    "\n",
    "patient_status\n",
    "counter"
   ]
  },
  {
   "cell_type": "markdown",
   "id": "8ba81e29-4ba8-41c6-b088-dc69723403f0",
   "metadata": {},
   "source": [
    "# Costrutti... sintetizzati\n",
    "*[Documentazione online](https://docs.python.org/3/tutorial/datastructures.html#list-comprehensions)*\n",
    "\n",
    "\n",
    "Spesso con selezioni e iterazioni vogliamo selezionare una sottocollezione, e.g., celle cancerogene, o modificarne gli elementi, e.g., correggere errori di trascrizione di un genoma. In entrambi i casi, il risultato e' una collezione.\n",
    "\n",
    "Python offre dei costrutti compatti per evitarci `for` e `if` a cascata, dette comprehension:\n",
    "- list comprehension: `[ comprehension ]`\n",
    "- set comprehension: `{ comprehension }`\n",
    "- dictionary comprehension: `{ comprehension }`"
   ]
  },
  {
   "cell_type": "markdown",
   "id": "0c191cff-e686-441a-87cc-43ab3600b07f",
   "metadata": {},
   "source": [
    "Seleziona tutte le cellule cancerogene."
   ]
  },
  {
   "cell_type": "code",
   "execution_count": 27,
   "id": "1f315a39-ce5c-42a1-b327-6c408ddf32a9",
   "metadata": {},
   "outputs": [
    {
     "data": {
      "text/plain": [
       "['not_cancerU',\n",
       " 'cancerU',\n",
       " 'cancerU',\n",
       " 'cancerU',\n",
       " 'not_cancerU',\n",
       " 'cancerU',\n",
       " 'cancerU',\n",
       " 'cancerU',\n",
       " 'cancerU',\n",
       " 'not_cancerU',\n",
       " 'cancerU',\n",
       " 'not_cancerU',\n",
       " 'cancerU',\n",
       " 'cancerU',\n",
       " 'not_cancerU',\n",
       " 'not_cancerU',\n",
       " 'cancerU',\n",
       " 'not_cancerU',\n",
       " 'cancerU',\n",
       " 'cancerU',\n",
       " 'cancerU',\n",
       " 'cancerU',\n",
       " 'not_cancerU',\n",
       " 'not_cancerU',\n",
       " 'not_cancerU',\n",
       " 'not_cancerU',\n",
       " 'not_cancerU',\n",
       " 'cancerU',\n",
       " 'not_cancerU',\n",
       " 'cancerU',\n",
       " 'cancerU',\n",
       " 'cancerU',\n",
       " 'cancerU',\n",
       " 'not_cancerU',\n",
       " 'not_cancerU',\n",
       " 'cancerU',\n",
       " 'cancerU',\n",
       " 'cancerU',\n",
       " 'cancerU',\n",
       " 'cancerU',\n",
       " 'cancerU',\n",
       " 'cancerU',\n",
       " 'not_cancerU',\n",
       " 'not_cancerU',\n",
       " 'cancerU',\n",
       " 'not_cancerU',\n",
       " 'cancerU',\n",
       " 'cancerU',\n",
       " 'not_cancerU',\n",
       " 'not_cancerU',\n",
       " 'cancerU',\n",
       " 'not_cancerU',\n",
       " 'not_cancerU',\n",
       " 'not_cancerU',\n",
       " 'not_cancerU',\n",
       " 'not_cancerU',\n",
       " 'not_cancerU',\n",
       " 'not_cancerU',\n",
       " 'cancerU',\n",
       " 'cancerU',\n",
       " 'cancerU',\n",
       " 'not_cancerU',\n",
       " 'cancerU',\n",
       " 'not_cancerU',\n",
       " 'cancerU',\n",
       " 'not_cancerU',\n",
       " 'not_cancerU',\n",
       " 'cancerU',\n",
       " 'cancerU',\n",
       " 'cancerU',\n",
       " 'not_cancerU',\n",
       " 'not_cancerU',\n",
       " 'cancerU',\n",
       " 'cancerU',\n",
       " 'cancerU',\n",
       " 'not_cancerU',\n",
       " 'cancerU',\n",
       " 'not_cancerU',\n",
       " 'cancerU',\n",
       " 'cancerU',\n",
       " 'not_cancerU',\n",
       " 'cancerU',\n",
       " 'not_cancerU',\n",
       " 'not_cancerU',\n",
       " 'cancerU',\n",
       " 'cancerU',\n",
       " 'cancerU',\n",
       " 'cancerU',\n",
       " 'not_cancerU',\n",
       " 'cancerU',\n",
       " 'cancerU',\n",
       " 'cancerU',\n",
       " 'not_cancerU',\n",
       " 'not_cancerU',\n",
       " 'not_cancerU',\n",
       " 'cancerU',\n",
       " 'not_cancerU',\n",
       " 'not_cancerU',\n",
       " 'cancerU',\n",
       " 'not_cancerU']"
      ]
     },
     "execution_count": 27,
     "metadata": {},
     "output_type": "execute_result"
    }
   ],
   "source": [
    "cell_types = [\"not_cancer\", \"cancer\", \"cancer\", \"cancer\", \"not_cancer\", \"cancer\", \"cancer\", \"cancer\", \"cancer\", \"not_cancer\", \"cancer\", \"not_cancer\", \"cancer\", \"cancer\", \"not_cancer\", \"not_cancer\", \"cancer\", \"not_cancer\", \"cancer\", \"cancer\", \"cancer\", \"cancer\", \"not_cancer\", \"not_cancer\", \"not_cancer\", \"not_cancer\", \"not_cancer\", \"cancer\", \"not_cancer\", \"cancer\", \"cancer\", \"cancer\", \"cancer\", \"not_cancer\", \"not_cancer\", \"cancer\", \"cancer\", \"cancer\", \"cancer\", \"cancer\", \"cancer\", \"cancer\", \"not_cancer\", \"not_cancer\", \"cancer\", \"not_cancer\", \"cancer\", \"cancer\", \"not_cancer\", \"not_cancer\", \"cancer\", \"not_cancer\", \"not_cancer\", \"not_cancer\", \"not_cancer\", \"not_cancer\", \"not_cancer\", \"not_cancer\", \"cancer\", \"cancer\", \"cancer\", \"not_cancer\", \"cancer\", \"not_cancer\", \"cancer\", \"not_cancer\", \"not_cancer\", \"cancer\", \"cancer\", \"cancer\", \"not_cancer\", \"not_cancer\", \"cancer\", \"cancer\", \"cancer\", \"not_cancer\", \"cancer\", \"not_cancer\", \"cancer\", \"cancer\", \"not_cancer\", \"cancer\", \"not_cancer\", \"not_cancer\", \"cancer\", \"cancer\", \"cancer\", \"cancer\", \"not_cancer\", \"cancer\", \"cancer\", \"cancer\", \"not_cancer\", \"not_cancer\", \"not_cancer\", \"cancer\", \"not_cancer\", \"not_cancer\", \"cancer\", \"not_cancer\"]\n",
    "[cell_type + \"U\" for cell_type in cell_types]"
   ]
  },
  {
   "cell_type": "code",
   "execution_count": 31,
   "id": "fe51c1b1-7d5d-4135-9e27-de2609a5f2a6",
   "metadata": {},
   "outputs": [
    {
     "data": {
      "text/plain": [
       "{'cancer': 0}"
      ]
     },
     "execution_count": 31,
     "metadata": {},
     "output_type": "execute_result"
    }
   ],
   "source": [
    "{cell_type: 0 for cell_type in cell_types if cell_type == \"cancer\"}"
   ]
  },
  {
   "cell_type": "code",
   "execution_count": 32,
   "id": "3b4b7936-2c3c-45ab-89c4-fae13a3a548b",
   "metadata": {},
   "outputs": [],
   "source": [
    "genome = \"CAAGCATGGCGAGTAAGTGATCCAACGCTTCGGATACGACTATATACTTAGGTTTGATCTCGCCCCGAGAACTGTAAACCTCAACATTTATAGATTATGAGGTTAGCCGAAAATGCACGTGGTGGCGCCCGCCGACTGCTCCCAGAGTGTGGCTCTTTGTTCTGTCAAGGCCCGACCTTCATCGCGGCCGATTCCTTCTGCGGACCATGTCGTCCTGATACTTTGGTCATGTTTCCGTTGTAGGAGTGAACCCACTTGGCTTTGCGCCATAATTCCAATGAAAAACCTATGCACTTTGTTTAGGGTACCATCAGGAATCTGAACCCTCAGATAGTGGGGATCCCGGGTATAGACCTTTATCTGCGGTCCAACTTAGGCATAAACCTGCATGCTACCTTGTCAGACCCACTCTGCACGAAGTAAATATGGGATGCGTCCGACCTGGCTCCTGGCGTTCCACGCCGCCACGTGTTCGTTAACTGTTGATTGGTGGCACATAAGTAATACCATGGTCCCTGAAATTCGGCTCAGTTACTTCGAGCGTAATGTCTCAAATGGCGTAGAACGGCAATGACTGTTTGACACTAGGTGGTGTTCAGTTCGGTAACGGAGAGTCTGTGCGGCATTCTTATTAATACATTTGAAACGCGCCCAACTGACGCTAGGCAAGTCAGTGCAGGCTCCCGTGTTAGGATAAGGGTAAACATACAAGTCGATAGAAGATGGGTAGGGGCCTTCAATTCATCCAGCACTCTACGGTTCCTCCGAGAGCAAGTAGGGCACCCTGTAGTTCGAAGGGGAACTATTTCGTGGGGCGAGCCCACACCGTCTCTTCTGCGGAAGACTTAACACGTTAGGGAGGTGGAATAGTTTCGAACGATGGTTATTAATCGTAATAACGGAACGCTGTCTGGAGGATGAGTCTGACGGTGTGTAACTCGATCAGTCACTCGCTATTCGAACTGCGCGAAAGATCCCAGCGCTCATGCACTTGATTCCG\"\n",
    "complement_genome = [\n",
    "    \"T\" if base == \"A\" else \n",
    "    \"A\" if base == \"T\" else\n",
    "    \"C\" if base == \"G\" else\n",
    "    \"G\"\n",
    "    for base in genome\n",
    "]"
   ]
  },
  {
   "cell_type": "markdown",
   "id": "52a5386c-b36f-466f-abc8-51874a849b8d",
   "metadata": {},
   "source": [
    "# Generatori\n",
    "\n",
    "Python calcola le comprehension one-shot, il che vuol dire che prima di avere anche solo il risultato per il primo elemento... dobbiamo aspettare che finisca tutto! Se lavoriamo con collezioni molto grandi, e.g., un genoma, i tempi di attesa diventano lunghi.\n",
    "Python ci fornisce un modo *lazy* (pigro) di trattare le operazioni su collezioni: le applica solo quando le richiediamo. Il risultato e' un *generatore*, che genera il prossimo elemento della collezione solo quando glie lo chiediamo. Una volta richiesto, l'elemento e' **consumato**, e non lo possiamo piu' recuperare.\n",
    "\n",
    "Sintassi\n",
    "```\n",
    "( list comprehension )\n",
    "```\n",
    "\n",
    "E.g.,"
   ]
  },
  {
   "cell_type": "code",
   "execution_count": 34,
   "id": "41c10020-33dd-4d75-a3e3-d661fdf3ff89",
   "metadata": {},
   "outputs": [],
   "source": [
    "genome = \"CAAGCATGGCGAGTAAGTGATCCAACGCTTCGGATACGACTATATACTTAGGTTTGATCTCGCCCCGAGAACTGTAAACCTCAACATTTATAGATTATGAGGTTAGCCGAAAATGCACGTGGTGGCGCCCGCCGACTGCTCCCAGAGTGTGGCTCTTTGTTCTGTCAAGGCCCGACCTTCATCGCGGCCGATTCCTTCTGCGGACCATGTCGTCCTGATACTTTGGTCATGTTTCCGTTGTAGGAGTGAACCCACTTGGCTTTGCGCCATAATTCCAATGAAAAACCTATGCACTTTGTTTAGGGTACCATCAGGAATCTGAACCCTCAGATAGTGGGGATCCCGGGTATAGACCTTTATCTGCGGTCCAACTTAGGCATAAACCTGCATGCTACCTTGTCAGACCCACTCTGCACGAAGTAAATATGGGATGCGTCCGACCTGGCTCCTGGCGTTCCACGCCGCCACGTGTTCGTTAACTGTTGATTGGTGGCACATAAGTAATACCATGGTCCCTGAAATTCGGCTCAGTTACTTCGAGCGTAATGTCTCAAATGGCGTAGAACGGCAATGACTGTTTGACACTAGGTGGTGTTCAGTTCGGTAACGGAGAGTCTGTGCGGCATTCTTATTAATACATTTGAAACGCGCCCAACTGACGCTAGGCAAGTCAGTGCAGGCTCCCGTGTTAGGATAAGGGTAAACATACAAGTCGATAGAAGATGGGTAGGGGCCTTCAATTCATCCAGCACTCTACGGTTCCTCCGAGAGCAAGTAGGGCACCCTGTAGTTCGAAGGGGAACTATTTCGTGGGGCGAGCCCACACCGTCTCTTCTGCGGAAGACTTAACACGTTAGGGAGGTGGAATAGTTTCGAACGATGGTTATTAATCGTAATAACGGAACGCTGTCTGGAGGATGAGTCTGACGGTGTGTAACTCGATCAGTCACTCGCTATTCGAACTGCGCGAAAGATCCCAGCGCTCATGCACTTGATTCCG\"\n",
    "complement_genome = [\n",
    "    \"T\" if base == \"A\" else \n",
    "    \"A\" if base == \"T\" else\n",
    "    \"C\" if base == \"G\" else\n",
    "    \"G\"\n",
    "    for base in genome\n",
    "]\n",
    "\n",
    "complement_genome_generator = (\n",
    "    \"T\" if base == \"A\" else \n",
    "    \"A\" if base == \"T\" else\n",
    "    \"C\" if base == \"G\" else\n",
    "    \"G\"\n",
    "    for base in genome\n",
    ")"
   ]
  },
  {
   "cell_type": "code",
   "execution_count": 36,
   "id": "9b47107a-7dcc-45d4-b0cd-88a97942dd90",
   "metadata": {},
   "outputs": [
    {
     "data": {
      "text/plain": [
       "'T'"
      ]
     },
     "execution_count": 36,
     "metadata": {},
     "output_type": "execute_result"
    }
   ],
   "source": [
    "complement_genome[5]"
   ]
  },
  {
   "cell_type": "code",
   "execution_count": 37,
   "id": "a46da2cb-d9d3-4956-86c7-f6351b2ace54",
   "metadata": {},
   "outputs": [
    {
     "ename": "TypeError",
     "evalue": "'generator' object is not subscriptable",
     "output_type": "error",
     "traceback": [
      "\u001b[0;31m---------------------------------------------------------------------------\u001b[0m",
      "\u001b[0;31mTypeError\u001b[0m                                 Traceback (most recent call last)",
      "\u001b[0;32m/tmp/ipykernel_3937/2345356466.py\u001b[0m in \u001b[0;36m<module>\u001b[0;34m\u001b[0m\n\u001b[0;32m----> 1\u001b[0;31m \u001b[0mcomplement_genome_generator\u001b[0m\u001b[0;34m[\u001b[0m\u001b[0;36m0\u001b[0m\u001b[0;34m]\u001b[0m\u001b[0;34m\u001b[0m\u001b[0;34m\u001b[0m\u001b[0m\n\u001b[0m",
      "\u001b[0;31mTypeError\u001b[0m: 'generator' object is not subscriptable"
     ]
    }
   ],
   "source": [
    "complement_genome_generator[0]"
   ]
  },
  {
   "cell_type": "code",
   "execution_count": 44,
   "id": "06fbab78-b9c4-45bd-8517-dd58c2d0d98f",
   "metadata": {},
   "outputs": [
    {
     "data": {
      "text/plain": [
       "'A'"
      ]
     },
     "execution_count": 44,
     "metadata": {},
     "output_type": "execute_result"
    }
   ],
   "source": [
    "next(complement_genome_generator)"
   ]
  },
  {
   "cell_type": "code",
   "execution_count": 7,
   "id": "942dc073-d3c6-4814-80ca-806a147bdb5b",
   "metadata": {},
   "outputs": [
    {
     "data": {
      "text/plain": [
       "'T'"
      ]
     },
     "execution_count": 7,
     "metadata": {},
     "output_type": "execute_result"
    }
   ],
   "source": [
    "next(complement_genome_generator)"
   ]
  }
 ],
 "metadata": {
  "kernelspec": {
   "display_name": "Python 3 (ipykernel)",
   "language": "python",
   "name": "python3"
  },
  "language_info": {
   "codemirror_mode": {
    "name": "ipython",
    "version": 3
   },
   "file_extension": ".py",
   "mimetype": "text/x-python",
   "name": "python",
   "nbconvert_exporter": "python",
   "pygments_lexer": "ipython3",
   "version": "3.10.12"
  }
 },
 "nbformat": 4,
 "nbformat_minor": 5
}
