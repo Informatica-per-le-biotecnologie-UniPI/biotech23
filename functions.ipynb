{
 "cells": [
  {
   "cell_type": "markdown",
   "id": "ef594c39-5ff8-4bdd-9f37-01cb2a32ea90",
   "metadata": {},
   "source": [
    "# Funzioni\n",
    "*[Documentazione online](https://docs.python.org/3/tutorial/controlflow.html#defining-functions)*\n",
    "\n",
    "Una funzione incapsula del codice, che esegue sulla base del valore dei suoi *parametri*. Una funzione\n",
    "- deve essere definita,\n",
    "- puo' essere invocata,\n",
    "- e valuta a un valore.\n",
    "\n",
    "E.g.,\n",
    "```python\n",
    "def average(elements: list) -> float:\n",
    "    \"\"\"Calcola il valore medio della lista data.\n",
    "        :param elements: Lista di cui calcolare la media.\n",
    "    \"\"\"\n",
    "    return sum(elements) / len(elements)    \n",
    "```\n",
    "definisce la funzione `average` con parametro `elements`, che valuta a `float`.\n",
    "```python\n",
    "average([1, 2, 3, 4, 5])\n",
    "```\n",
    "invoca `average` con parametro `elements=[1, 2, 3, 4, 5]`, e valuta a `3.0`."
   ]
  },
  {
   "cell_type": "code",
   "execution_count": 8,
   "id": "95a2f29b-ba9b-497e-80fe-c03e12c74149",
   "metadata": {},
   "outputs": [
    {
     "name": "stdout",
     "output_type": "stream",
     "text": [
      "3.0\n"
     ]
    }
   ],
   "source": [
    "def average(elements: list) -> float:\n",
    "    \"\"\"Calcola il valore medio della lista data.\n",
    "        :param elements: Lista di cui calcolare la media.\n",
    "    \"\"\"\n",
    "    return sum(elements) / len(elements)\n",
    "\n",
    "print(average([1, 2, 3, 4, 5]))"
   ]
  },
  {
   "cell_type": "code",
   "execution_count": 7,
   "id": "40163054-0324-4f6e-9a9d-8bfe17876e22",
   "metadata": {},
   "outputs": [
    {
     "data": {
      "text/plain": [
       "3.0"
      ]
     },
     "execution_count": 7,
     "metadata": {},
     "output_type": "execute_result"
    }
   ],
   "source": [
    "sum([1, 2, 3, 4, 5]) / len([1, 2, 3, 4, 5])"
   ]
  },
  {
   "cell_type": "markdown",
   "id": "13333728-9107-442f-ac3e-9eaa863a4607",
   "metadata": {},
   "source": [
    "# Parametri\n",
    "\n",
    "Di default, Python utilizza i parametri *per assegnamento*.\n",
    "Quando forniamo una variabile come parametro:\n",
    "- quando la variabile viene **ri-assegnata**, e.g., `dna = \"ACGC\"`, allora Python ne crea una copia\n",
    "- quando la variabile viene **modificata**, e.g., `dna[0] = \"A\"`, allora Python *non* ne crea una copia"
   ]
  },
  {
   "cell_type": "code",
   "execution_count": 10,
   "id": "d0b953a2-51f1-4fc3-817e-604e53a44618",
   "metadata": {},
   "outputs": [
    {
     "name": "stdout",
     "output_type": "stream",
     "text": [
      "['A', 'C', 'B', 'C']\n"
     ]
    }
   ],
   "source": [
    "def assign_value(dna: str):\n",
    "    dna = [\"A\", \"A\", \"A\"]\n",
    "\n",
    "def modify_value(dna: str):\n",
    "    dna[0] = 'C'\n",
    "\n",
    "d = [\"A\", \"C\", \"B\", \"C\"]\n",
    "print(d)    "
   ]
  },
  {
   "cell_type": "code",
   "execution_count": 11,
   "id": "8064ba6d-7d14-491c-851b-cc744cf94093",
   "metadata": {},
   "outputs": [
    {
     "name": "stdout",
     "output_type": "stream",
     "text": [
      "['A', 'C', 'B', 'C']\n"
     ]
    }
   ],
   "source": [
    "assign_value(d)\n",
    "print(d)"
   ]
  },
  {
   "cell_type": "code",
   "execution_count": 12,
   "id": "593641fe-4a77-412c-9271-a5c8f63ab8d6",
   "metadata": {},
   "outputs": [
    {
     "name": "stdout",
     "output_type": "stream",
     "text": [
      "['C', 'C', 'B', 'C']\n"
     ]
    }
   ],
   "source": [
    "modify_value(d)\n",
    "print(d)"
   ]
  },
  {
   "cell_type": "code",
   "execution_count": 27,
   "id": "98170dc5-585d-4a09-a21a-1d6d5ef281ce",
   "metadata": {},
   "outputs": [
    {
     "name": "stdout",
     "output_type": "stream",
     "text": [
      "[1, 2, 3, 4, 5]\n",
      "2\n",
      "[2, 3, 4, 5]\n",
      "[1, 2]\n",
      "[2, 3]\n"
     ]
    },
    {
     "data": {
      "text/plain": [
       "2.5"
      ]
     },
     "execution_count": 27,
     "metadata": {},
     "output_type": "execute_result"
    }
   ],
   "source": [
    "print([1, 2, 3, 4, 5])\n",
    "print([1, 2, 3, 4, 5][1])\n",
    "print([1, 2, 3, 4, 5][1:])\n",
    "print([1, 2, 3, 4, 5][  :  2 ])\n",
    "print([1, 2, 3, 4, 5][ 1 : 3 ])\n",
    "\n",
    "sublist_of_interest = [1, 2, 3, 4, 5][ 1 : 3 ]\n",
    "sum(sublist_of_interest) / len(sublist_of_interest)"
   ]
  },
  {
   "cell_type": "markdown",
   "id": "8b27fd7a-0b8b-4e54-a3d0-fba2aa504771",
   "metadata": {},
   "source": [
    "## Funzioni comuni"
   ]
  },
  {
   "cell_type": "markdown",
   "id": "5c7f57ec-8f07-4580-9258-0da12add591c",
   "metadata": {},
   "source": [
    "### Funzioni su liste\n",
    "\n",
    "- `min` valuta al valore minimo della sequenza in parametro\n",
    "- `max` valuta al valore massimo della sequenza in parametro\n",
    "- `len` lunghezza della lista/dizionario/set\n",
    "- `sum` somma dei valori nella lista/set\n",
    "- `list` crea una lista da una data collezione o generatore\n",
    "- `all` restituisce `True` se tutti gli elementi in parametro valutano a `True`\n",
    "- `any` restituisce `True` se tutti almeno un elemento in parametro valuta a `True`\n",
    "- `zip` come una zip (o due strand di DNA?), mette assieme diverse sequenze, permettendo di iterare passo passo l'una con le altre\n",
    "- `range` crea un generatore da un lower a un upper bound\n",
    "- `enumerate` crea un generatore su una collezione/generatore, affiancandogli un indice contatore\n",
    "- `sorted` ordina una collezione\n",
    "- `next` genera il prossimo elemento nel generatore"
   ]
  },
  {
   "cell_type": "code",
   "execution_count": 31,
   "id": "62c58d26-e5de-49d9-b701-b871cab475ad",
   "metadata": {},
   "outputs": [
    {
     "data": {
      "text/plain": [
       "[4, 5, 6, 7, 8, 9]"
      ]
     },
     "execution_count": 31,
     "metadata": {},
     "output_type": "execute_result"
    }
   ],
   "source": [
    "list(range(4, 10))"
   ]
  },
  {
   "cell_type": "code",
   "execution_count": 37,
   "id": "6618bf96-89bf-4998-9196-b693c5eaf14d",
   "metadata": {},
   "outputs": [
    {
     "data": {
      "text/plain": [
       "range"
      ]
     },
     "execution_count": 37,
     "metadata": {},
     "output_type": "execute_result"
    }
   ],
   "source": [
    "type(range(10))"
   ]
  },
  {
   "cell_type": "code",
   "execution_count": 44,
   "id": "9acf14f2-320a-4164-8391-355b397a71fb",
   "metadata": {},
   "outputs": [
    {
     "name": "stdout",
     "output_type": "stream",
     "text": [
      "<class 'range'>\n"
     ]
    }
   ],
   "source": [
    "type(range(0, 10))"
   ]
  },
  {
   "cell_type": "code",
   "execution_count": 38,
   "id": "f48aa18b-50e5-4166-938d-39d8a2114d59",
   "metadata": {},
   "outputs": [
    {
     "data": {
      "text/plain": [
       "int"
      ]
     },
     "execution_count": 38,
     "metadata": {},
     "output_type": "execute_result"
    }
   ],
   "source": [
    "type(40)"
   ]
  },
  {
   "cell_type": "code",
   "execution_count": 33,
   "id": "b6824524-1eef-4f66-a3c4-9c2ea9040a04",
   "metadata": {},
   "outputs": [
    {
     "name": "stdout",
     "output_type": "stream",
     "text": [
      "0 A\n",
      "1 C\n",
      "2 T\n",
      "3 G\n"
     ]
    }
   ],
   "source": [
    "for index, element in enumerate(\"ACTG\"):\n",
    "    print(index, element)"
   ]
  },
  {
   "cell_type": "code",
   "execution_count": 35,
   "id": "4f2e835a-95f8-4c8f-afd8-2f8d91c62679",
   "metadata": {},
   "outputs": [
    {
     "data": {
      "text/plain": [
       "[5, 2, 1, 0, -1]"
      ]
     },
     "execution_count": 35,
     "metadata": {},
     "output_type": "execute_result"
    }
   ],
   "source": [
    "sorted([1, 5, 2, 0, -1], reverse=True)"
   ]
  },
  {
   "cell_type": "code",
   "execution_count": 1,
   "id": "55dab16a-71e7-4627-bebd-be9008ac9105",
   "metadata": {},
   "outputs": [
    {
     "data": {
      "text/plain": [
       "9"
      ]
     },
     "execution_count": 1,
     "metadata": {},
     "output_type": "execute_result"
    }
   ],
   "source": [
    "sequence = [23, 57, 64, 16, 20, 55, 69, 43, 32, 59, 92, 59, 9, 92, 27, 9, 22, 40, 57, 77, 86, 60, 10, 26, 58]\n",
    "\n",
    "min(sequence)"
   ]
  },
  {
   "cell_type": "code",
   "execution_count": 2,
   "id": "464fa3fd-806f-49ed-8f80-96325914e012",
   "metadata": {},
   "outputs": [
    {
     "data": {
      "text/plain": [
       "92"
      ]
     },
     "execution_count": 2,
     "metadata": {},
     "output_type": "execute_result"
    }
   ],
   "source": [
    "max(sequence)"
   ]
  },
  {
   "cell_type": "code",
   "execution_count": 3,
   "id": "befe98fa-8e7a-4a04-9482-d61fe250b3fc",
   "metadata": {},
   "outputs": [
    {
     "data": {
      "text/plain": [
       "1162"
      ]
     },
     "execution_count": 3,
     "metadata": {},
     "output_type": "execute_result"
    }
   ],
   "source": [
    "sum(sequence)"
   ]
  },
  {
   "cell_type": "code",
   "execution_count": 4,
   "id": "d4bcfe23-bc3d-4f72-8f7c-3e0b630a676a",
   "metadata": {},
   "outputs": [
    {
     "data": {
      "text/plain": [
       "25"
      ]
     },
     "execution_count": 4,
     "metadata": {},
     "output_type": "execute_result"
    }
   ],
   "source": [
    "len(sequence)"
   ]
  },
  {
   "cell_type": "code",
   "execution_count": 45,
   "id": "bcd67dc3-a231-48b3-a394-f893bbe76e41",
   "metadata": {},
   "outputs": [
    {
     "data": {
      "text/plain": [
       "True"
      ]
     },
     "execution_count": 45,
     "metadata": {},
     "output_type": "execute_result"
    }
   ],
   "source": [
    "sequence = [False or True, True, False, True, False, False, True, True, True, True, True, True, True, True, False, False, False, True, True, False, False, True, True, False, False]\n",
    "\n",
    "any(sequence)"
   ]
  },
  {
   "cell_type": "code",
   "execution_count": 6,
   "id": "ff52bf50-47eb-44c3-af11-e3afbb10a9d0",
   "metadata": {},
   "outputs": [
    {
     "data": {
      "text/plain": [
       "False"
      ]
     },
     "execution_count": 6,
     "metadata": {},
     "output_type": "execute_result"
    }
   ],
   "source": [
    "all(sequence)"
   ]
  },
  {
   "cell_type": "code",
   "execution_count": 8,
   "id": "54ddcf77-df33-4ea5-b7a7-66935010f77f",
   "metadata": {},
   "outputs": [],
   "source": [
    "united_strands = list(united_strands)  # ora passa a lista!"
   ]
  },
  {
   "cell_type": "code",
   "execution_count": 9,
   "id": "e56b3185-d3d5-4643-9323-b0b0fd439722",
   "metadata": {},
   "outputs": [
    {
     "data": {
      "text/plain": [
       "('C', 'G')"
      ]
     },
     "execution_count": 9,
     "metadata": {},
     "output_type": "execute_result"
    }
   ],
   "source": [
    "united_strands[0]"
   ]
  },
  {
   "cell_type": "code",
   "execution_count": 10,
   "id": "91157db6-778e-4382-8fad-64e8c45c835b",
   "metadata": {},
   "outputs": [
    {
     "data": {
      "text/plain": [
       "[0, 1, 2, 3, 4, 5, 6, 7, 8, 9]"
      ]
     },
     "execution_count": 10,
     "metadata": {},
     "output_type": "execute_result"
    }
   ],
   "source": [
    "list(range(10))"
   ]
  },
  {
   "cell_type": "code",
   "execution_count": 11,
   "id": "2153abd1-3daa-4e90-b9ee-8b5c1c6ea6b1",
   "metadata": {},
   "outputs": [
    {
     "data": {
      "text/plain": [
       "[-4, 2, 10, 40]"
      ]
     },
     "execution_count": 11,
     "metadata": {},
     "output_type": "execute_result"
    }
   ],
   "source": [
    "numbers = [10, 2, -4, 40]\n",
    "sorted(numbers)"
   ]
  },
  {
   "cell_type": "code",
   "execution_count": 12,
   "id": "826a6da8-81e7-47df-9132-845e3918ab18",
   "metadata": {},
   "outputs": [
    {
     "data": {
      "text/plain": [
       "[(0, 'C'), (1, 'A'), (2, 'A'), (3, 'G'), (4, 'C')]"
      ]
     },
     "execution_count": 12,
     "metadata": {},
     "output_type": "execute_result"
    }
   ],
   "source": [
    "genome_with_indices = list(enumerate(genome))\n",
    "\n",
    "genome_with_indices[:5]"
   ]
  },
  {
   "cell_type": "markdown",
   "id": "0ea6e275-7743-4fe6-b538-13806a2d6a4f",
   "metadata": {},
   "source": [
    "---"
   ]
  },
  {
   "cell_type": "markdown",
   "id": "a4eb36a8-5a7a-4490-8f16-915922bf982f",
   "metadata": {},
   "source": [
    "# Up to you!"
   ]
  },
  {
   "cell_type": "code",
   "execution_count": 13,
   "id": "6cd1ed6e-6475-49ce-8a46-32a85e80116c",
   "metadata": {},
   "outputs": [],
   "source": [
    "def min_(elements) -> int:\n",
    "    pass"
   ]
  },
  {
   "cell_type": "code",
   "execution_count": 14,
   "id": "cf1f3e20-c180-477f-b06d-a8a86a1c05e5",
   "metadata": {},
   "outputs": [],
   "source": [
    "def all_(elements) -> bool:\n",
    "    pass"
   ]
  },
  {
   "cell_type": "code",
   "execution_count": 15,
   "id": "91f43d22-50bb-4bb4-850d-22a71ddfd1ff",
   "metadata": {},
   "outputs": [],
   "source": [
    "def any_(elements) -> bool:\n",
    "    pass"
   ]
  },
  {
   "cell_type": "code",
   "execution_count": 16,
   "id": "a59752ab-267f-4366-9e9a-f4854a56a333",
   "metadata": {},
   "outputs": [],
   "source": [
    "def index_(elements, searching_for):\n",
    "    \"\"\"Restituisce l'indice in cui trovo la prima occorrenza di searching_for in elements.\n",
    "    Se non la trovo, restituisco None.\n",
    "    \"\"\"\n",
    "    pass"
   ]
  },
  {
   "cell_type": "code",
   "execution_count": 17,
   "id": "39aa209d-de12-4823-a4c2-7d73e4e8c69b",
   "metadata": {},
   "outputs": [],
   "source": [
    "def subtract_list(a_list, another_list) -> set:\n",
    "    \"\"\"Crea un set con tutti gli elementi in a_list che non sonon in another_list.\"\"\"\n",
    "    pass"
   ]
  },
  {
   "cell_type": "code",
   "execution_count": null,
   "id": "73e2389b-9322-4e1a-957f-f870e3c0efc4",
   "metadata": {},
   "outputs": [],
   "source": [
    "subtract_list([0, 1, 2], [2, 3, 4])\n",
    "# {0, 1}"
   ]
  }
 ],
 "metadata": {
  "kernelspec": {
   "display_name": "Python 3 (ipykernel)",
   "language": "python",
   "name": "python3"
  },
  "language_info": {
   "codemirror_mode": {
    "name": "ipython",
    "version": 3
   },
   "file_extension": ".py",
   "mimetype": "text/x-python",
   "name": "python",
   "nbconvert_exporter": "python",
   "pygments_lexer": "ipython3",
   "version": "3.10.12"
  }
 },
 "nbformat": 4,
 "nbformat_minor": 5
}
