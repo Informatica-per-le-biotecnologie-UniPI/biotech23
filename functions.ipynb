{
 "cells": [
  {
   "cell_type": "markdown",
   "id": "ef594c39-5ff8-4bdd-9f37-01cb2a32ea90",
   "metadata": {},
   "source": [
    "# Funzioni\n",
    "*[Documentazione online](https://docs.python.org/3/tutorial/controlflow.html#defining-functions)*\n",
    "\n",
    "Una funzione incapsula del codice, che esegue sulla base del valore dei suoi *parametri*. Una funzione\n",
    "- deve essere definita,\n",
    "- puo' essere invocata,\n",
    "- e valuta a un valore.\n",
    "\n",
    "E.g.,\n",
    "```python\n",
    "def average(elements: list) -> float:\n",
    "    \"\"\"Calcola il valore medio della lista data.\n",
    "        :param elements: Lista di cui calcolare la media.\n",
    "    \"\"\"\n",
    "    return sum(elements) / len(elements)    \n",
    "```\n",
    "definisce la funzione `average` con parametro `elements`, che valuta a `float`.\n",
    "```python\n",
    "average([1, 2, 3, 4, 5])\n",
    "```\n",
    "invoca `average` con parametro `elements=[1, 2, 3, 4, 5]`, e valuta a `3.0`."
   ]
  },
  {
   "cell_type": "markdown",
   "id": "8b27fd7a-0b8b-4e54-a3d0-fba2aa504771",
   "metadata": {},
   "source": [
    "## Funzioni comuni"
   ]
  },
  {
   "cell_type": "markdown",
   "id": "5c7f57ec-8f07-4580-9258-0da12add591c",
   "metadata": {},
   "source": [
    "### Funzioni su liste\n",
    "\n",
    "- `min` valuta al valore minimo della sequenza in parametro\n",
    "- `max` valuta al valore massimo della sequenza in parametro\n",
    "- `len` lunghezza della lista/dizionario/set\n",
    "- `sum` somma dei valori nella lista/set\n",
    "- `list` crea una lista da una data collezione o generatore\n",
    "- `all` restituisce `True` se tutti gli elementi in parametro valutano a `True`\n",
    "- `any` restituisce `True` se tutti almeno un elemento in parametro valuta a `True`\n",
    "- `zip` come una zip (o due strand di DNA?), mette assieme diverse sequenze, permettendo di iterare passo passo l'una con le altre\n",
    "- `range` crea un generatore da un lower a un upper bound\n",
    "- `enumerate` crea un generatore su una collezione/generatore, affiancandogli un indice contatore\n",
    "- `sorted` ordina una collezione\n",
    "- `next` genera il prossimo elemento nel generatore"
   ]
  },
  {
   "cell_type": "code",
   "execution_count": 1,
   "id": "55dab16a-71e7-4627-bebd-be9008ac9105",
   "metadata": {},
   "outputs": [
    {
     "data": {
      "text/plain": [
       "9"
      ]
     },
     "execution_count": 1,
     "metadata": {},
     "output_type": "execute_result"
    }
   ],
   "source": [
    "sequence = [23, 57, 64, 16, 20, 55, 69, 43, 32, 59, 92, 59, 9, 92, 27, 9, 22, 40, 57, 77, 86, 60, 10, 26, 58]\n",
    "\n",
    "min(sequence)"
   ]
  },
  {
   "cell_type": "code",
   "execution_count": 2,
   "id": "464fa3fd-806f-49ed-8f80-96325914e012",
   "metadata": {},
   "outputs": [
    {
     "data": {
      "text/plain": [
       "92"
      ]
     },
     "execution_count": 2,
     "metadata": {},
     "output_type": "execute_result"
    }
   ],
   "source": [
    "max(sequence)"
   ]
  },
  {
   "cell_type": "code",
   "execution_count": 3,
   "id": "befe98fa-8e7a-4a04-9482-d61fe250b3fc",
   "metadata": {},
   "outputs": [
    {
     "data": {
      "text/plain": [
       "1162"
      ]
     },
     "execution_count": 3,
     "metadata": {},
     "output_type": "execute_result"
    }
   ],
   "source": [
    "sum(sequence)"
   ]
  },
  {
   "cell_type": "code",
   "execution_count": 4,
   "id": "d4bcfe23-bc3d-4f72-8f7c-3e0b630a676a",
   "metadata": {},
   "outputs": [
    {
     "data": {
      "text/plain": [
       "25"
      ]
     },
     "execution_count": 4,
     "metadata": {},
     "output_type": "execute_result"
    }
   ],
   "source": [
    "len(sequence)"
   ]
  },
  {
   "cell_type": "code",
   "execution_count": 5,
   "id": "bcd67dc3-a231-48b3-a394-f893bbe76e41",
   "metadata": {},
   "outputs": [
    {
     "data": {
      "text/plain": [
       "True"
      ]
     },
     "execution_count": 5,
     "metadata": {},
     "output_type": "execute_result"
    }
   ],
   "source": [
    "sequence = [False, True, False, True, False, False, True, True, True, True, True, True, True, True, False, False, False, True, True, False, False, True, True, False, False]\n",
    "\n",
    "any(sequence)"
   ]
  },
  {
   "cell_type": "code",
   "execution_count": 6,
   "id": "ff52bf50-47eb-44c3-af11-e3afbb10a9d0",
   "metadata": {},
   "outputs": [
    {
     "data": {
      "text/plain": [
       "False"
      ]
     },
     "execution_count": 6,
     "metadata": {},
     "output_type": "execute_result"
    }
   ],
   "source": [
    "all(sequence)"
   ]
  },
  {
   "cell_type": "code",
   "execution_count": 7,
   "id": "7bb3d4ea-916e-4e57-8fea-8259d3eae9af",
   "metadata": {},
   "outputs": [],
   "source": [
    "genome = \"CAAGCATGGCGAGTAAGTGATCCAACGCTTCGGATACGACTATATACTTAGGTTTGATCTCGCCCCGAGAACTGTAAACCTCAACATTTATAGATTATGAGGTTAGCCGAAAATGCACGTGGTGGCGCCCGCCGACTGCTCCCAGAGTGTGGCTCTTTGTTCTGTCAAGGCCCGACCTTCATCGCGGCCGATTCCTTCTGCGGACCATGTCGTCCTGATACTTTGGTCATGTTTCCGTTGTAGGAGTGAACCCACTTGGCTTTGCGCCATAATTCCAATGAAAAACCTATGCACTTTGTTTAGGGTACCATCAGGAATCTGAACCCTCAGATAGTGGGGATCCCGGGTATAGACCTTTATCTGCGGTCCAACTTAGGCATAAACCTGCATGCTACCTTGTCAGACCCACTCTGCACGAAGTAAATATGGGATGCGTCCGACCTGGCTCCTGGCGTTCCACGCCGCCACGTGTTCGTTAACTGTTGATTGGTGGCACATAAGTAATACCATGGTCCCTGAAATTCGGCTCAGTTACTTCGAGCGTAATGTCTCAAATGGCGTAGAACGGCAATGACTGTTTGACACTAGGTGGTGTTCAGTTCGGTAACGGAGAGTCTGTGCGGCATTCTTATTAATACATTTGAAACGCGCCCAACTGACGCTAGGCAAGTCAGTGCAGGCTCCCGTGTTAGGATAAGGGTAAACATACAAGTCGATAGAAGATGGGTAGGGGCCTTCAATTCATCCAGCACTCTACGGTTCCTCCGAGAGCAAGTAGGGCACCCTGTAGTTCGAAGGGGAACTATTTCGTGGGGCGAGCCCACACCGTCTCTTCTGCGGAAGACTTAACACGTTAGGGAGGTGGAATAGTTTCGAACGATGGTTATTAATCGTAATAACGGAACGCTGTCTGGAGGATGAGTCTGACGGTGTGTAACTCGATCAGTCACTCGCTATTCGAACTGCGCGAAAGATCCCAGCGCTCATGCACTTGATTCCG\"\n",
    "complement_genome = \"GTTCGTACCGCTCATTCACTAGGTTGCGAAGCCTATGCTGATATATGAATCCAAACTAGAGCGGGGCTCTTGACATTTGGAGTTGTAAATATCTAATACTCCAATCGGCTTTTACGTGCACCACCGCGGGCGGCTGACGAGGGTCTCACACCGAGAAACAAGACAGTTCCGGGCTGGAAGTAGCGCCGGCTAAGGAAGACGCCTGGTACAGCAGGACTATGAAACCAGTACAAAGGCAACATCCTCACTTGGGTGAACCGAAACGCGGTATTAAGGTTACTTTTTGGATACGTGAAACAAATCCCATGGTAGTCCTTAGACTTGGGAGTCTATCACCCCTAGGGCCCATATCTGGAAATAGACGCCAGGTTGAATCCGTATTTGGACGTACGATGGAACAGTCTGGGTGAGACGTGCTTCATTTATACCCTACGCAGGCTGGACCGAGGACCGCAAGGTGCGGCGGTGCACAAGCAATTGACAACTAACCACCGTGTATTCATTATGGTACCAGGGACTTTAAGCCGAGTCAATGAAGCTCGCATTACAGAGTTTACCGCATCTTGCCGTTACTGACAAACTGTGATCCACCACAAGTCAAGCCATTGCCTCTCAGACACGCCGTAAGAATAATTATGTAAACTTTGCGCGGGTTGACTGCGATCCGTTCAGTCACGTCCGAGGGCACAATCCTATTCCCATTTGTATGTTCAGCTATCTTCTACCCATCCCCGGAAGTTAAGTAGGTCGTGAGATGCCAAGGAGGCTCTCGTTCATCCCGTGGGACATCAAGCTTCCCCTTGATAAAGCACCCCGCTCGGGTGTGGCAGAGAAGACGCCTTCTGAATTGTGCAATCCCTCCACCTTATCAAAGCTTGCTACCAATAATTAGCATTATTGCCTTGCGACAGACCTCCTACTCAGACTGCCACACATTGAGCTAGTCAGTGAGCGATAAGCTTGACGCGCTTTCTAGGGTCGCGAGTACGTGAACTAAGGC\"\n",
    "\n",
    "united_strands = zip(genome, complement_genome)  # generatore"
   ]
  },
  {
   "cell_type": "code",
   "execution_count": 8,
   "id": "54ddcf77-df33-4ea5-b7a7-66935010f77f",
   "metadata": {},
   "outputs": [],
   "source": [
    "united_strands = list(united_strands)  # ora passa a lista!"
   ]
  },
  {
   "cell_type": "code",
   "execution_count": 9,
   "id": "e56b3185-d3d5-4643-9323-b0b0fd439722",
   "metadata": {},
   "outputs": [
    {
     "data": {
      "text/plain": [
       "('C', 'G')"
      ]
     },
     "execution_count": 9,
     "metadata": {},
     "output_type": "execute_result"
    }
   ],
   "source": [
    "united_strands[0]"
   ]
  },
  {
   "cell_type": "code",
   "execution_count": 10,
   "id": "91157db6-778e-4382-8fad-64e8c45c835b",
   "metadata": {},
   "outputs": [
    {
     "data": {
      "text/plain": [
       "[0, 1, 2, 3, 4, 5, 6, 7, 8, 9]"
      ]
     },
     "execution_count": 10,
     "metadata": {},
     "output_type": "execute_result"
    }
   ],
   "source": [
    "list(range(10))"
   ]
  },
  {
   "cell_type": "code",
   "execution_count": 11,
   "id": "2153abd1-3daa-4e90-b9ee-8b5c1c6ea6b1",
   "metadata": {},
   "outputs": [
    {
     "data": {
      "text/plain": [
       "[-4, 2, 10, 40]"
      ]
     },
     "execution_count": 11,
     "metadata": {},
     "output_type": "execute_result"
    }
   ],
   "source": [
    "numbers = [10, 2, -4, 40]\n",
    "sorted(numbers)"
   ]
  },
  {
   "cell_type": "code",
   "execution_count": 12,
   "id": "826a6da8-81e7-47df-9132-845e3918ab18",
   "metadata": {},
   "outputs": [
    {
     "data": {
      "text/plain": [
       "[(0, 'C'), (1, 'A'), (2, 'A'), (3, 'G'), (4, 'C')]"
      ]
     },
     "execution_count": 12,
     "metadata": {},
     "output_type": "execute_result"
    }
   ],
   "source": [
    "genome_with_indices = list(enumerate(genome))\n",
    "\n",
    "genome_with_indices[:5]"
   ]
  },
  {
   "cell_type": "markdown",
   "id": "0ea6e275-7743-4fe6-b538-13806a2d6a4f",
   "metadata": {},
   "source": [
    "---"
   ]
  },
  {
   "cell_type": "markdown",
   "id": "a4eb36a8-5a7a-4490-8f16-915922bf982f",
   "metadata": {},
   "source": [
    "# Up to you!"
   ]
  },
  {
   "cell_type": "code",
   "execution_count": 13,
   "id": "6cd1ed6e-6475-49ce-8a46-32a85e80116c",
   "metadata": {},
   "outputs": [],
   "source": [
    "def min_(elements) -> int:\n",
    "    pass"
   ]
  },
  {
   "cell_type": "code",
   "execution_count": 14,
   "id": "cf1f3e20-c180-477f-b06d-a8a86a1c05e5",
   "metadata": {},
   "outputs": [],
   "source": [
    "def all_(elements) -> bool:\n",
    "    pass"
   ]
  },
  {
   "cell_type": "code",
   "execution_count": 15,
   "id": "91f43d22-50bb-4bb4-850d-22a71ddfd1ff",
   "metadata": {},
   "outputs": [],
   "source": [
    "def any_(elements) -> bool:\n",
    "    pass"
   ]
  },
  {
   "cell_type": "code",
   "execution_count": 16,
   "id": "a59752ab-267f-4366-9e9a-f4854a56a333",
   "metadata": {},
   "outputs": [],
   "source": [
    "def index_(elements, searching_for):\n",
    "    \"\"\"Restituisce l'indice in cui trovo la prima occorrenza di searching_for in elements.\n",
    "    Se non la trovo, restituisco None.\n",
    "    \"\"\"\n",
    "    pass"
   ]
  },
  {
   "cell_type": "code",
   "execution_count": 17,
   "id": "39aa209d-de12-4823-a4c2-7d73e4e8c69b",
   "metadata": {},
   "outputs": [],
   "source": [
    "def subtract_list(a_list, another_list) -> set:\n",
    "    \"\"\"Crea un set con tutti gli elementi in a_list che non sonon in another_list.\"\"\"\n",
    "    pass"
   ]
  }
 ],
 "metadata": {
  "kernelspec": {
   "display_name": "Python 3 (ipykernel)",
   "language": "python",
   "name": "python3"
  },
  "language_info": {
   "codemirror_mode": {
    "name": "ipython",
    "version": 3
   },
   "file_extension": ".py",
   "mimetype": "text/x-python",
   "name": "python",
   "nbconvert_exporter": "python",
   "pygments_lexer": "ipython3",
   "version": "3.10.12"
  }
 },
 "nbformat": 4,
 "nbformat_minor": 5
}
