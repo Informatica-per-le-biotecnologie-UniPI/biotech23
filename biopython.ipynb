{
 "cells": [
  {
   "cell_type": "markdown",
   "id": "28c2563c-3b9c-423b-a6df-2cdbf143ceac",
   "metadata": {},
   "source": [
    "# Biopython\n",
    "*[Reference online](https://biopython.org)*\n",
    "\n"
   ]
  },
  {
   "cell_type": "code",
   "execution_count": 1,
   "id": "deb72df4-67b6-4076-8fd3-5fd20da484a7",
   "metadata": {},
   "outputs": [
    {
     "name": "stdout",
     "output_type": "stream",
     "text": [
      "Collecting biopython\n",
      "  Downloading biopython-1.84-cp312-cp312-manylinux_2_17_x86_64.manylinux2014_x86_64.whl.metadata (12 kB)\n",
      "Collecting numpy (from biopython)\n",
      "  Downloading numpy-2.1.3-cp312-cp312-manylinux_2_17_x86_64.manylinux2014_x86_64.whl.metadata (62 kB)\n",
      "Downloading biopython-1.84-cp312-cp312-manylinux_2_17_x86_64.manylinux2014_x86_64.whl (3.2 MB)\n",
      "\u001b[2K   \u001b[38;2;114;156;31m━━━━━━━━━━━━━━━━━━━━━━━━━━━━━━━━━━━━━━━━\u001b[0m \u001b[32m3.2/3.2 MB\u001b[0m \u001b[31m10.6 MB/s\u001b[0m eta \u001b[36m0:00:00\u001b[0m MB/s\u001b[0m eta \u001b[36m0:00:01\u001b[0m\n",
      "\u001b[?25hDownloading numpy-2.1.3-cp312-cp312-manylinux_2_17_x86_64.manylinux2014_x86_64.whl (16.0 MB)\n",
      "\u001b[2K   \u001b[38;2;114;156;31m━━━━━━━━━━━━━━━━━━━━━━━━━━━━━━━━━━━━━━━━\u001b[0m \u001b[32m16.0/16.0 MB\u001b[0m \u001b[31m52.1 MB/s\u001b[0m eta \u001b[36m0:00:00\u001b[0m MB/s\u001b[0m eta \u001b[36m0:00:01\u001b[0m\n",
      "\u001b[?25hInstalling collected packages: numpy, biopython\n",
      "Successfully installed biopython-1.84 numpy-2.1.3\n",
      "\n",
      "\u001b[1m[\u001b[0m\u001b[34;49mnotice\u001b[0m\u001b[1;39;49m]\u001b[0m\u001b[39;49m A new release of pip is available: \u001b[0m\u001b[31;49m24.2\u001b[0m\u001b[39;49m -> \u001b[0m\u001b[32;49m24.3.1\u001b[0m\n",
      "\u001b[1m[\u001b[0m\u001b[34;49mnotice\u001b[0m\u001b[1;39;49m]\u001b[0m\u001b[39;49m To update, run: \u001b[0m\u001b[32;49mpip install --upgrade pip\u001b[0m\n"
     ]
    }
   ],
   "source": [
    "!pip install biopython"
   ]
  },
  {
   "cell_type": "markdown",
   "id": "f50c506e-6662-43c0-bd95-77d65ae2c3da",
   "metadata": {},
   "source": [
    "# Classi base: `Seq`\n",
    "\n",
    "Definisce una sequenza generica, equipaggiata con metodi orientati alle sequenze genetiche."
   ]
  },
  {
   "cell_type": "code",
   "execution_count": 2,
   "id": "9c3f8453-d4e0-4463-9b6a-7bbd6d66376a",
   "metadata": {},
   "outputs": [
    {
     "name": "stdout",
     "output_type": "stream",
     "text": [
      "Sequence: AUGAACTGGTAUUA\n",
      "Sequence complement: TACTTGACCATAAT\n",
      "Sequence reverse complement: TAATACCAGTTCAT\n",
      "DNA to RNA: AUGAACUGGUAUUA\n",
      "RNA to DNA: ATGAACTGGTATTA\n"
     ]
    }
   ],
   "source": [
    "from Bio.Seq import Seq\n",
    "\n",
    "\n",
    "sequence_str = \"AUGAACTGGTAUUA\"\n",
    "sequence = Seq(sequence_str)\n",
    "\n",
    "print(f\"Sequence: {sequence}\")\n",
    "print(f\"Sequence complement: {sequence.complement()}\")\n",
    "print(f\"Sequence reverse complement: {sequence.reverse_complement()}\")\n",
    "\n",
    "print(f\"DNA to RNA: {sequence.transcribe()}\")\n",
    "print(f\"RNA to DNA: {sequence.transcribe().back_transcribe()}\")"
   ]
  },
  {
   "cell_type": "code",
   "execution_count": 3,
   "id": "a3f1c927-a5b5-46fc-9b00-12758d2dd55f",
   "metadata": {},
   "outputs": [
    {
     "data": {
      "text/plain": [
       "('A', Seq('AUG'), Seq('AUGCTGGTAUUA'))"
      ]
     },
     "execution_count": 3,
     "metadata": {},
     "output_type": "execute_result"
    }
   ],
   "source": [
    "sequence[3], sequence[:3], sequence[:3] + sequence[5:]"
   ]
  },
  {
   "cell_type": "markdown",
   "id": "8abc3558-e5b5-4878-9ed1-ac9568d56906",
   "metadata": {},
   "source": [
    "### Ricerca sottostringhe"
   ]
  },
  {
   "cell_type": "code",
   "execution_count": 4,
   "id": "dd423cc4-128d-492b-b0ec-8f269419354c",
   "metadata": {},
   "outputs": [
    {
     "name": "stdout",
     "output_type": "stream",
     "text": [
      "5\n"
     ]
    }
   ],
   "source": [
    "print(sequence.index(\"CTG\"))"
   ]
  },
  {
   "cell_type": "code",
   "execution_count": 5,
   "id": "248ef11f-4d41-4cd8-b847-49a24798adda",
   "metadata": {},
   "outputs": [
    {
     "name": "stdout",
     "output_type": "stream",
     "text": [
      "1\n"
     ]
    }
   ],
   "source": [
    "print(sequence.count(\"CTG\"))"
   ]
  },
  {
   "cell_type": "markdown",
   "id": "86959afa-113d-4a0c-832f-5d126a361b99",
   "metadata": {},
   "source": [
    "### Sintetizzazione proteine\n",
    "\n",
    "Alcune sequenze di DNA sintetizzano proteine mediante traduzioni successive `DNA > mRNA > catena amminoacidi > proteina`. Questi son mediati da diverse tabelle di traduzione che mappano sottosequenze in amminoacidi.\n",
    "\n",
    "Possibili tabelle disponibili su [NCBI](https://www.ncbi.nlm.nih.gov/Taxonomy/Utils/wprintgc.cgi)."
   ]
  },
  {
   "cell_type": "code",
   "execution_count": 6,
   "id": "d06d5515-7447-497f-8615-7e726b8e4116",
   "metadata": {},
   "outputs": [
    {
     "name": "stderr",
     "output_type": "stream",
     "text": [
      "/home/ms/.virtualenvs/biotech/lib/python3.12/site-packages/Bio/Seq.py:2879: BiopythonWarning: Partial codon, len(sequence) not a multiple of three. Explicitly trim the sequence or add trailing N before translation. This may become an error in future.\n",
      "  warnings.warn(\n"
     ]
    },
    {
     "data": {
      "text/plain": [
       "Seq('MNWY')"
      ]
     },
     "execution_count": 6,
     "metadata": {},
     "output_type": "execute_result"
    }
   ],
   "source": [
    "sequence.translate(table=\"Vertebrate Mitochondrial\")"
   ]
  },
  {
   "cell_type": "code",
   "execution_count": 7,
   "id": "06bd27ff-cb93-43a9-9d51-c9ea156e767d",
   "metadata": {},
   "outputs": [
    {
     "name": "stdout",
     "output_type": "stream",
     "text": [
      "Table 2 Vertebrate Mitochondrial, SGC1\n",
      "\n",
      "  |  T      |  C      |  A      |  G      |\n",
      "--+---------+---------+---------+---------+--\n",
      "T | TTT F   | TCT S   | TAT Y   | TGT C   | T\n",
      "T | TTC F   | TCC S   | TAC Y   | TGC C   | C\n",
      "T | TTA L   | TCA S   | TAA Stop| TGA W   | A\n",
      "T | TTG L   | TCG S   | TAG Stop| TGG W   | G\n",
      "--+---------+---------+---------+---------+--\n",
      "C | CTT L   | CCT P   | CAT H   | CGT R   | T\n",
      "C | CTC L   | CCC P   | CAC H   | CGC R   | C\n",
      "C | CTA L   | CCA P   | CAA Q   | CGA R   | A\n",
      "C | CTG L   | CCG P   | CAG Q   | CGG R   | G\n",
      "--+---------+---------+---------+---------+--\n",
      "A | ATT I(s)| ACT T   | AAT N   | AGT S   | T\n",
      "A | ATC I(s)| ACC T   | AAC N   | AGC S   | C\n",
      "A | ATA M(s)| ACA T   | AAA K   | AGA Stop| A\n",
      "A | ATG M(s)| ACG T   | AAG K   | AGG Stop| G\n",
      "--+---------+---------+---------+---------+--\n",
      "G | GTT V   | GCT A   | GAT D   | GGT G   | T\n",
      "G | GTC V   | GCC A   | GAC D   | GGC G   | C\n",
      "G | GTA V   | GCA A   | GAA E   | GGA G   | A\n",
      "G | GTG V(s)| GCG A   | GAG E   | GGG G   | G\n",
      "--+---------+---------+---------+---------+--\n"
     ]
    }
   ],
   "source": [
    "from Bio.Data import CodonTable\n",
    "\n",
    "\n",
    "table = CodonTable.unambiguous_dna_by_name[\"Vertebrate Mitochondrial\"]\n",
    "\n",
    "print(table)"
   ]
  },
  {
   "cell_type": "markdown",
   "id": "175b9604-2c40-45ad-9f4c-9b08c8e159b4",
   "metadata": {},
   "source": [
    "Queste tabelle possono essere lette come seque:\n",
    "- prima colonna: prima lettera del codone\n",
    "- prima riga: seconda lettera del codone\n",
    "- celle: codone completo"
   ]
  },
  {
   "cell_type": "markdown",
   "id": "70a7d1f4-f178-438f-8bd6-f0ba119c2557",
   "metadata": {},
   "source": [
    "---"
   ]
  },
  {
   "cell_type": "markdown",
   "id": "82c1a75d-892c-427b-ba0d-e7b2ed1e1234",
   "metadata": {},
   "source": [
    "# Sequenze... and more: `SeqRecord`\n",
    "\n",
    "[Reference online](https://biopython.org/wiki/SeqRecord).\n",
    "\n",
    "La classe `SeqRecord` permette di avere informazioni aggiuntive."
   ]
  },
  {
   "cell_type": "code",
   "execution_count": 8,
   "id": "85a69928-6624-4c7c-b155-e70ab2955085",
   "metadata": {},
   "outputs": [],
   "source": [
    "from Bio.SeqRecord import SeqRecord\n",
    "\n",
    "genome = Seq(\"ACTGATTCGGACTCTAAGTTA\")\n",
    "organism = SeqRecord(\n",
    "    genome,\n",
    "    id=\"organism_4523145\",\n",
    "    name=\"lab_rat\",\n",
    "    description=\"Laboratory rat, taken in Fucecchio.\"\n",
    ")"
   ]
  },
  {
   "cell_type": "code",
   "execution_count": 9,
   "id": "6dfcaafd-793b-4c08-beab-787253087669",
   "metadata": {},
   "outputs": [
    {
     "data": {
      "text/plain": [
       "('organism_4523145', 'lab_rat')"
      ]
     },
     "execution_count": 9,
     "metadata": {},
     "output_type": "execute_result"
    }
   ],
   "source": [
    "organism.id, organism.name"
   ]
  },
  {
   "cell_type": "markdown",
   "id": "a53ea394-4e3c-4280-970c-12a2a8955a5a",
   "metadata": {},
   "source": [
    "`SeqRecord`s mantengono le funzioni di `Seq`."
   ]
  },
  {
   "cell_type": "code",
   "execution_count": 10,
   "id": "d7a4c026-9aad-4c65-b5e1-c51ccaa53f45",
   "metadata": {},
   "outputs": [
    {
     "data": {
      "text/plain": [
       "SeqRecord(seq=Seq('ACTGA'), id='organism_4523145', name='lab_rat', description='Laboratory rat, taken in Fucecchio.', dbxrefs=[])"
      ]
     },
     "execution_count": 10,
     "metadata": {},
     "output_type": "execute_result"
    }
   ],
   "source": [
    "organism[:5]"
   ]
  },
  {
   "cell_type": "markdown",
   "id": "07477e5a-08fc-4c42-bd05-b74b9e53ef8f",
   "metadata": {},
   "source": [
    "---"
   ]
  },
  {
   "cell_type": "markdown",
   "id": "dbaad01f-bbf5-4deb-8a97-4533a68141d6",
   "metadata": {},
   "source": [
    "# Sequenze su disco: `FASTA`\n",
    "\n",
    "Sequenze genetiche e di proteine sono spesso salvate in formati specifi, e.g., `FASTA`.\n",
    "\n",
    "Formato\n",
    "```\n",
    ">{descrizione}\n",
    "{sequenza}\n",
    "```\n",
    "\n",
    "E.g.,\n",
    "```\n",
    ">MCHU - Calmodulin - Human, rabbit, bovine, rat, and chicken\n",
    "MADQLTEEQIAEFKEAFSLFDKDGDGTITTKELGTVMRSLGQNPTEAELQDMINEVDADGNGTID\n",
    "FPEFLTMMARKMKDTDSEEEIREAFRVFDKDGNGYISAAELRHVMTNLGEKLTDEEVDEMIREA\n",
    "DIDGDGQVNYEEFVQMMTAK*\n",
    "```\n",
    "\n",
    "Il formato viene definito regolamentato da NIH: [reference online](https://blast.ncbi.nlm.nih.gov/doc/blast-topics/).\n",
    "Nella descrizione possiamo inserire diverse informazioni, alcune con degli standard definiti, e.g., per indicare la provenienza di dati ([reference online](https://ncbi.github.io/cxx-toolkit/pages/ch_demo#ch_demo.id1_fetch.html_ref_fasta))."
   ]
  },
  {
   "cell_type": "code",
   "execution_count": 12,
   "id": "f19b076d-004f-4b8e-8173-d55b39e51600",
   "metadata": {},
   "outputs": [],
   "source": [
    "from Bio import SeqIO\n",
    "\n",
    "\n",
    "# fonte: https://www.rcsb.org/downloads/fasta\n",
    "sequences = list(SeqIO.parse(\"data/pdb_seqres.fasta\", \"fasta\"))"
   ]
  },
  {
   "cell_type": "code",
   "execution_count": 13,
   "id": "0d140a81-2bc3-4a01-b309-f77e8f041fbc",
   "metadata": {},
   "outputs": [
    {
     "data": {
      "text/plain": [
       "SeqRecord(seq=Seq('CCGGCGCCGG'), id='100d_A', name='100d_A', description=\"100d_A mol:na length:10  DNA/RNA (5'-R(*CP*)-D(*CP*GP*GP*CP*GP*CP*CP*GP*)-R(*G)-3')\", dbxrefs=[])"
      ]
     },
     "execution_count": 13,
     "metadata": {},
     "output_type": "execute_result"
    }
   ],
   "source": [
    "sequences[0]"
   ]
  },
  {
   "cell_type": "markdown",
   "id": "25f16fc7-8337-4655-8e27-f54cf0812b6c",
   "metadata": {},
   "source": [
    "# Sequenze su disco: `Genbank`\n",
    "\n",
    "Formato e database manutenuto da [NIH](https://www.ncbi.nlm.nih.gov/genbank/), e che unisce sequenze genetiche da database Europei e Giapponesi."
   ]
  },
  {
   "cell_type": "code",
   "execution_count": 15,
   "id": "3ee05a3d-70cd-4d5e-a9d5-fbc372e40358",
   "metadata": {},
   "outputs": [],
   "source": [
    "# fonte: https://www.ncbi.nlm.nih.gov/pmc/articles/PMC8359044/\n",
    "orchids = list(SeqIO.parse(\"data/ls_orchid.gbk\", \"genbank\"))"
   ]
  },
  {
   "cell_type": "code",
   "execution_count": 16,
   "id": "0fba366a-dd06-4c0f-94c9-206ce8104158",
   "metadata": {},
   "outputs": [
    {
     "name": "stdout",
     "output_type": "stream",
     "text": [
      "{'molecule_type': 'DNA', 'topology': 'linear', 'data_file_division': 'PLN', 'date': '30-NOV-2006', 'accessions': ['Z78533'], 'sequence_version': 1, 'gi': '2765658', 'keywords': ['5.8S ribosomal RNA', '5.8S rRNA gene', 'internal transcribed spacer', 'ITS1', 'ITS2'], 'source': 'Cypripedium irapeanum', 'organism': 'Cypripedium irapeanum', 'taxonomy': ['Eukaryota', 'Viridiplantae', 'Streptophyta', 'Embryophyta', 'Tracheophyta', 'Spermatophyta', 'Magnoliophyta', 'Liliopsida', 'Asparagales', 'Orchidaceae', 'Cypripedioideae', 'Cypripedium'], 'references': [Reference(title='Phylogenetics of the slipper orchids (Cypripedioideae: Orchidaceae): nuclear rDNA ITS sequences', ...), Reference(title='Direct Submission', ...)]}\n"
     ]
    }
   ],
   "source": [
    "print(\n",
    "    # orchids[0].id,\n",
    "    # orchids[0].name,\n",
    "    # orchids[0].description,\n",
    "    # orchids[0].seq,\n",
    "    orchids[0].annotations\n",
    ")"
   ]
  },
  {
   "cell_type": "markdown",
   "id": "a9c80a78-575c-44c0-8bb7-6b796111a1ed",
   "metadata": {},
   "source": [
    "# Salvare sequenze su disco"
   ]
  },
  {
   "cell_type": "code",
   "execution_count": null,
   "id": "7fc7e879-df46-480e-9343-83683ec2f06c",
   "metadata": {},
   "outputs": [],
   "source": [
    "SeqIO.write(orchids[:1], handle=\"orchids.faa\", format=\"fasta\")"
   ]
  },
  {
   "cell_type": "markdown",
   "id": "d5721dca-232a-44c6-9e8c-fd5f90b7037a",
   "metadata": {},
   "source": [
    "# Sequenze su disco... remoto: `Entrez`\n",
    "\n",
    "NIH offre accesso a diversi database pubblici [direttamente online](https://www.ncbi.nlm.nih.gov)! `biopython` ci permette di avere accesso diretto."
   ]
  },
  {
   "cell_type": "code",
   "execution_count": 17,
   "id": "8afd7c69-cb84-46f2-ab16-380c48bf1dad",
   "metadata": {},
   "outputs": [
    {
     "name": "stderr",
     "output_type": "stream",
     "text": [
      "/home/ms/.virtualenvs/biotech/lib/python3.12/site-packages/Bio/Entrez/__init__.py:734: UserWarning: \n",
      "            Email address is not specified.\n",
      "\n",
      "            To make use of NCBI's E-utilities, NCBI requires you to specify your\n",
      "            email address with each request.  As an example, if your email address\n",
      "            is A.N.Other@example.com, you can specify it as follows:\n",
      "               from Bio import Entrez\n",
      "               Entrez.email = 'A.N.Other@example.com'\n",
      "            In case of excessive usage of the E-utilities, NCBI will attempt to contact\n",
      "            a user at the email address provided before blocking access to the\n",
      "            E-utilities.\n",
      "  warnings.warn(\n"
     ]
    },
    {
     "name": "stdout",
     "output_type": "stream",
     "text": [
      "ID: NP_001098858.1\n",
      "Name: NP_001098858\n",
      "Description: tyrosine-protein kinase ITK/TSK [Bos taurus]\n",
      "Number of features: 18\n",
      "/topology=linear\n",
      "/data_file_division=MAM\n",
      "/date=03-FEB-2022\n",
      "/accessions=['NP_001098858', 'XP_600591']\n",
      "/sequence_version=1\n",
      "/db_source=REFSEQ: accession NM_001105388.1\n",
      "/keywords=['RefSeq']\n",
      "/source=Bos taurus (domestic cattle)\n",
      "/organism=Bos taurus\n",
      "/taxonomy=['Eukaryota', 'Metazoa', 'Chordata', 'Craniata', 'Vertebrata', 'Euteleostomi', 'Mammalia', 'Eutheria', 'Laurasiatheria', 'Artiodactyla', 'Ruminantia', 'Pecora', 'Bovidae', 'Bovinae', 'Bos']\n",
      "/references=[Reference(title='A positional candidate gene association analysis of susceptibility to paratuberculosis on bovine chromosome 7', ...), Reference(title='A whole-genome assembly of the domestic cow, Bos taurus', ...)]\n",
      "/comment=PROVISIONAL REFSEQ: This record has not yet been subject to final\n",
      "NCBI review. The reference sequence was derived from BC153237.1.\n",
      "On Sep 25, 2007 this sequence version replaced XP_600591.3.\n",
      "/structured_comment=defaultdict(<class 'dict'>, {'Evidence-Data': {'Transcript exon combination': 'BC153237.1, SRR5721698.1001.1 [ECO:0000332]', 'RNAseq introns': 'single sample supports all introns SAMN03145426, SAMN03145442 [ECO:0000348]'}})\n",
      "/molecule_type=protein\n",
      "Seq('MNNFILLEEQLIKKSQQKRRTSPSNFKVRFFVLTKTSLAYFEDRHGKKRTLKGS...LGL')\n"
     ]
    }
   ],
   "source": [
    "from Bio import Entrez\n",
    "from Bio import SeqIO\n",
    "\n",
    "\n",
    "with Entrez.efetch(db=\"protein\", rettype=\"gb\", retmode=\"text\", id=\"157427902\") as handle:\n",
    "    tyrosine = SeqIO.read(handle, \"gb\")\n",
    "print(tyrosine)"
   ]
  },
  {
   "cell_type": "code",
   "execution_count": 18,
   "id": "ce9115d8-4a07-4181-98c2-5c1fca8b2c03",
   "metadata": {},
   "outputs": [
    {
     "name": "stdout",
     "output_type": "stream",
     "text": [
      "ID: X14848.1\n",
      "Name: X14848\n",
      "Description: Rattus norvegicus mitochondrial genome\n",
      "Number of features: 40\n",
      "/molecule_type=DNA\n",
      "/topology=circular\n",
      "/data_file_division=ROD\n",
      "/date=26-JUL-2016\n",
      "/accessions=['X14848', 'V01574']\n",
      "/sequence_version=1\n",
      "/keywords=['12S ribosomal RNA', '16S ribosomal RNA', 'ATPase', 'ATPase subunit 6', 'ATPase subunit 8', 'complete genome', 'cytochrome b', 'cytochrome c oxidase', 'cytochrome c oxidase subunit I', 'cytochrome c oxidase subunit II', 'cytochrome c oxidase subunit III', 'NADH dehydrogenase', 'NADH dehydrogenase subunit 1', 'NADH dehydrogenase subunit 2', 'NADH dehydrogenase subunit 3', 'NADH dehydrogenase subunit 4', 'NADH dehydrogenase subunit 4L', 'NADH dehydrogenase subunit 5', 'NADH dehydrogenase subunit 6', 'origin of replication', 'ribosomal RNA', 'transfer RNA', 'transfer RNA-Ala', 'transfer RNA-Arg', 'transfer RNA-Asn', 'transfer RNA-Asp', 'transfer RNA-Cys', 'transfer RNA-Gln', 'transfer RNA-Glu', 'transfer RNA-Gly', 'transfer RNA-His', 'transfer RNA-Ile', 'transfer RNA-Leu', 'transfer RNA-Lys', 'transfer RNA-Met', 'transfer RNA-Phe', 'transfer RNA-Pro', 'transfer RNA-Ser', 'transfer RNA-Thr', 'transfer RNA-Trp', 'transfer RNA-Tyr', 'transfer RNA-Val', 'ubiquinol-cytochrome c reductase']\n",
      "/source=mitochondrion Rattus norvegicus (Norway rat)\n",
      "/organism=Rattus norvegicus\n",
      "/taxonomy=['Eukaryota', 'Metazoa', 'Chordata', 'Craniata', 'Vertebrata', 'Euteleostomi', 'Mammalia', 'Eutheria', 'Euarchontoglires', 'Glires', 'Rodentia', 'Myomorpha', 'Muroidea', 'Muridae', 'Murinae', 'Rattus']\n",
      "/references=[Reference(title='Analysis of a DNA segment from rat liver mitochondria containing the genes for the cytochrome oxidase subunits I, II and III, ATPase subunit 6, and several tRNA genes', ...), Reference(title='tRNA genes in rat liver mitochondrial DNA', ...), Reference(title='The complete nucleotide sequence of the Rattus norvegicus mitochondrial genome: cryptic signals revealed by comparative analysis between vertebrates', ...), Reference(title='Direct Submission', ...), Reference(title='Direct Submission', ...)]\n",
      "/comment=On or before Oct 14, 2002 this sequence version replaced V01574.1,\n",
      "gi:639980.\n",
      "for seqs get included see V00681, K00434, J01436, X07479, X07482.\n",
      "Seq('GTTAATGTAGCTTATAATAAAGCAAAGCACTGAAAATGCTTAGATGGATTCAAA...AAA')\n"
     ]
    }
   ],
   "source": [
    "with Entrez.efetch(db=\"nuccore\", rettype=\"gb\", retmode=\"text\", id=\"X14848.1\") as handle:\n",
    "    r = SeqIO.read(handle, \"gb\")\n",
    "print(r)"
   ]
  },
  {
   "cell_type": "markdown",
   "id": "438208d1-603f-4ead-b950-c7412c2f348c",
   "metadata": {},
   "source": [
    "---"
   ]
  },
  {
   "cell_type": "markdown",
   "id": "0878a824-2c6d-44fa-917d-b9af3294a7ef",
   "metadata": {},
   "source": [
    "# Sequenze e allineamento\n",
    "*Sequence alignment* ci permette di allineare due o piu' sequenze in modo da farle combaciare quanto piu' possibile.\n",
    "\n",
    "```\n",
    "s: A C C T G A\n",
    "t: A T G A\n",
    "```\n",
    "possono essere allineate in\n",
    "```\n",
    "s: A C C T G A\n",
    "t: A - - T G A\n",
    "```\n",
    "dove `-` indica elementi mancanti. L'allineamento e' utile per, e.g.,\n",
    "- trovare sottoaree del genoma comune\n",
    "- ricostruire relazioni filogenetiche tra genomi\n",
    "- ricostruire sequenze parziali\n",
    "\n",
    "Risolvere sequence alignment e' un problema **complesso**, a volte **approssimato**, e che puo' accettare **piu' soluzioni**."
   ]
  },
  {
   "cell_type": "markdown",
   "id": "98d87f01-0901-4e18-ae56-b6a960e27beb",
   "metadata": {},
   "source": [
    "---"
   ]
  },
  {
   "cell_type": "markdown",
   "id": "7f6e583c-0090-48e1-a9e7-15c562af3f20",
   "metadata": {},
   "source": [
    "# Sequenze e similarita'\n",
    "Oltre a allineare sequenze, possiamo computarne la similarita': quanto e' il dato genoma `s` simile a un dato genoma `t`?\n",
    "\n",
    "Spesso utilizzato per fare un matching tra un nuovo genoma e una banca dati di genomi. Come per l'allineamento, gli algoritmi possono essere approssimati, e le soluzioni non uniche. Useremo la suite di algoritmi BLAST (Basic Local Alignment Search Tool), che propone diversi algoritmi:\n",
    "- blastn\n",
    "- blastp\n",
    "- blastx\n",
    "- tblast\n",
    "- tblastx"
   ]
  },
  {
   "cell_type": "code",
   "execution_count": null,
   "id": "e8a6cce6-7817-4893-abf2-cf5eab6a9c1f",
   "metadata": {},
   "outputs": [],
   "source": [
    "from Bio.Blast.NCBIWWW import qblast\n",
    "\n",
    "result_stream = NCBIWWW.qblast(\"blastn\", \"nt\", \"8332116\")\n",
    "data = SearchIO.read(result_stream, \"blast-xml\")\n",
    "print(data),"
   ]
  },
  {
   "cell_type": "markdown",
   "id": "ae45aa85-d5f9-4001-865d-31936aab84e7",
   "metadata": {},
   "source": [
    "I vari match sono `Hit`, ognuno con diverse proprieta':\n",
    "- score di similarita': `evalue`\n",
    "- score di similarita': `bitscore`\n",
    "- allineamenti: `aln`"
   ]
  },
  {
   "cell_type": "code",
   "execution_count": null,
   "id": "ea04e185-9ad0-42b8-96e8-8340de8788d3",
   "metadata": {},
   "outputs": [],
   "source": [
    "best_match = data[0]"
   ]
  },
  {
   "cell_type": "code",
   "execution_count": null,
   "id": "53709d51-14df-410e-8cb0-e6e0e6ba6c01",
   "metadata": {},
   "outputs": [],
   "source": [
    "best_match[0].evalue, best_match[0].bitscore"
   ]
  },
  {
   "cell_type": "code",
   "execution_count": null,
   "id": "761c10b0-1ce3-4107-80f6-dbf35f6543d9",
   "metadata": {},
   "outputs": [],
   "source": [
    "alignment = best_match[0].aln\n",
    "len(alignment)"
   ]
  },
  {
   "cell_type": "code",
   "execution_count": null,
   "id": "02e563bd-2c5f-47f9-88b0-8576ef099800",
   "metadata": {},
   "outputs": [],
   "source": [
    "alignment[0]"
   ]
  },
  {
   "cell_type": "code",
   "execution_count": null,
   "id": "d11e1159-331c-4653-bae2-a0de6b7352cf",
   "metadata": {},
   "outputs": [],
   "source": [
    "a = alignment[0]"
   ]
  },
  {
   "cell_type": "code",
   "execution_count": null,
   "id": "8a7654d6-2907-44ad-a784-2a152d45118d",
   "metadata": {},
   "outputs": [],
   "source": [
    "a.annotations\n",
    "# id\n",
    "# annotations\n",
    "# description\n",
    "# features"
   ]
  }
 ],
 "metadata": {
  "kernelspec": {
   "display_name": "Python 3 (ipykernel)",
   "language": "python",
   "name": "python3"
  },
  "language_info": {
   "codemirror_mode": {
    "name": "ipython",
    "version": 3
   },
   "file_extension": ".py",
   "mimetype": "text/x-python",
   "name": "python",
   "nbconvert_exporter": "python",
   "pygments_lexer": "ipython3",
   "version": "3.12.0"
  }
 },
 "nbformat": 4,
 "nbformat_minor": 5
}
