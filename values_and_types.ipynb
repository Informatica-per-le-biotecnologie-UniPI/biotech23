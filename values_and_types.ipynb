{
 "cells": [
  {
   "cell_type": "markdown",
   "id": "b7cd8b6f-669f-4eeb-abc6-a8e70ed488eb",
   "metadata": {},
   "source": [
    "# Notebook\n",
    "\n",
    "Un (Jupyter) notebook fornisce un interprete Python \"a celle\": possiamo eseguire passo passo il nostro codice. `Ctrl + Enter` per eseguire una cella, o i pulsanti qui sopra."
   ]
  },
  {
   "cell_type": "markdown",
   "id": "11c8974f-1b02-4c33-be2b-a65d0a59e4cf",
   "metadata": {},
   "source": [
    "## Valori"
   ]
  },
  {
   "cell_type": "markdown",
   "id": "d6c55788-976a-42f9-9a81-cd99a5f3faa9",
   "metadata": {},
   "source": [
    "Il valore `None`, che indica l'assenza di valori."
   ]
  },
  {
   "cell_type": "code",
   "id": "57b42564-e4f5-4ba1-8ebd-c77b20284401",
   "metadata": {},
   "source": [
    "None"
   ],
   "outputs": [],
   "execution_count": null
  },
  {
   "cell_type": "markdown",
   "id": "35944ff9-7769-45de-9e51-5334d8094017",
   "metadata": {},
   "source": [
    "Valori interi."
   ]
  },
  {
   "cell_type": "code",
   "id": "c430d290-1a42-4ca8-a24e-75ee6e112b06",
   "metadata": {},
   "source": [
    "3"
   ],
   "outputs": [],
   "execution_count": null
  },
  {
   "cell_type": "markdown",
   "id": "32415293-fb5c-4925-b6c8-7d1698d8d0f6",
   "metadata": {},
   "source": [
    "Valori reali."
   ]
  },
  {
   "cell_type": "code",
   "id": "dc8ba35b-51d5-486d-8421-ae3fcdd09a67",
   "metadata": {},
   "source": [
    "4.1"
   ],
   "outputs": [],
   "execution_count": null
  },
  {
   "cell_type": "markdown",
   "id": "988478b0-5bb4-4829-96a2-371707fb0182",
   "metadata": {},
   "source": [
    "Valori stringa."
   ]
  },
  {
   "cell_type": "code",
   "id": "12b94245-e580-4cdf-b5dc-49c3455a4f24",
   "metadata": {},
   "source": [
    "\"ACGTTTAC\""
   ],
   "outputs": [],
   "execution_count": null
  },
  {
   "cell_type": "markdown",
   "id": "12920f90-2b92-4bef-b0a9-d29ed5f89c78",
   "metadata": {},
   "source": [
    "Valori booleani: vero o falso."
   ]
  },
  {
   "cell_type": "code",
   "id": "3d6fcec4-608e-4f50-9640-73274a690aad",
   "metadata": {},
   "source": [
    "True"
   ],
   "outputs": [],
   "execution_count": null
  },
  {
   "cell_type": "code",
   "id": "b10b0b79-f9e6-4db2-b461-03459820376f",
   "metadata": {},
   "source": [
    "False"
   ],
   "outputs": [],
   "execution_count": null
  },
  {
   "cell_type": "markdown",
   "id": "919b2b28-7957-45e7-9475-8c88ac82e6f5",
   "metadata": {},
   "source": [
    "## Espressioni\n",
    "\n",
    "Espressioni: combinano valori diversi, e **valutano** a un valore."
   ]
  },
  {
   "cell_type": "markdown",
   "id": "8219c590-11a3-4416-949a-8fffb77fbbfe",
   "metadata": {},
   "source": [
    "Espressioni numeriche **valutano** a un valore numerico.\n",
    "\n",
    "Operatori numerici:\n",
    "- `a + b` somma\n",
    "- `a - b` sottrazione\n",
    "- `a * b` moltiplicazione\n",
    "- `a / b` divisione, e `a // b` divisione intera\n",
    "- `a ** b` elevazione a potenza\n",
    "- `!= e ==` disuguaglianza e uguaglianza"
   ]
  },
  {
   "cell_type": "code",
   "id": "a09b0d2c-c4cc-4067-8451-932cc9f5fa94",
   "metadata": {},
   "source": [
    "3 + 4.1 * 2.4"
   ],
   "outputs": [],
   "execution_count": null
  },
  {
   "cell_type": "code",
   "id": "59f97372-2f8d-43e0-b8c1-45f60190aa76",
   "metadata": {},
   "source": [
    "3 ** 3"
   ],
   "outputs": [],
   "execution_count": null
  },
  {
   "cell_type": "markdown",
   "id": "a80f11e8-7c1b-4499-9945-f2f0fd15f9b4",
   "metadata": {},
   "source": [
    "Anche le stringhe supportano la somma, detta *concatenazione*."
   ]
  },
  {
   "cell_type": "code",
   "id": "2855f1e3-de1a-49e3-b1b9-1fa3f63737f5",
   "metadata": {},
   "source": [
    "\"ACGTT\" + \"TACG\""
   ],
   "outputs": [],
   "execution_count": null
  },
  {
   "cell_type": "markdown",
   "id": "23e87c12-c5e9-4c6d-ac52-d154b7c235fb",
   "metadata": {},
   "source": [
    "Espressioni booleane, **valutano** a valori booleani.\n",
    "\n",
    "Operatori booleani:\n",
    "- `and` valuta a `True` se e solo se entrambi gli operandi valuta a `True`\n",
    "- `or` valuta a `True` se almeno uno degli operandi valuta a `True`\n",
    "- `not` nega, trasformando `True` in `False`\n",
    "\n",
    "**and**\n",
    "| `and` | `True` | `False` |\n",
    "| -- | ------ | ------- |\n",
    "| `True` | `True` | `False` |\n",
    "| `False` | `False` | `False` |\n",
    "\n",
    "\n",
    "**or**\n",
    "| `or` | `True` | `False` |\n",
    "| -- | ------ | ------- |\n",
    "| `True` | `True` | `True` |\n",
    "| `False` | `True` | `False` |\n",
    "\n",
    "\n",
    "**not**\n",
    "| `not` | `True` | `False` |\n",
    "| -- | ------ | ------- |\n",
    "| - | `False` | `True` |"
   ]
  },
  {
   "cell_type": "markdown",
   "id": "af9ca470-3f2c-46a7-bf2a-bd38859a482d",
   "metadata": {},
   "source": [
    "## Tipi base\n",
    "Ad ogni valore viene (sempre!) associato un tipo che definisce gli operatori che gli si possono applicare:\n",
    "\n",
    "\n",
    "| | Tipo |\n",
    "| --- | --- |\n",
    "| Numero intero | `int` |\n",
    "| Numero reale | `float` |\n",
    "| Booleano | `bool` |\n",
    "| Stringa | `str` |\n",
    "\n",
    "Volete sapere il tipo di un'espressione/valore `e`? Usate `type(e)`, e.g., `type(3.14)`, che valuta il tipo di `3.14`.\n",
    "\n",
    "*Bonus.* Qual'e' il tipo cui valuta `type(3.14)`? E `type(4)`? E `type(\"ACGTT\")`? E `type(type)`?"
   ]
  },
  {
   "cell_type": "markdown",
   "id": "3bca4de3-9033-4077-a3c6-fe28b4050bfd",
   "metadata": {},
   "source": [
    "## Tipi collezione\n",
    "- `set` Definisce un insieme eterogeneo (anche vuoto) di valori: `{1.3, \"ACGT\"}`\n",
    "- `list` Definisce una lista di valori, indicizzata per posizione, che può' variare in lunghezza: `[1.3, \"ACGT\", 1.3]`\n",
    "- `tuple` Definisce una lista (a dimensione **fissa!**) di valori: `(1.3, \"ACGT\")`\n",
    "- `dict` Dizionario: mappa dei valori, indicizzati da delle *chiavi*, ad altri valori: `{\"A\": \"Adenosine\", \"T\": \"Thymine\"}`"
   ]
  },
  {
   "cell_type": "code",
   "id": "a006100c-5b2a-4f8c-94a0-4a7d05d90b83",
   "metadata": {},
   "source": [
    "{1.3, \"ACGT\"}"
   ],
   "outputs": [],
   "execution_count": null
  },
  {
   "cell_type": "code",
   "id": "fca252d7-86b7-480d-bc05-81f3d2ca55fd",
   "metadata": {},
   "source": [
    "[1.3, \"ACGT\", 1.3]"
   ],
   "outputs": [],
   "execution_count": null
  },
  {
   "cell_type": "code",
   "id": "ec1808ea-816c-459f-a7f1-5757e4e0b481",
   "metadata": {},
   "source": [
    "(1.3, \"ACGT\")"
   ],
   "outputs": [],
   "execution_count": null
  },
  {
   "cell_type": "code",
   "id": "c0ae36e3-4ea5-4886-bfae-4f7a272fa960",
   "metadata": {},
   "source": [
    "{\"A\": \"Adenosine\", \"T\": \"Thymine\"}"
   ],
   "outputs": [],
   "execution_count": null
  },
  {
   "cell_type": "markdown",
   "id": "ffae3d0d-2a90-4151-a731-61e18a1e2fe7",
   "metadata": {},
   "source": [
    "### Espressioni su tipi collezione\n",
    "\n",
    "- `element in collection` l'elemento e' nella collezione?\n",
    "- `collection[indice]` accedi all'elemento associato all'indice `indice` nella collezione\n",
    "- `collection[:indice]` sottocollezione che parte dall'inizio fino all'indice `indice`\n",
    "- `collection[indice:]` sottocollezione che parte dall'indice `indice` e arriva alla fine\n",
    "\n",
    "*Bonus.* A che tipo valutano queste espressioni?"
   ]
  },
  {
   "cell_type": "code",
   "id": "2b540eca-b0c9-4e92-8eb3-c2e447248bd8",
   "metadata": {},
   "source": [
    "\"A\" in {1.3, \"A\"}"
   ],
   "outputs": [],
   "execution_count": null
  },
  {
   "cell_type": "code",
   "id": "dd4202d6-d4ce-46fc-8c03-978c58181b7c",
   "metadata": {},
   "source": [
    "\"A\" in [1.3, \"A\"]"
   ],
   "outputs": [],
   "execution_count": null
  },
  {
   "cell_type": "code",
   "id": "acc4da29-ea22-4ce1-b71b-5dd69166ad7f",
   "metadata": {},
   "source": [
    "[1.3, \"A\"][0]"
   ],
   "outputs": [],
   "execution_count": null
  },
  {
   "cell_type": "code",
   "id": "3f5a263b-a66f-4057-818d-8febee344ebb",
   "metadata": {},
   "source": [
    "[1.3, \"A\"][1]"
   ],
   "outputs": [],
   "execution_count": null
  },
  {
   "cell_type": "code",
   "id": "50719912-1233-47c8-a204-32d0e05a9235",
   "metadata": {},
   "source": [
    "[1.3, \"A\", True, None][:2]"
   ],
   "outputs": [],
   "execution_count": null
  },
  {
   "cell_type": "code",
   "id": "138dde19-798a-431b-a7e4-d0d4f1705604",
   "metadata": {},
   "source": [
    "[1.3, \"A\", True, None][2:]"
   ],
   "outputs": [],
   "execution_count": null
  },
  {
   "cell_type": "code",
   "id": "2af5e105-9d0c-4f5b-907c-cd39f2360f98",
   "metadata": {},
   "source": [
    "{1.3, \"A\"}[0]"
   ],
   "outputs": [],
   "execution_count": null
  },
  {
   "cell_type": "code",
   "id": "7bbe3baf-01d9-4b05-9f82-6452430f9b4c",
   "metadata": {},
   "source": [
    "{\"A\": \"Adenosine\", \"T\": \"Thymine\"}[\"A\"]"
   ],
   "outputs": [],
   "execution_count": null
  },
  {
   "cell_type": "code",
   "id": "7a75925c-0b8c-42a0-96a9-b425ef498860",
   "metadata": {},
   "source": [
    "{\"A\": \"Adenosine\", \"T\": \"Thymine\"}[\"T\"]"
   ],
   "outputs": [],
   "execution_count": null
  },
  {
   "cell_type": "markdown",
   "id": "159a9edc-4b09-4b63-81e5-1157ea86245a",
   "metadata": {},
   "source": [
    "# Variabili\n",
    "\n",
    "Il valore e' transiente, una volta usato, viene \"consumato\", e non lo possiamo più' usare in futuro. La variabile ci permette di salvare valori in memoria.\n",
    "\n",
    "In Python, salviamo valori in una variabile definendo un *nome*, un *tipo* (opzionale, ma consigliato), e un valore, che, come suggerisce il nome, potremo poi cambiare in futuro."
   ]
  },
  {
   "cell_type": "code",
   "id": "07d16a87-b6dc-4be8-aaef-2dd31decdfb3",
   "metadata": {},
   "source": [
    "genome_with_type: str = \"ACGTC\"\n",
    "genome_without_type = \"ACGTC\""
   ],
   "outputs": [],
   "execution_count": null
  },
  {
   "cell_type": "markdown",
   "id": "248a5b4d-e893-4680-948e-61c61413c3c2",
   "metadata": {},
   "source": [
    "**Tutto** cio' che potevamo fare su valori/espressioni, lo possiamo fare su variabili!"
   ]
  },
  {
   "cell_type": "code",
   "id": "50e37cb0-8e25-400a-8a29-acd9a2c81bbc",
   "metadata": {},
   "source": [
    "an_integer: int = 3\n",
    "a_real: float = 3.14\n",
    "genome: str = \"ACGTC\"\n",
    "\n",
    "an_integer + 1"
   ],
   "outputs": [],
   "execution_count": null
  },
  {
   "cell_type": "code",
   "id": "5c6d2dba-568d-4dd3-9e68-0d2fa1eedd99",
   "metadata": {},
   "source": [
    "an_integer: int = 3\n",
    "a_real: float = 3.14\n",
    "genome: str = \"ACGTC\"\n",
    "\n",
    "a_real * 2"
   ],
   "outputs": [],
   "execution_count": null
  },
  {
   "cell_type": "code",
   "id": "ce483f25-c630-4b04-8a75-84cf41634ab5",
   "metadata": {},
   "source": [
    "\"CGTT\" + genome + \"A\""
   ],
   "outputs": [],
   "execution_count": null
  },
  {
   "metadata": {},
   "cell_type": "markdown",
   "source": "---",
   "id": "556e481074241f32"
  },
  {
   "metadata": {},
   "cell_type": "markdown",
   "source": [
    "# Up to you!\n",
    "\n",
    "Usando i costrutti visti fino a ora, (e con grosse semplificazioni) si vuole modellare:\n",
    "1. Un *rattus norvegicus*\n",
    "2. Una colonia di *rattus norvegicus*\n",
    "3. Una proteina\n",
    "4. Una formica\n",
    "5. Una colonia di formiche\n",
    "6. Un albero genealogico di *rattus norvegicus*\n",
    "\n",
    "Per ognuna:\n",
    "1. definisci quali sono le proprietà che intendi definire\n",
    "2. trova, tra quelli indicati, un tipo che ritieni adatto\n",
    "3. definisci alcune variabili di esempio\n",
    "\n"
   ],
   "id": "37fc605a538b3475"
  }
 ],
 "metadata": {
  "kernelspec": {
   "display_name": "Python 3 (ipykernel)",
   "language": "python",
   "name": "python3"
  },
  "language_info": {
   "codemirror_mode": {
    "name": "ipython",
    "version": 3
   },
   "file_extension": ".py",
   "mimetype": "text/x-python",
   "name": "python",
   "nbconvert_exporter": "python",
   "pygments_lexer": "ipython3",
   "version": "3.12.4"
  }
 },
 "nbformat": 4,
 "nbformat_minor": 5
}
