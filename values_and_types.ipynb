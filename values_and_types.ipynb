{
 "cells": [
  {
   "cell_type": "markdown",
   "id": "b7cd8b6f-669f-4eeb-abc6-a8e70ed488eb",
   "metadata": {},
   "source": [
    "# Notebook\n",
    "\n",
    "Un (Jupyter) notebook fornisce un interprete Python \"a celle\": possiamo eseguire passo passo il nostro codice. `Ctrl + Enter` per eseguire una cella, o i pulsanti qui sopra. Una volta eseguita, una cella valuta l'ultima espressione che trovate al suo interno.\n",
    "\n",
    "**NB:** Tutti i comandi eseguiti su celle di questo notebook possono essere riprodotti sia sulla console Python che su [colab](https://colab.google.com)."
   ]
  },
  {
   "cell_type": "markdown",
   "id": "11c8974f-1b02-4c33-be2b-a65d0a59e4cf",
   "metadata": {},
   "source": [
    "## Valori"
   ]
  },
  {
   "cell_type": "markdown",
   "id": "d6c55788-976a-42f9-9a81-cd99a5f3faa9",
   "metadata": {},
   "source": [
    "Il valore `None`, che indica l'assenza di valori."
   ]
  },
  {
   "cell_type": "code",
   "execution_count": 1,
   "id": "57b42564-e4f5-4ba1-8ebd-c77b20284401",
   "metadata": {},
   "outputs": [],
   "source": [
    "None"
   ]
  },
  {
   "cell_type": "markdown",
   "id": "35944ff9-7769-45de-9e51-5334d8094017",
   "metadata": {},
   "source": [
    "Valori interi."
   ]
  },
  {
   "cell_type": "code",
   "execution_count": 2,
   "id": "c430d290-1a42-4ca8-a24e-75ee6e112b06",
   "metadata": {},
   "outputs": [
    {
     "data": {
      "text/plain": [
       "7"
      ]
     },
     "execution_count": 2,
     "metadata": {},
     "output_type": "execute_result"
    }
   ],
   "source": [
    "7"
   ]
  },
  {
   "cell_type": "markdown",
   "id": "32415293-fb5c-4925-b6c8-7d1698d8d0f6",
   "metadata": {},
   "source": [
    "Valori reali."
   ]
  },
  {
   "cell_type": "code",
   "execution_count": 3,
   "id": "dc8ba35b-51d5-486d-8421-ae3fcdd09a67",
   "metadata": {},
   "outputs": [
    {
     "data": {
      "text/plain": [
       "9.4"
      ]
     },
     "execution_count": 3,
     "metadata": {},
     "output_type": "execute_result"
    }
   ],
   "source": [
    "9.4"
   ]
  },
  {
   "cell_type": "markdown",
   "id": "988478b0-5bb4-4829-96a2-371707fb0182",
   "metadata": {},
   "source": [
    "Valori stringa."
   ]
  },
  {
   "cell_type": "code",
   "execution_count": 4,
   "id": "12b94245-e580-4cdf-b5dc-49c3455a4f24",
   "metadata": {},
   "outputs": [
    {
     "data": {
      "text/plain": [
       "'ACGTTAC'"
      ]
     },
     "execution_count": 4,
     "metadata": {},
     "output_type": "execute_result"
    }
   ],
   "source": [
    "'ACGTTAC'"
   ]
  },
  {
   "cell_type": "markdown",
   "id": "756ee5aa-38d4-4f2f-ba91-57408ee82b53",
   "metadata": {},
   "source": [
    "Le stringhe possono essere usate con `'` o `\"`, usando una notazione possiamo usare l'altra al suo interno."
   ]
  },
  {
   "cell_type": "code",
   "execution_count": 5,
   "id": "4cc452ac-5590-43da-a7c4-5b5a015d3e30",
   "metadata": {},
   "outputs": [
    {
     "data": {
      "text/plain": [
       "\"Un'apostrofo rosa\""
      ]
     },
     "execution_count": 5,
     "metadata": {},
     "output_type": "execute_result"
    }
   ],
   "source": [
    "\"Un'apostrofo rosa\""
   ]
  },
  {
   "cell_type": "code",
   "execution_count": 6,
   "id": "d675cb68-8fc0-41a4-a1e8-a4ba81648f08",
   "metadata": {},
   "outputs": [
    {
     "data": {
      "text/plain": [
       "'Si, mi \"piace\" scrivere programmi.'"
      ]
     },
     "execution_count": 6,
     "metadata": {},
     "output_type": "execute_result"
    }
   ],
   "source": [
    "'Si, mi \"piace\" scrivere programmi.'"
   ]
  },
  {
   "cell_type": "markdown",
   "id": "12920f90-2b92-4bef-b0a9-d29ed5f89c78",
   "metadata": {},
   "source": [
    "Valori booleani: vero o falso."
   ]
  },
  {
   "cell_type": "code",
   "execution_count": 7,
   "id": "3d6fcec4-608e-4f50-9640-73274a690aad",
   "metadata": {},
   "outputs": [
    {
     "data": {
      "text/plain": [
       "True"
      ]
     },
     "execution_count": 7,
     "metadata": {},
     "output_type": "execute_result"
    }
   ],
   "source": [
    "True"
   ]
  },
  {
   "cell_type": "code",
   "execution_count": 8,
   "id": "b10b0b79-f9e6-4db2-b461-03459820376f",
   "metadata": {},
   "outputs": [
    {
     "data": {
      "text/plain": [
       "False"
      ]
     },
     "execution_count": 8,
     "metadata": {},
     "output_type": "execute_result"
    }
   ],
   "source": [
    "False"
   ]
  },
  {
   "cell_type": "markdown",
   "id": "919b2b28-7957-45e7-9475-8c88ac82e6f5",
   "metadata": {},
   "source": [
    "## Espressioni\n",
    "\n",
    "Espressioni: combinano valori diversi, e **valutano** a un valore."
   ]
  },
  {
   "cell_type": "markdown",
   "id": "8219c590-11a3-4416-949a-8fffb77fbbfe",
   "metadata": {},
   "source": [
    "Espressioni numeriche **valutano** a un valore numerico.\n",
    "\n",
    "Operatori numerici:\n",
    "- `a + b` somma\n",
    "- `a - b` sottrazione\n",
    "- `a * b` moltiplicazione\n",
    "- `a / b` divisione, e `a // b` divisione intera\n",
    "- `a ** b` elevazione a potenza\n",
    "- `!= e ==` disuguaglianza e uguaglianza"
   ]
  },
  {
   "cell_type": "code",
   "execution_count": 9,
   "id": "a09b0d2c-c4cc-4067-8451-932cc9f5fa94",
   "metadata": {},
   "outputs": [
    {
     "data": {
      "text/plain": [
       "12.839999999999998"
      ]
     },
     "execution_count": 9,
     "metadata": {},
     "output_type": "execute_result"
    }
   ],
   "source": [
    "3 + 4.1 * 2.4"
   ]
  },
  {
   "cell_type": "code",
   "execution_count": 10,
   "id": "59f97372-2f8d-43e0-b8c1-45f60190aa76",
   "metadata": {},
   "outputs": [
    {
     "data": {
      "text/plain": [
       "27"
      ]
     },
     "execution_count": 10,
     "metadata": {},
     "output_type": "execute_result"
    }
   ],
   "source": [
    "3 ** 3"
   ]
  },
  {
   "cell_type": "markdown",
   "id": "a80f11e8-7c1b-4499-9945-f2f0fd15f9b4",
   "metadata": {},
   "source": [
    "Anche le stringhe supportano la somma, detta *concatenazione*."
   ]
  },
  {
   "cell_type": "code",
   "execution_count": 11,
   "id": "2855f1e3-de1a-49e3-b1b9-1fa3f63737f5",
   "metadata": {},
   "outputs": [
    {
     "data": {
      "text/plain": [
       "'ACGTTTACG'"
      ]
     },
     "execution_count": 11,
     "metadata": {},
     "output_type": "execute_result"
    }
   ],
   "source": [
    "\"ACGTT\" + \"TACG\""
   ]
  },
  {
   "cell_type": "markdown",
   "id": "0002c310-052a-4641-9ca7-c73e64097b22",
   "metadata": {},
   "source": [
    "Nota: non possiamo sottrarre stringhe."
   ]
  },
  {
   "cell_type": "code",
   "execution_count": 12,
   "id": "665ddca1-3e2a-4248-a2e5-192ea555e6a8",
   "metadata": {},
   "outputs": [
    {
     "ename": "TypeError",
     "evalue": "unsupported operand type(s) for -: 'str' and 'str'",
     "output_type": "error",
     "traceback": [
      "\u001b[0;31m---------------------------------------------------------------------------\u001b[0m",
      "\u001b[0;31mTypeError\u001b[0m                                 Traceback (most recent call last)",
      "Cell \u001b[0;32mIn[12], line 1\u001b[0m\n\u001b[0;32m----> 1\u001b[0m \u001b[38;5;124;43m\"\u001b[39;49m\u001b[38;5;124;43mA\u001b[39;49m\u001b[38;5;124;43m\"\u001b[39;49m\u001b[43m \u001b[49m\u001b[38;5;241;43m-\u001b[39;49m\u001b[43m \u001b[49m\u001b[38;5;124;43m\"\u001b[39;49m\u001b[38;5;124;43mC\u001b[39;49m\u001b[38;5;124;43m\"\u001b[39;49m\n",
      "\u001b[0;31mTypeError\u001b[0m: unsupported operand type(s) for -: 'str' and 'str'"
     ]
    }
   ],
   "source": [
    "\"A\" - \"C\""
   ]
  },
  {
   "cell_type": "markdown",
   "id": "7e8bad01-93e2-4518-9592-a1fb878fd173",
   "metadata": {},
   "source": [
    "Python genera un errore (`TypeError`), che ci indica che l'operatore `-` non supporta tipi `str`."
   ]
  },
  {
   "cell_type": "markdown",
   "id": "23e87c12-c5e9-4c6d-ac52-d154b7c235fb",
   "metadata": {},
   "source": [
    "Espressioni booleane, **valutano** a valori booleani.\n",
    "\n",
    "Operatori booleani:\n",
    "- `and` valuta a `True` se e solo se entrambi gli operandi valutano a `True`\n",
    "- `or` valuta a `True` se almeno uno degli operandi valuta a `True`\n",
    "- `not` nega, trasformando `True` in `False`, e `False` in `True` "
   ]
  },
  {
   "cell_type": "code",
   "execution_count": 13,
   "id": "b963ba03-9819-4882-a400-8b5ae3b1f596",
   "metadata": {},
   "outputs": [
    {
     "data": {
      "text/plain": [
       "True"
      ]
     },
     "execution_count": 13,
     "metadata": {},
     "output_type": "execute_result"
    }
   ],
   "source": [
    "True and True"
   ]
  },
  {
   "cell_type": "code",
   "execution_count": 14,
   "id": "d38a78f7-81c9-42f4-b8fe-f001bacdf61e",
   "metadata": {},
   "outputs": [
    {
     "data": {
      "text/plain": [
       "False"
      ]
     },
     "execution_count": 14,
     "metadata": {},
     "output_type": "execute_result"
    }
   ],
   "source": [
    "False and True"
   ]
  },
  {
   "cell_type": "code",
   "execution_count": 15,
   "id": "3a0bc7d4-1222-4ac0-89ef-dfbc059b1388",
   "metadata": {},
   "outputs": [
    {
     "data": {
      "text/plain": [
       "True"
      ]
     },
     "execution_count": 15,
     "metadata": {},
     "output_type": "execute_result"
    }
   ],
   "source": [
    "False or True"
   ]
  },
  {
   "cell_type": "code",
   "execution_count": 16,
   "id": "37d11298-a31a-44f7-aea8-42d3177d0855",
   "metadata": {},
   "outputs": [
    {
     "data": {
      "text/plain": [
       "True"
      ]
     },
     "execution_count": 16,
     "metadata": {},
     "output_type": "execute_result"
    }
   ],
   "source": [
    "not False"
   ]
  },
  {
   "cell_type": "markdown",
   "id": "879bddf6-de0c-4225-8fe9-c72a54123901",
   "metadata": {},
   "source": [
    "### Espressioni\n",
    "\n",
    "Nota: possiamo comporre espressioni usando anche spazi:\n",
    "\n",
    "- `a + b`\n",
    "- `a+b`\n",
    "- `a      + b`\n",
    "\n",
    "sono tutte espressioni equivalenti."
   ]
  },
  {
   "cell_type": "markdown",
   "id": "af9ca470-3f2c-46a7-bf2a-bd38859a482d",
   "metadata": {},
   "source": [
    "## Tipi base\n",
    "Ad ogni valore viene (sempre!) associato un tipo che definisce gli operatori che gli si possono applicare:\n",
    "\n",
    "\n",
    "| | Tipo |\n",
    "| --- | --- |\n",
    "| Numero intero | `int` |\n",
    "| Numero reale | `float` |\n",
    "| Booleano | `bool` |\n",
    "| Stringa | `str` |\n",
    "\n",
    "Volete sapere il tipo di un'espressione/valore `e`? Usate `type(e)`, e.g., `type(3.14)`, che valuta il tipo di `3.14`.\n",
    "\n",
    "*Bonus.* Qual'e' il tipo cui valuta `type(3.14)`? E `type(4)`? E `type(\"ACGTT\")`? E `type(type)`?"
   ]
  },
  {
   "cell_type": "markdown",
   "id": "3bca4de3-9033-4077-a3c6-fe28b4050bfd",
   "metadata": {},
   "source": [
    "## Tipi collezione\n",
    "- `set` Definisce un insieme eterogeneo (anche vuoto) di valori: `{1.3, \"ACGT\"}`\n",
    "- `list` Definisce una lista di valori, indicizzata per posizione, che può' variare in lunghezza: `[1.3, \"ACGT\", 1.3]`\n",
    "- `tuple` Definisce una lista (a dimensione **fissa!**) di valori: `(1.3, \"ACGT\")`\n",
    "- `dict` Dizionario: mappa dei valori, indicizzati da delle *chiavi*, ad altri valori: `{\"A\": \"Adenosine\", \"T\": \"Thymine\"}`"
   ]
  },
  {
   "cell_type": "code",
   "execution_count": 17,
   "id": "a006100c-5b2a-4f8c-94a0-4a7d05d90b83",
   "metadata": {},
   "outputs": [
    {
     "data": {
      "text/plain": [
       "{1.3, 'ACGT'}"
      ]
     },
     "execution_count": 17,
     "metadata": {},
     "output_type": "execute_result"
    }
   ],
   "source": [
    "{1.3, \"ACGT\"}  # un insieme (usa graffe)"
   ]
  },
  {
   "cell_type": "code",
   "execution_count": 18,
   "id": "35bfb900-76e7-4310-a11f-dd4fbc4fa62e",
   "metadata": {},
   "outputs": [
    {
     "data": {
      "text/plain": [
       "{1.3, 'ACGT'}"
      ]
     },
     "execution_count": 18,
     "metadata": {},
     "output_type": "execute_result"
    }
   ],
   "source": [
    "{1.3, \"ACGT\", 1.3}"
   ]
  },
  {
   "cell_type": "code",
   "execution_count": 19,
   "id": "fca252d7-86b7-480d-bc05-81f3d2ca55fd",
   "metadata": {},
   "outputs": [
    {
     "data": {
      "text/plain": [
       "{1.3, 'ACGT'}"
      ]
     },
     "execution_count": 19,
     "metadata": {},
     "output_type": "execute_result"
    }
   ],
   "source": [
    "{1.3, \"ACGT\", 1.3, \"ACGT\"}"
   ]
  },
  {
   "cell_type": "code",
   "execution_count": 20,
   "id": "ec1808ea-816c-459f-a7f1-5757e4e0b481",
   "metadata": {},
   "outputs": [
    {
     "data": {
      "text/plain": [
       "(1.3, 'ACGT')"
      ]
     },
     "execution_count": 20,
     "metadata": {},
     "output_type": "execute_result"
    }
   ],
   "source": [
    "(1.3, \"ACGT\")  # una tupla (usa tonde)"
   ]
  },
  {
   "cell_type": "markdown",
   "id": "a51f65f2-b691-490f-8350-718e2897f416",
   "metadata": {},
   "source": [
    "Nota: possiamo inserire anche spazi o una nuova riga nella costruzione."
   ]
  },
  {
   "cell_type": "code",
   "execution_count": 21,
   "id": "c0ae36e3-4ea5-4886-bfae-4f7a272fa960",
   "metadata": {},
   "outputs": [
    {
     "data": {
      "text/plain": [
       "{'Rattus': ('ACGT', 23)}"
      ]
     },
     "execution_count": 21,
     "metadata": {},
     "output_type": "execute_result"
    }
   ],
   "source": [
    "{\n",
    "    \"Rattus\": (\"ACGT\", 23)\n",
    "}"
   ]
  },
  {
   "cell_type": "code",
   "execution_count": 22,
   "id": "41ab6a46-4566-497f-b021-eed2e5afd147",
   "metadata": {},
   "outputs": [
    {
     "data": {
      "text/plain": [
       "{'Rattus': ('ACGT', 23)}"
      ]
     },
     "execution_count": 22,
     "metadata": {},
     "output_type": "execute_result"
    }
   ],
   "source": [
    "{ \"Rattus\": (\"ACGT\",               23) }"
   ]
  },
  {
   "cell_type": "markdown",
   "id": "ffae3d0d-2a90-4151-a731-61e18a1e2fe7",
   "metadata": {},
   "source": [
    "### Espressioni su tipi collezione\n",
    "\n",
    "- `element in collection` l'elemento e' nella collezione?\n",
    "- `collection[indice]` accedi all'elemento associato all'indice `indice` nella collezione\n",
    "- `collection[:indice]` sottocollezione che parte dall'inizio fino all'indice `indice`\n",
    "- `collection[indice:]` sottocollezione che parte dall'indice `indice` e arriva alla fine\n",
    "- `collection[inizio:fine]` sottocollezione che parte dall'indice `inizio` e arriva all'indice `fine`"
   ]
  },
  {
   "cell_type": "code",
   "execution_count": 23,
   "id": "2b540eca-b0c9-4e92-8eb3-c2e447248bd8",
   "metadata": {},
   "outputs": [
    {
     "data": {
      "text/plain": [
       "True"
      ]
     },
     "execution_count": 23,
     "metadata": {},
     "output_type": "execute_result"
    }
   ],
   "source": [
    "\"A\" in {1.3, \"A\"}"
   ]
  },
  {
   "cell_type": "markdown",
   "id": "dfd1fa2c-e6b5-4829-9b74-960ec873199c",
   "metadata": {},
   "source": [
    "Per Python, le stringhe sono liste di caratteri!"
   ]
  },
  {
   "cell_type": "code",
   "execution_count": 24,
   "id": "4cf89d5f-8666-4039-911b-aed21b4763bb",
   "metadata": {},
   "outputs": [
    {
     "data": {
      "text/plain": [
       "True"
      ]
     },
     "execution_count": 24,
     "metadata": {},
     "output_type": "execute_result"
    }
   ],
   "source": [
    "\"A\" in \"ACGT\""
   ]
  },
  {
   "cell_type": "markdown",
   "id": "e24958f8-c0ee-47fa-9d36-cded0ab1c1a4",
   "metadata": {},
   "source": [
    "Le espressioni valutano a valori: posso sempre usare un'espressione al posto di un valore."
   ]
  },
  {
   "cell_type": "code",
   "execution_count": 25,
   "id": "dd4202d6-d4ce-46fc-8c03-978c58181b7c",
   "metadata": {},
   "outputs": [
    {
     "data": {
      "text/plain": [
       "True"
      ]
     },
     "execution_count": 25,
     "metadata": {},
     "output_type": "execute_result"
    }
   ],
   "source": [
    "\"A\" + \"T\" in [1.3, \"AT\"]"
   ]
  },
  {
   "cell_type": "markdown",
   "id": "dafbb650-0931-4494-8ce8-295932f1193c",
   "metadata": {},
   "source": [
    "Accessi a liste per indice."
   ]
  },
  {
   "cell_type": "code",
   "execution_count": 26,
   "id": "acc4da29-ea22-4ce1-b71b-5dd69166ad7f",
   "metadata": {},
   "outputs": [
    {
     "data": {
      "text/plain": [
       "1.3"
      ]
     },
     "execution_count": 26,
     "metadata": {},
     "output_type": "execute_result"
    }
   ],
   "source": [
    "[1.3, \"A\"][0]"
   ]
  },
  {
   "cell_type": "code",
   "execution_count": 27,
   "id": "9b45ac86-2f3d-414f-b0f1-531c0f7225ed",
   "metadata": {},
   "outputs": [
    {
     "data": {
      "text/plain": [
       "'T'"
      ]
     },
     "execution_count": 27,
     "metadata": {},
     "output_type": "execute_result"
    }
   ],
   "source": [
    "\"ACGTTGAC\"[4]"
   ]
  },
  {
   "cell_type": "code",
   "execution_count": 28,
   "id": "3f5a263b-a66f-4057-818d-8febee344ebb",
   "metadata": {},
   "outputs": [
    {
     "data": {
      "text/plain": [
       "'A'"
      ]
     },
     "execution_count": 28,
     "metadata": {},
     "output_type": "execute_result"
    }
   ],
   "source": [
    "[1.3, \"A\"][1]"
   ]
  },
  {
   "cell_type": "markdown",
   "id": "fda0a2dd-6d42-45c9-ac2b-d0bd1594f59e",
   "metadata": {},
   "source": [
    "Python permette anche accessi con indici negativi! Semplicemente, contiamo dalla fine."
   ]
  },
  {
   "cell_type": "code",
   "execution_count": 29,
   "id": "329822fa-3995-4104-8ab0-68003091eebb",
   "metadata": {},
   "outputs": [
    {
     "data": {
      "text/plain": [
       "'T'"
      ]
     },
     "execution_count": 29,
     "metadata": {},
     "output_type": "execute_result"
    }
   ],
   "source": [
    "\"ACGT\"[-1]"
   ]
  },
  {
   "cell_type": "code",
   "execution_count": 30,
   "id": "27b49eef-40ce-4933-8526-3c1048221f51",
   "metadata": {},
   "outputs": [
    {
     "data": {
      "text/plain": [
       "'GT'"
      ]
     },
     "execution_count": 30,
     "metadata": {},
     "output_type": "execute_result"
    }
   ],
   "source": [
    "\"ACGT\"[-2:]"
   ]
  },
  {
   "cell_type": "code",
   "execution_count": 31,
   "id": "50719912-1233-47c8-a204-32d0e05a9235",
   "metadata": {},
   "outputs": [
    {
     "data": {
      "text/plain": [
       "[1.3, 'A']"
      ]
     },
     "execution_count": 31,
     "metadata": {},
     "output_type": "execute_result"
    }
   ],
   "source": [
    "[1.3, \"A\", True, None][:2]"
   ]
  },
  {
   "cell_type": "code",
   "execution_count": 32,
   "id": "138dde19-798a-431b-a7e4-d0d4f1705604",
   "metadata": {},
   "outputs": [
    {
     "data": {
      "text/plain": [
       "[True, None]"
      ]
     },
     "execution_count": 32,
     "metadata": {},
     "output_type": "execute_result"
    }
   ],
   "source": [
    "[1.3, \"A\", True, None][2:]"
   ]
  },
  {
   "cell_type": "code",
   "execution_count": 33,
   "id": "108a78df-ac37-4c96-8e0e-2b1c73602c9f",
   "metadata": {},
   "outputs": [
    {
     "data": {
      "text/plain": [
       "[1.3, 'A', True, None]"
      ]
     },
     "execution_count": 33,
     "metadata": {},
     "output_type": "execute_result"
    }
   ],
   "source": [
    "[1.3, \"A\", True, None][0:]"
   ]
  },
  {
   "cell_type": "code",
   "execution_count": 34,
   "id": "613197e2-941d-4842-902e-c680d0c653fb",
   "metadata": {},
   "outputs": [
    {
     "data": {
      "text/plain": [
       "[2, 3]"
      ]
     },
     "execution_count": 34,
     "metadata": {},
     "output_type": "execute_result"
    }
   ],
   "source": [
    "[0, 1, 2, 3, 4, 5, 6, 7, 8, 9][2:4]"
   ]
  },
  {
   "cell_type": "code",
   "execution_count": 35,
   "id": "5adeaa96-3c3e-4fbf-8cef-c208500f23bc",
   "metadata": {},
   "outputs": [
    {
     "data": {
      "text/plain": [
       "True"
      ]
     },
     "execution_count": 35,
     "metadata": {},
     "output_type": "execute_result"
    }
   ],
   "source": [
    "0 in [0, 0]"
   ]
  },
  {
   "cell_type": "markdown",
   "id": "915483fb-a17c-485d-af4d-d3edbfe87011",
   "metadata": {},
   "source": [
    "Accessi... sbagliati"
   ]
  },
  {
   "cell_type": "code",
   "execution_count": 36,
   "id": "2af5e105-9d0c-4f5b-907c-cd39f2360f98",
   "metadata": {},
   "outputs": [
    {
     "name": "stderr",
     "output_type": "stream",
     "text": [
      "<>:1: SyntaxWarning: 'set' object is not subscriptable; perhaps you missed a comma?\n",
      "<>:1: SyntaxWarning: 'set' object is not subscriptable; perhaps you missed a comma?\n",
      "/tmp/ipykernel_1181569/4184256123.py:1: SyntaxWarning: 'set' object is not subscriptable; perhaps you missed a comma?\n",
      "  {1.3, \"A\"}[0]\n"
     ]
    },
    {
     "ename": "TypeError",
     "evalue": "'set' object is not subscriptable",
     "output_type": "error",
     "traceback": [
      "\u001b[0;31m---------------------------------------------------------------------------\u001b[0m",
      "\u001b[0;31mTypeError\u001b[0m                                 Traceback (most recent call last)",
      "Cell \u001b[0;32mIn[36], line 1\u001b[0m\n\u001b[0;32m----> 1\u001b[0m \u001b[43m{\u001b[49m\u001b[38;5;241;43m1.3\u001b[39;49m\u001b[43m,\u001b[49m\u001b[43m \u001b[49m\u001b[38;5;124;43m\"\u001b[39;49m\u001b[38;5;124;43mA\u001b[39;49m\u001b[38;5;124;43m\"\u001b[39;49m\u001b[43m}\u001b[49m\u001b[43m[\u001b[49m\u001b[38;5;241;43m0\u001b[39;49m\u001b[43m]\u001b[49m\n",
      "\u001b[0;31mTypeError\u001b[0m: 'set' object is not subscriptable"
     ]
    }
   ],
   "source": [
    "{1.3, \"A\"}[0]"
   ]
  },
  {
   "cell_type": "markdown",
   "id": "54a1b00a-c7c1-42b8-9449-3681320a7908",
   "metadata": {},
   "source": [
    "Python dice che un valore `set` non e' \"subscriptable\": non possiamo accedere agli elementi per indice, dato che un insieme non ha ordine! Lo stesso vale per tanti altri tipi."
   ]
  },
  {
   "cell_type": "code",
   "execution_count": 37,
   "id": "032de716-d299-4728-b974-1651ebd86236",
   "metadata": {},
   "outputs": [
    {
     "name": "stderr",
     "output_type": "stream",
     "text": [
      "<>:1: SyntaxWarning: 'bool' object is not subscriptable; perhaps you missed a comma?\n",
      "<>:1: SyntaxWarning: 'bool' object is not subscriptable; perhaps you missed a comma?\n",
      "/tmp/ipykernel_1181569/128037089.py:1: SyntaxWarning: 'bool' object is not subscriptable; perhaps you missed a comma?\n",
      "  True[0]\n"
     ]
    },
    {
     "ename": "TypeError",
     "evalue": "'bool' object is not subscriptable",
     "output_type": "error",
     "traceback": [
      "\u001b[0;31m---------------------------------------------------------------------------\u001b[0m",
      "\u001b[0;31mTypeError\u001b[0m                                 Traceback (most recent call last)",
      "Cell \u001b[0;32mIn[37], line 1\u001b[0m\n\u001b[0;32m----> 1\u001b[0m \u001b[38;5;28;43;01mTrue\u001b[39;49;00m\u001b[43m[\u001b[49m\u001b[38;5;241;43m0\u001b[39;49m\u001b[43m]\u001b[49m\n",
      "\u001b[0;31mTypeError\u001b[0m: 'bool' object is not subscriptable"
     ]
    }
   ],
   "source": [
    "True[0]"
   ]
  },
  {
   "cell_type": "code",
   "execution_count": 38,
   "id": "f0baea69-6e4e-4c4a-84f3-be811d44eab4",
   "metadata": {},
   "outputs": [
    {
     "name": "stderr",
     "output_type": "stream",
     "text": [
      "<>:1: SyntaxWarning: 'int' object is not subscriptable; perhaps you missed a comma?\n",
      "<>:1: SyntaxWarning: 'int' object is not subscriptable; perhaps you missed a comma?\n",
      "/tmp/ipykernel_1181569/2349106009.py:1: SyntaxWarning: 'int' object is not subscriptable; perhaps you missed a comma?\n",
      "  1[2]\n"
     ]
    },
    {
     "ename": "TypeError",
     "evalue": "'int' object is not subscriptable",
     "output_type": "error",
     "traceback": [
      "\u001b[0;31m---------------------------------------------------------------------------\u001b[0m",
      "\u001b[0;31mTypeError\u001b[0m                                 Traceback (most recent call last)",
      "Cell \u001b[0;32mIn[38], line 1\u001b[0m\n\u001b[0;32m----> 1\u001b[0m \u001b[38;5;241;43m1\u001b[39;49m\u001b[43m[\u001b[49m\u001b[38;5;241;43m2\u001b[39;49m\u001b[43m]\u001b[49m\n",
      "\u001b[0;31mTypeError\u001b[0m: 'int' object is not subscriptable"
     ]
    }
   ],
   "source": [
    "1[2]"
   ]
  },
  {
   "cell_type": "markdown",
   "id": "c04ab79f-6ed9-4c35-93b5-ca296bb8f3ab",
   "metadata": {},
   "source": [
    "...e accessi sbagliati valgono anche per dizionari!"
   ]
  },
  {
   "cell_type": "code",
   "execution_count": 39,
   "id": "7bbe3baf-01d9-4b05-9f82-6452430f9b4c",
   "metadata": {},
   "outputs": [
    {
     "ename": "KeyError",
     "evalue": "'a'",
     "output_type": "error",
     "traceback": [
      "\u001b[0;31m---------------------------------------------------------------------------\u001b[0m",
      "\u001b[0;31mKeyError\u001b[0m                                  Traceback (most recent call last)",
      "Cell \u001b[0;32mIn[39], line 1\u001b[0m\n\u001b[0;32m----> 1\u001b[0m \u001b[43m{\u001b[49m\u001b[38;5;124;43m\"\u001b[39;49m\u001b[38;5;124;43mA\u001b[39;49m\u001b[38;5;124;43m\"\u001b[39;49m\u001b[43m:\u001b[49m\u001b[43m \u001b[49m\u001b[38;5;124;43m\"\u001b[39;49m\u001b[38;5;124;43mAdenosine\u001b[39;49m\u001b[38;5;124;43m\"\u001b[39;49m\u001b[43m,\u001b[49m\u001b[43m \u001b[49m\u001b[38;5;124;43m\"\u001b[39;49m\u001b[38;5;124;43mT\u001b[39;49m\u001b[38;5;124;43m\"\u001b[39;49m\u001b[43m:\u001b[49m\u001b[43m \u001b[49m\u001b[38;5;124;43m\"\u001b[39;49m\u001b[38;5;124;43mThymine\u001b[39;49m\u001b[38;5;124;43m\"\u001b[39;49m\u001b[43m}\u001b[49m\u001b[43m[\u001b[49m\u001b[38;5;124;43m\"\u001b[39;49m\u001b[38;5;124;43ma\u001b[39;49m\u001b[38;5;124;43m\"\u001b[39;49m\u001b[43m]\u001b[49m\n",
      "\u001b[0;31mKeyError\u001b[0m: 'a'"
     ]
    }
   ],
   "source": [
    "{\"A\": \"Adenosine\", \"T\": \"Thymine\"}[\"a\"]"
   ]
  },
  {
   "cell_type": "code",
   "execution_count": 40,
   "id": "7a75925c-0b8c-42a0-96a9-b425ef498860",
   "metadata": {},
   "outputs": [
    {
     "data": {
      "text/plain": [
       "'Thymine'"
      ]
     },
     "execution_count": 40,
     "metadata": {},
     "output_type": "execute_result"
    }
   ],
   "source": [
    "{\"A\": \"Adenosine\", \"T\": \"Thymine\"}[\"T\"]"
   ]
  },
  {
   "cell_type": "markdown",
   "id": "159a9edc-4b09-4b63-81e5-1157ea86245a",
   "metadata": {},
   "source": [
    "# Variabili\n",
    "\n",
    "Il valore e' transiente, una volta usato, viene \"consumato\", e non lo possiamo più' usare in futuro. La variabile ci permette di salvare valori in memoria.\n",
    "\n",
    "In Python, salviamo valori in una variabile definendo un *nome*, un *tipo* (opzionale, ma consigliato), e un valore, che, come suggerisce il nome, potremo poi cambiare in futuro."
   ]
  },
  {
   "cell_type": "code",
   "execution_count": 41,
   "id": "07d16a87-b6dc-4be8-aaef-2dd31decdfb3",
   "metadata": {},
   "outputs": [],
   "source": [
    "genome_with_type: str = \"ACGTC\"\n",
    "genome_without_type = \"ACGTC\""
   ]
  },
  {
   "cell_type": "markdown",
   "id": "d71abfeb-e9a8-4c23-8631-0539c3b0283a",
   "metadata": {},
   "source": [
    "Domanda studenti: come confrontare due variabili trasformate?"
   ]
  },
  {
   "cell_type": "markdown",
   "id": "cf5b822b-1d21-478c-b359-4112ad1d9768",
   "metadata": {},
   "source": [
    "- prendo variabile X\n",
    "- la trasformo in X'\n",
    "- X' uguale a un Y?"
   ]
  },
  {
   "cell_type": "code",
   "execution_count": 42,
   "id": "5a41437c-5684-40d7-92ca-c5277f2e8538",
   "metadata": {},
   "outputs": [
    {
     "data": {
      "text/plain": [
       "True"
      ]
     },
     "execution_count": 42,
     "metadata": {},
     "output_type": "execute_result"
    }
   ],
   "source": [
    "genome_1 = \"ACG\"\n",
    "genome_2 = \"AC\"\n",
    "\n",
    "genome_2 + \"G\" == genome_1"
   ]
  },
  {
   "cell_type": "markdown",
   "id": "248a5b4d-e893-4680-948e-61c61413c3c2",
   "metadata": {},
   "source": [
    "**Tutto** cio' che potevamo fare su valori/espressioni, lo possiamo fare su variabili!"
   ]
  },
  {
   "cell_type": "code",
   "execution_count": 43,
   "id": "50e37cb0-8e25-400a-8a29-acd9a2c81bbc",
   "metadata": {},
   "outputs": [
    {
     "data": {
      "text/plain": [
       "4"
      ]
     },
     "execution_count": 43,
     "metadata": {},
     "output_type": "execute_result"
    }
   ],
   "source": [
    "an_integer: int = 3\n",
    "a_real: float = 3.14\n",
    "genome: str = \"ACGTC\"\n",
    "\n",
    "an_integer + 1"
   ]
  },
  {
   "cell_type": "markdown",
   "id": "1d94cf19-e336-4993-b250-30b619a72f57",
   "metadata": {},
   "source": [
    "Domanda studenti: come trovo un codone (tripletta) in un genoma?"
   ]
  },
  {
   "cell_type": "code",
   "execution_count": 44,
   "id": "b925cea3-020e-46ea-b71a-da306689fa84",
   "metadata": {},
   "outputs": [
    {
     "data": {
      "text/plain": [
       "True"
      ]
     },
     "execution_count": 44,
     "metadata": {},
     "output_type": "execute_result"
    }
   ],
   "source": [
    "\"CGT\" in genome"
   ]
  },
  {
   "cell_type": "code",
   "execution_count": 45,
   "id": "5c6d2dba-568d-4dd3-9e68-0d2fa1eedd99",
   "metadata": {},
   "outputs": [
    {
     "data": {
      "text/plain": [
       "6.28"
      ]
     },
     "execution_count": 45,
     "metadata": {},
     "output_type": "execute_result"
    }
   ],
   "source": [
    "an_integer: int = 3\n",
    "a_real: float = 3.14\n",
    "genome: str = \"ACGTC\"\n",
    "\n",
    "a_real * 2"
   ]
  },
  {
   "cell_type": "code",
   "execution_count": 46,
   "id": "ce483f25-c630-4b04-8a75-84cf41634ab5",
   "metadata": {},
   "outputs": [
    {
     "data": {
      "text/plain": [
       "'CGTACGTCA'"
      ]
     },
     "execution_count": 46,
     "metadata": {},
     "output_type": "execute_result"
    }
   ],
   "source": [
    "\"CGT\" + genome + \"A\""
   ]
  },
  {
   "cell_type": "markdown",
   "id": "556e481074241f32",
   "metadata": {},
   "source": [
    "---"
   ]
  },
  {
   "cell_type": "markdown",
   "id": "37fc605a538b3475",
   "metadata": {},
   "source": [
    "# Up to you!\n",
    "\n",
    "Usando i costrutti visti fino a ora, (e con grosse semplificazioni) si vuole modellare:\n",
    "1. Un *rattus norvegicus*\n",
    "2. Una colonia di *rattus norvegicus*\n",
    "3. Una proteina\n",
    "4. Una formica\n",
    "5. Una colonia di formiche\n",
    "6. Un albero genealogico di *rattus norvegicus*\n",
    "\n",
    "Per ognuna:\n",
    "1. definisci quali sono le proprietà che intendi definire\n",
    "2. trova, tra quelli indicati, un tipo che ritieni adatto\n",
    "3. definisci alcune variabili di esempio\n",
    "\n"
   ]
  },
  {
   "cell_type": "markdown",
   "id": "50c7a3b6-2eb6-4be1-b677-b8e4c32c8068",
   "metadata": {},
   "source": [
    "**Soluzioni** (possibili)."
   ]
  },
  {
   "cell_type": "markdown",
   "id": "e2058313-d328-49dc-b662-fa7ab06b512e",
   "metadata": {},
   "source": [
    "1. *Rattus norvegicus*"
   ]
  },
  {
   "cell_type": "code",
   "execution_count": 47,
   "id": "8c932308-617a-4d27-97e9-aea4ee707398",
   "metadata": {},
   "outputs": [],
   "source": [
    "# rattus\n",
    "\n",
    "# genoma\n",
    "genome: str\n",
    "# lunghezza coda\n",
    "tail_length: float  # float sta per numero con virgola\n",
    "\n",
    "# dimensione\n",
    "size_category: str\n",
    "\n",
    "# colore manto\n",
    "color: str\n",
    "\n",
    "# se hai questo ratto in casa, forse prendi la peste\n",
    "contagious: bool\n",
    "\n",
    "# domestico o selvatico?\n",
    "is_wild: bool\n",
    "\n",
    "# pacifico o aggressivo?\n",
    "is_aggressive: bool\n",
    "\n",
    "# mutato o non mutato?\n",
    "is_mutated: bool\n",
    "\n",
    "# maschio o femmina?\n",
    "is_male: bool\n",
    "\n",
    "# provenienza\n",
    "origin: str\n",
    "\n",
    "# eta'\n",
    "age: int # solo gli anni, o numero di giorni\n",
    "birth: int # numero di giorni, o mesi\n",
    "birth: str # e.g., 2024_10_25\n",
    "birth: dict  # indico giorno, mese, e anno\n",
    "birth: list # lista giorno, mese, e anno\n",
    "birth: tuple # (giorno, mese, e anno)"
   ]
  },
  {
   "cell_type": "markdown",
   "id": "b22503a6-0510-439a-be63-4610bdbf51cb",
   "metadata": {},
   "source": [
    "Nota: vedremo piu' avanti con le classi come \"impacchettare\" tutte queste variabili in un singolo tipo `Ratto`."
   ]
  },
  {
   "cell_type": "markdown",
   "id": "50698fae-98fe-4f70-b696-c9d60803a94f",
   "metadata": {},
   "source": [
    "2. Colonia di ratti"
   ]
  },
  {
   "cell_type": "code",
   "execution_count": null,
   "id": "7c8f8a5d-18a0-4ac0-9a07-299e43ac75e2",
   "metadata": {},
   "outputs": [],
   "source": [
    "# soluzione 1: assegno degli identificatori ai ratti, accedo mediante dizionario\n",
    "ratti = {\n",
    "    \"\": ...\n",
    "}"
   ]
  },
  {
   "cell_type": "code",
   "execution_count": null,
   "id": "d0adba5a-6a3b-44a2-a242-b5985ce152e1",
   "metadata": {},
   "outputs": [],
   "source": [
    "# soluzione 2: una lista dove inserisco i diversi ratti\n",
    "ratti = [ ... ]"
   ]
  },
  {
   "cell_type": "markdown",
   "id": "1ae8ddc5-9946-4549-b283-97c9baf84e89",
   "metadata": {},
   "source": [
    "Nota: una tupla e' sicuramente sbagliata: non posso aggiungere nuovi ratti! :("
   ]
  }
 ],
 "metadata": {
  "kernelspec": {
   "display_name": "Python 3 (ipykernel)",
   "language": "python",
   "name": "python3"
  },
  "language_info": {
   "codemirror_mode": {
    "name": "ipython",
    "version": 3
   },
   "file_extension": ".py",
   "mimetype": "text/x-python",
   "name": "python",
   "nbconvert_exporter": "python",
   "pygments_lexer": "ipython3",
   "version": "3.12.5"
  }
 },
 "nbformat": 4,
 "nbformat_minor": 5
}
