{
 "cells": [
  {
   "cell_type": "markdown",
   "id": "e004c1a9-98ba-4a6d-84e3-0edbc5ec99a7",
   "metadata": {},
   "source": [
    "# Classes and Objects\n",
    "\n",
    "Gli oggetti ci permettono di estendere il sistema dei tipi primitivo di Python: possiamo creare nuovi tipi!\n",
    "\n",
    "Sintassi:\n",
    "```\n",
    "class {ClassName}:\n",
    "    class_body\n",
    "```\n",
    "\n",
    "introduce una class (tipo) `{ClassName}` che ha al suo interno un corpo `class_body`. Una classe definisce:\n",
    "- un insieme di campi (*field*), che ne definiscono lo stato,\n",
    "- un insieme di funzioni (*methods*), che ne definiscono il comportamento.\n",
    "Accediamo a campi e metodi usando `object.field` o `object.method`, e.g.,\n",
    "```python\n",
    "l = [1, 2, 3]\n",
    "l.append(4)\n",
    "```\n",
    "Diversamente dalle funzioni, i metodi sono invocati solo dall'oggetto con `object.method`.\n",
    "\n",
    "\n",
    "In, particolare, in ogni classe definiamo un metodo `__init__` (detto *costruttore*) che ci permette di creare un oggetto di quella classe. All'interno della classe (e quindi degli oggetti instanziati) accediamo con `self`, che rappresenta l'oggetto. E.g.,\n",
    "```python\n",
    "class Student:\n",
    "    def __init__(self, name: str, surname: str):\n",
    "        self.name = name\n",
    "        self.surname = surname\n",
    "```\n",
    "definisce una classe `Studente` con un campo `name` e `surname`. Possiamo creare uno `Studente` invocando il costruttore:\n",
    "```python\n",
    "studente = Student(\"Alan\", \"Turing\")\n",
    "```\n",
    "Possiamo poi accedere ai campi dello studente con\n",
    "```python\n",
    "print(studente.name)\n",
    "print(studente.surname)\n",
    "```\n",
    "\n",
    "Possiamo aggiungere quanti metodi e campi vogliamo nelle nostre classi, fintanto che hanno nomi diversi. E.g.,\n",
    "```python\n",
    "class Student:\n",
    "    def __init__(self, name: str, surname: str, enrollment_number: int):\n",
    "        self.name = name\n",
    "        self.surname = surname\n",
    "        self.enrollment_number = enrollment_number\n",
    "        \n",
    "        self.exams = list()\n",
    "\n",
    "    def verify_exam(self, exam) -> Student:\n",
    "        \"\"\"Registra un esame della forma (nome_esame, voto esame). \"\"\"\n",
    "        self.exams.append(exam)\n",
    "\n",
    "        return self\n",
    "\n",
    "    def average(self) -> float:\n",
    "        \"\"\"Calcola la media dei voti dello studente\"\"\"\n",
    "        exam_average = sum([\n",
    "            exam_score\n",
    "            for exam_name, exam_score in self.exams\n",
    "        ])\n",
    "        exam_average = exam_average / len (self.exams)\n",
    "        \n",
    "        return exam_average \n",
    "\n",
    "studente = Student(\"Alan\", \"Turing\", \"123456\")\n",
    "print(studente.average())\n",
    "\n",
    "studente.verify_exam((\"Informatica per le biotecnologie\", 28))\n",
    "studente.verify_exam((\"Biologia molecolare\", 30))\n",
    "print(studente.average())\n",
    "```"
   ]
  },
  {
   "cell_type": "code",
   "execution_count": 4,
   "id": "2c543ce9-bb31-4bbe-b2d0-2ef256577b24",
   "metadata": {},
   "outputs": [
    {
     "name": "stdout",
     "output_type": "stream",
     "text": [
      "0\n",
      "29.0\n"
     ]
    }
   ],
   "source": [
    "# per ora ignoriamo\n",
    "from __future__ import annotations\n",
    "\n",
    "\n",
    "class Student:\n",
    "    def __init__(self, name: str, surname: str, enrollment_number: int):\n",
    "        self.name = name\n",
    "        self.surname = surname\n",
    "        self.enrollment_number = enrollment_number\n",
    "        \n",
    "        self.exams = list()\n",
    "\n",
    "    def verify_exam(self, exam) -> Student:\n",
    "        \"\"\"Registra un esame della forma (nome_esame, voto esame). \"\"\"\n",
    "        self.exams.append(exam)\n",
    "\n",
    "        return self\n",
    "\n",
    "    def average(self) -> float:\n",
    "        \"\"\"Calcola la media dei voti dello studente\"\"\"\n",
    "        exam_average = sum([\n",
    "            exam_score\n",
    "            for exam_name, exam_score in self.exams\n",
    "        ])\n",
    "        if exam_average > 0:\n",
    "            exam_average = exam_average / len (self.exams)\n",
    "        else:\n",
    "            exam_average = 0\n",
    "        \n",
    "        return exam_average \n",
    "\n",
    "studente = Student(\"Alan\", \"Turing\", \"123456\")\n",
    "print(studente.average())\n",
    "\n",
    "studente.verify_exam((\"Informatica per le biotecnologie\", 28))\n",
    "studente.verify_exam((\"Biologia molecolare\", 30))\n",
    "print(studente.average())"
   ]
  },
  {
   "cell_type": "markdown",
   "id": "37325092-8111-46c6-8d20-9c010d425349",
   "metadata": {},
   "source": [
    "---"
   ]
  },
  {
   "cell_type": "markdown",
   "id": "8a530622-78e2-4a5f-b805-5a8e676f4bdd",
   "metadata": {},
   "source": [
    "# Funzioni su classi\n",
    "\n",
    "Python offre alcune funzioni mirate alle classi:\n",
    "\n",
    "- `isinstance(value, class)`: il valore dato e' della classe data? E.g., `isinstance(3, int)`?\n",
    "- `hash(obj)`: calcola un valore numerico associato a un oggetto\n",
    "- `int(), float(), ...`: *casting* ci permette di convertire, quando possibile, un valore a un tipo dato. E.g., converto un numero con la virgola a intero con `int(number)`"
   ]
  },
  {
   "cell_type": "markdown",
   "id": "aba20352-bc8d-4930-bcad-1cf8c091f9c5",
   "metadata": {},
   "source": [
    "---"
   ]
  },
  {
   "cell_type": "markdown",
   "id": "f79a276e-1fa3-4b4f-82e3-cae3e0c0337e",
   "metadata": {},
   "source": [
    "# Up to you!\n",
    "Estendi la classe studente, includendo al suo interno dei metodi per\n",
    "- verificare se un esame con un nome dato e' stato passato;\n",
    "- trovare in che ordine e' stato passato, e.g., lo studente ha passato \"Informatica per le biotecnologie\" come ottavo esame;\n",
    "- cambiare il voto di un esame gia' passato;\n",
    "- dato un altro studente, restituisce `True` se lo studente ha passato piu' esami dell'altro, `False` altrimenti;\n",
    "- dato un altro studente, restituisce `True` se i due studenti hanno passato gli stessi esami, `False` altrimenti."
   ]
  },
  {
   "cell_type": "code",
   "execution_count": null,
   "id": "bbf2f3b6-39e1-4939-a87d-1644ca75dfb0",
   "metadata": {},
   "outputs": [],
   "source": []
  },
  {
   "cell_type": "markdown",
   "id": "7b5c46c9-1696-44e1-9811-297903dd3d12",
   "metadata": {},
   "source": [
    "Crea una classe `Corso`, in cui inserire studenti. Un `Corso` ha:\n",
    "- un nome\n",
    "- un codice\n",
    "- un numero di CFU associato\n",
    "- anno in cui si tiene\n",
    "- degli studenti che lo seguono"
   ]
  },
  {
   "cell_type": "code",
   "execution_count": null,
   "id": "a5f6ecfc-720d-4379-bfe3-c7ec0896dd89",
   "metadata": {},
   "outputs": [],
   "source": []
  },
  {
   "cell_type": "markdown",
   "id": "f0f53508-b0d3-476d-b2dc-cbf1567bc549",
   "metadata": {},
   "source": [
    "Crea un corso con diversi studenti."
   ]
  },
  {
   "cell_type": "markdown",
   "id": "538bc3b2-24b5-46e4-84b9-480003357132",
   "metadata": {},
   "source": [
    "---"
   ]
  },
  {
   "cell_type": "markdown",
   "id": "0f734b91-b785-408e-b805-708df1ef5f95",
   "metadata": {},
   "source": [
    "# Bacteria\n",
    "Crea una classe `Bacteria` con diversi campi:\n",
    "- `genome: str` contenente il genoma del batterio\n",
    "- `has_flagellum: bool` che indica se il batterio ha un flagellum o meno\n",
    "- `survival_temperature` che indica il range di temperature entro le quali il batterio riesce a sopravvivere (che tipo usare?)\n",
    "- `maximum_survival_pressure: int` che indica la pressione massima (in atmosfere) a cui il batterio puo' sopravvivere"
   ]
  },
  {
   "cell_type": "code",
   "execution_count": null,
   "id": "f377fc78-7e31-4553-bfd3-0031ddc7d989",
   "metadata": {},
   "outputs": [],
   "source": []
  },
  {
   "cell_type": "markdown",
   "id": "12c740ed-38f9-4f74-95e7-b109dd0242d0",
   "metadata": {},
   "source": [
    "# Archea\n",
    "Crea una classe `Archea` con diversi campi:\n",
    "- `genome: str` contenente il genoma del batterio\n",
    "- `has_flagellum: bool` che indica se il batterio ha un flagellum o meno\n",
    "- `survival_temperature` che indica il range di temperature entro le quali il batterio riesce a sopravvivere (che tipo usare?)\n",
    "- `maximum_survival_pressure: int` che indica la pressione massima (in atmosfere) a cui il batterio puo' sopravvivere"
   ]
  },
  {
   "cell_type": "code",
   "execution_count": null,
   "id": "aabf5296-ab28-4bcf-823c-16725f8ed717",
   "metadata": {},
   "outputs": [],
   "source": []
  },
  {
   "cell_type": "markdown",
   "id": "8a803c65-a894-4441-933a-f854a24392c0",
   "metadata": {},
   "source": [
    "# Metodi\n",
    "- Estendi le precedenti classi con un metodo `reproduce(self)` che restituisce una copia dell'oggetto.\n",
    "- Modifica il precedente metodo `reproduce(self)` in `reproduce(self, number_of_mutations: int)` che restituisce una copia dell'oggetto, solo che `number_of_mutations` basi nel`genome` sono mutate. Puoi usare la funzione `random_basis()` definita sotto per generare una base randomica.\n",
    "- Aggiungi un metodo `survives(self, temperature: int, pressure: int) -> bool` che indica se l'organismo sopravvive a una temperatura e/o pressione data.\n",
    "\n",
    "```python\n",
    "import random\n",
    "\n",
    "def random_basis() -> str:\n",
    "    basis = random.choice(\"ACGT\", k=1)\n",
    "    \n",
    "    return basis\n",
    "```"
   ]
  }
 ],
 "metadata": {
  "kernelspec": {
   "display_name": "Python 3 (ipykernel)",
   "language": "python",
   "name": "python3"
  },
  "language_info": {
   "codemirror_mode": {
    "name": "ipython",
    "version": 3
   },
   "file_extension": ".py",
   "mimetype": "text/x-python",
   "name": "python",
   "nbconvert_exporter": "python",
   "pygments_lexer": "ipython3",
   "version": "3.10.12"
  }
 },
 "nbformat": 4,
 "nbformat_minor": 5
}
